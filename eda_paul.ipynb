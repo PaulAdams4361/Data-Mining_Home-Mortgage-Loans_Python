{
 "cells": [
  {
   "cell_type": "code",
   "execution_count": 2,
   "metadata": {},
   "outputs": [
    {
     "data": {
      "text/plain": [
       "'C:\\\\Users\\\\Pablo\\\\Desktop\\\\Machine Learning I Project I'"
      ]
     },
     "execution_count": 2,
     "metadata": {},
     "output_type": "execute_result"
    }
   ],
   "source": [
    "import os\n",
    "import pandas as pd\n",
    "import numpy as np\n",
    "import matplotlib.pyplot as plt\n",
    "import math as math\n",
    "os.getcwd()"
   ]
  },
  {
   "cell_type": "code",
   "execution_count": 3,
   "metadata": {},
   "outputs": [
    {
     "data": {
      "text/html": [
       "<div>\n",
       "<style scoped>\n",
       "    .dataframe tbody tr th:only-of-type {\n",
       "        vertical-align: middle;\n",
       "    }\n",
       "\n",
       "    .dataframe tbody tr th {\n",
       "        vertical-align: top;\n",
       "    }\n",
       "\n",
       "    .dataframe thead th {\n",
       "        text-align: right;\n",
       "    }\n",
       "</style>\n",
       "<table border=\"1\" class=\"dataframe\">\n",
       "  <thead>\n",
       "    <tr style=\"text-align: right;\">\n",
       "      <th></th>\n",
       "      <th>SK_ID_CURR</th>\n",
       "      <th>TARGET</th>\n",
       "      <th>NAME_CONTRACT_TYPE</th>\n",
       "      <th>CODE_GENDER</th>\n",
       "      <th>FLAG_OWN_CAR</th>\n",
       "      <th>FLAG_OWN_REALTY</th>\n",
       "      <th>CNT_CHILDREN</th>\n",
       "      <th>AMT_INCOME_TOTAL</th>\n",
       "      <th>AMT_CREDIT</th>\n",
       "      <th>AMT_ANNUITY</th>\n",
       "      <th>...</th>\n",
       "      <th>FLAG_DOCUMENT_18</th>\n",
       "      <th>FLAG_DOCUMENT_19</th>\n",
       "      <th>FLAG_DOCUMENT_20</th>\n",
       "      <th>FLAG_DOCUMENT_21</th>\n",
       "      <th>AMT_REQ_CREDIT_BUREAU_HOUR</th>\n",
       "      <th>AMT_REQ_CREDIT_BUREAU_DAY</th>\n",
       "      <th>AMT_REQ_CREDIT_BUREAU_WEEK</th>\n",
       "      <th>AMT_REQ_CREDIT_BUREAU_MON</th>\n",
       "      <th>AMT_REQ_CREDIT_BUREAU_QRT</th>\n",
       "      <th>AMT_REQ_CREDIT_BUREAU_YEAR</th>\n",
       "    </tr>\n",
       "  </thead>\n",
       "  <tbody>\n",
       "    <tr>\n",
       "      <th>0</th>\n",
       "      <td>100002</td>\n",
       "      <td>1</td>\n",
       "      <td>Cash loans</td>\n",
       "      <td>M</td>\n",
       "      <td>N</td>\n",
       "      <td>Y</td>\n",
       "      <td>0</td>\n",
       "      <td>202500.0</td>\n",
       "      <td>406597.5</td>\n",
       "      <td>24700.5</td>\n",
       "      <td>...</td>\n",
       "      <td>0</td>\n",
       "      <td>0</td>\n",
       "      <td>0</td>\n",
       "      <td>0</td>\n",
       "      <td>0.0</td>\n",
       "      <td>0.0</td>\n",
       "      <td>0.0</td>\n",
       "      <td>0.0</td>\n",
       "      <td>0.0</td>\n",
       "      <td>1.0</td>\n",
       "    </tr>\n",
       "    <tr>\n",
       "      <th>1</th>\n",
       "      <td>100003</td>\n",
       "      <td>0</td>\n",
       "      <td>Cash loans</td>\n",
       "      <td>F</td>\n",
       "      <td>N</td>\n",
       "      <td>N</td>\n",
       "      <td>0</td>\n",
       "      <td>270000.0</td>\n",
       "      <td>1293502.5</td>\n",
       "      <td>35698.5</td>\n",
       "      <td>...</td>\n",
       "      <td>0</td>\n",
       "      <td>0</td>\n",
       "      <td>0</td>\n",
       "      <td>0</td>\n",
       "      <td>0.0</td>\n",
       "      <td>0.0</td>\n",
       "      <td>0.0</td>\n",
       "      <td>0.0</td>\n",
       "      <td>0.0</td>\n",
       "      <td>0.0</td>\n",
       "    </tr>\n",
       "    <tr>\n",
       "      <th>2</th>\n",
       "      <td>100004</td>\n",
       "      <td>0</td>\n",
       "      <td>Revolving loans</td>\n",
       "      <td>M</td>\n",
       "      <td>Y</td>\n",
       "      <td>Y</td>\n",
       "      <td>0</td>\n",
       "      <td>67500.0</td>\n",
       "      <td>135000.0</td>\n",
       "      <td>6750.0</td>\n",
       "      <td>...</td>\n",
       "      <td>0</td>\n",
       "      <td>0</td>\n",
       "      <td>0</td>\n",
       "      <td>0</td>\n",
       "      <td>0.0</td>\n",
       "      <td>0.0</td>\n",
       "      <td>0.0</td>\n",
       "      <td>0.0</td>\n",
       "      <td>0.0</td>\n",
       "      <td>0.0</td>\n",
       "    </tr>\n",
       "    <tr>\n",
       "      <th>3</th>\n",
       "      <td>100006</td>\n",
       "      <td>0</td>\n",
       "      <td>Cash loans</td>\n",
       "      <td>F</td>\n",
       "      <td>N</td>\n",
       "      <td>Y</td>\n",
       "      <td>0</td>\n",
       "      <td>135000.0</td>\n",
       "      <td>312682.5</td>\n",
       "      <td>29686.5</td>\n",
       "      <td>...</td>\n",
       "      <td>0</td>\n",
       "      <td>0</td>\n",
       "      <td>0</td>\n",
       "      <td>0</td>\n",
       "      <td>NaN</td>\n",
       "      <td>NaN</td>\n",
       "      <td>NaN</td>\n",
       "      <td>NaN</td>\n",
       "      <td>NaN</td>\n",
       "      <td>NaN</td>\n",
       "    </tr>\n",
       "    <tr>\n",
       "      <th>4</th>\n",
       "      <td>100007</td>\n",
       "      <td>0</td>\n",
       "      <td>Cash loans</td>\n",
       "      <td>M</td>\n",
       "      <td>N</td>\n",
       "      <td>Y</td>\n",
       "      <td>0</td>\n",
       "      <td>121500.0</td>\n",
       "      <td>513000.0</td>\n",
       "      <td>21865.5</td>\n",
       "      <td>...</td>\n",
       "      <td>0</td>\n",
       "      <td>0</td>\n",
       "      <td>0</td>\n",
       "      <td>0</td>\n",
       "      <td>0.0</td>\n",
       "      <td>0.0</td>\n",
       "      <td>0.0</td>\n",
       "      <td>0.0</td>\n",
       "      <td>0.0</td>\n",
       "      <td>0.0</td>\n",
       "    </tr>\n",
       "  </tbody>\n",
       "</table>\n",
       "<p>5 rows × 122 columns</p>\n",
       "</div>"
      ],
      "text/plain": [
       "   SK_ID_CURR  TARGET NAME_CONTRACT_TYPE CODE_GENDER FLAG_OWN_CAR  \\\n",
       "0      100002       1         Cash loans           M            N   \n",
       "1      100003       0         Cash loans           F            N   \n",
       "2      100004       0    Revolving loans           M            Y   \n",
       "3      100006       0         Cash loans           F            N   \n",
       "4      100007       0         Cash loans           M            N   \n",
       "\n",
       "  FLAG_OWN_REALTY  CNT_CHILDREN  AMT_INCOME_TOTAL  AMT_CREDIT  AMT_ANNUITY  \\\n",
       "0               Y             0          202500.0    406597.5      24700.5   \n",
       "1               N             0          270000.0   1293502.5      35698.5   \n",
       "2               Y             0           67500.0    135000.0       6750.0   \n",
       "3               Y             0          135000.0    312682.5      29686.5   \n",
       "4               Y             0          121500.0    513000.0      21865.5   \n",
       "\n",
       "   ...  FLAG_DOCUMENT_18 FLAG_DOCUMENT_19 FLAG_DOCUMENT_20 FLAG_DOCUMENT_21  \\\n",
       "0  ...                 0                0                0                0   \n",
       "1  ...                 0                0                0                0   \n",
       "2  ...                 0                0                0                0   \n",
       "3  ...                 0                0                0                0   \n",
       "4  ...                 0                0                0                0   \n",
       "\n",
       "  AMT_REQ_CREDIT_BUREAU_HOUR AMT_REQ_CREDIT_BUREAU_DAY  \\\n",
       "0                        0.0                       0.0   \n",
       "1                        0.0                       0.0   \n",
       "2                        0.0                       0.0   \n",
       "3                        NaN                       NaN   \n",
       "4                        0.0                       0.0   \n",
       "\n",
       "   AMT_REQ_CREDIT_BUREAU_WEEK  AMT_REQ_CREDIT_BUREAU_MON  \\\n",
       "0                         0.0                        0.0   \n",
       "1                         0.0                        0.0   \n",
       "2                         0.0                        0.0   \n",
       "3                         NaN                        NaN   \n",
       "4                         0.0                        0.0   \n",
       "\n",
       "   AMT_REQ_CREDIT_BUREAU_QRT  AMT_REQ_CREDIT_BUREAU_YEAR  \n",
       "0                        0.0                         1.0  \n",
       "1                        0.0                         0.0  \n",
       "2                        0.0                         0.0  \n",
       "3                        NaN                         NaN  \n",
       "4                        0.0                         0.0  \n",
       "\n",
       "[5 rows x 122 columns]"
      ]
     },
     "execution_count": 3,
     "metadata": {},
     "output_type": "execute_result"
    }
   ],
   "source": [
    "with open('./application_train.csv') as file:\n",
    "    train = pd.read_csv(file)\n",
    "train.head()"
   ]
  },
  {
   "cell_type": "code",
   "execution_count": null,
   "metadata": {},
   "outputs": [],
   "source": [
    "#train['TARGET'].shape\n",
    "train.shape"
   ]
  },
  {
   "cell_type": "code",
   "execution_count": null,
   "metadata": {},
   "outputs": [],
   "source": [
    "train.describe()"
   ]
  },
  {
   "cell_type": "code",
   "execution_count": null,
   "metadata": {},
   "outputs": [],
   "source": [
    "pd.options.display.max_rows = 200\n",
    "print(train.dtypes)\n",
    "print(train.info())"
   ]
  },
  {
   "cell_type": "code",
   "execution_count": null,
   "metadata": {},
   "outputs": [],
   "source": [
    "train.head(10)"
   ]
  },
  {
   "cell_type": "code",
   "execution_count": null,
   "metadata": {},
   "outputs": [],
   "source": [
    "for col in train.columns:\n",
    "    if isinstance(col, float):\n",
    "        col = train[col]\n",
    "        col.log = np.log(col)"
   ]
  },
  {
   "cell_type": "code",
   "execution_count": 7,
   "metadata": {},
   "outputs": [
    {
     "data": {
      "image/png": "[encoded data removed]",
      "text/plain": [
       "<Figure size 432x288 with 1 Axes>"
      ]
     },
     "metadata": {
      "needs_background": "light"
     },
     "output_type": "display_data"
    }
   ],
   "source": [
    "#Useful transformations:\n",
    "#fig, axes = plt.subplots(1, 2)\n",
    "AMT_INCOME_TOTAL = train['AMT_INCOME_TOTAL']\n",
    "AMT_INCOME_TOTAL.log = np.log(AMT_INCOME_TOTAL)\n",
    "plt.hist(AMT_INCOME_TOTAL, range=[1600, 260000], color='blue',edgecolor='green',bins=2000); # raw data\n",
    "#plt.hist(AMT_INCOME_TOTAL.log, range=[5, 15], color='blue',edgecolor='green',bins=200); # transformed data"
   ]
  },
  {
   "cell_type": "code",
   "execution_count": 9,
   "metadata": {},
   "outputs": [
    {
     "data": {
      "image/png": "[encoded data removed]",
      "text/plain": [
       "<Figure size 432x288 with 1 Axes>"
      ]
     },
     "metadata": {
      "needs_background": "light"
     },
     "output_type": "display_data"
    }
   ],
   "source": [
    "AMT_CREDIT = train['AMT_CREDIT']\n",
    "AMT_CREDIT.log = np.log(AMT_CREDIT)\n",
    "# plt.hist(AMT_CREDIT, range=[40000, 4050000], color='blue',edgecolor='green',bins=2000); # raw data\n",
    "plt.hist(AMT_CREDIT.log, range=[5, 20], color='blue',edgecolor='green',bins=200); # transformed data"
   ]
  },
  {
   "cell_type": "code",
   "execution_count": null,
   "metadata": {},
   "outputs": [],
   "source": [
    "AMT_ANNUITY = train['AMT_ANNUITY']\n",
    "AMT_ANNUITY.log = np.log(AMT_ANNUITY)\n",
    "#plt.hist(AMT_ANNUITY, range=[1600, 260000], color='blue',edgecolor='green',bins=2000); # raw data\n",
    "plt.hist(AMT_ANNUITY.log, range=[5, 15], color='blue',edgecolor='green',bins=200); # transformed data\n",
    "#sns.distplot(total_income, hist=True, kde=False, bins=20, color='blue', hist_kws={'edgecolor':'green'})"
   ]
  },
  {
   "cell_type": "code",
   "execution_count": null,
   "metadata": {},
   "outputs": [],
   "source": [
    "AMT_GOODS_PRICE = train['AMT_GOODS_PRICE']\n",
    "AMT_GOODS_PRICE.log = np.log(AMT_GOODS_PRICE)\n",
    "#plt.hist(AMT_GOODS_PRICE, range=[1600, 260000], color='blue',edgecolor='green',bins=2000); # raw data\n",
    "plt.hist(AMT_GOODS_PRICE.log, range=[5, 15], color='blue',edgecolor='green',bins=200); # transformed data"
   ]
  },
  {
   "cell_type": "code",
   "execution_count": null,
   "metadata": {},
   "outputs": [],
   "source": [
    "REGION_POPULATION_RELATIVE = train['REGION_POPULATION_RELATIVE']\n",
    "REGION_POPULATION_RELATIVE.log = np.log(REGION_POPULATION_RELATIVE)\n",
    "#plt.hist(REGION_POPULATION_RELATIVE, range=[1600, 260000], color='blue',edgecolor='green',bins=2000); # raw data\n",
    "plt.hist(REGION_POPULATION_RELATIVE.log, range=[5, 15], color='blue',edgecolor='green',bins=200); # transformed data"
   ]
  },
  {
   "cell_type": "code",
   "execution_count": null,
   "metadata": {},
   "outputs": [],
   "source": [
    "DAYS_REGISTRATION = train['DAYS_REGISTRATION']\n",
    "DAYS_REGISTRATION.log = np.log(DAYS_REGISTRATION)\n",
    "#plt.hist(DAYS_REGISTRATION, range=[1600, 260000], color='blue',edgecolor='green',bins=2000); # raw data\n",
    "plt.hist(DAYS_REGISTRATION.log, range=[5, 15], color='blue',edgecolor='green',bins=200); # transformed data"
   ]
  },
  {
   "cell_type": "code",
   "execution_count": null,
   "metadata": {},
   "outputs": [],
   "source": [
    "OWN_CAR_AGE = train['OWN_CAR_AGE']\n",
    "OWN_CAR_AGE.log = np.log(OWN_CAR_AGE)\n",
    "#plt.hist(OWN_CAR_AGE, range=[1600, 260000], color='blue',edgecolor='green',bins=2000); # raw data\n",
    "plt.hist(OWN_CAR_AGE.log, range=[5, 15], color='blue',edgecolor='green',bins=200); # transformed data"
   ]
  },
  {
   "cell_type": "code",
   "execution_count": null,
   "metadata": {},
   "outputs": [],
   "source": [
    "CNT_FAM_MEMBERS = train['CNT_FAM_MEMBERS']\n",
    "CNT_FAM_MEMBERS.log = np.log(CNT_FAM_MEMBERS)\n",
    "#plt.hist(CNT_FAM_MEMBERS, range=[1600, 260000], color='blue',edgecolor='green',bins=2000); # raw data\n",
    "plt.hist(CNT_FAM_MEMBERS.log, range=[5, 15], color='blue',edgecolor='green',bins=200); # transformed data"
   ]
  },
  {
   "cell_type": "code",
   "execution_count": null,
   "metadata": {},
   "outputs": [],
   "source": [
    "EXT_SOURCE_1 = train['EXT_SOURCE_1'] #normalized score from external data source\n",
    "EXT_SOURCE_1.log = np.log(EXT_SOURCE_1)\n",
    "#plt.hist(EXT_SOURCE_1, range=[1600, 260000], color='blue',edgecolor='green',bins=2000); # raw data\n",
    "plt.hist(EXT_SOURCE_1.log, range=[5, 15], color='blue',edgecolor='green',bins=200); # transformed data"
   ]
  },
  {
   "cell_type": "code",
   "execution_count": null,
   "metadata": {},
   "outputs": [],
   "source": [
    "EXT_SOURCE_2 = train['EXT_SOURCE_2']\n",
    "EXT_SOURCE_2.log = np.log(EXT_SOURCE_2)\n",
    "#plt.hist(EXT_SOURCE_2, range=[1600, 260000], color='blue',edgecolor='green',bins=2000); # raw data\n",
    "plt.hist(EXT_SOURCE_2.log, range=[5, 15], color='blue',edgecolor='green',bins=200); # transformed data"
   ]
  },
  {
   "cell_type": "code",
   "execution_count": null,
   "metadata": {},
   "outputs": [],
   "source": [
    "EXT_SOURCE_3 = train['EXT_SOURCE_3']\n",
    "EXT_SOURCE_3.log = np.log(EXT_SOURCE_3)\n",
    "#plt.hist(EXT_SOURCE_3, range=[1600, 260000], color='blue',edgecolor='green',bins=2000); # raw data\n",
    "plt.hist(EXT_SOURCE_3.log, range=[5, 15], color='blue',edgecolor='green',bins=200); # transformed data"
   ]
  },
  {
   "cell_type": "code",
   "execution_count": null,
   "metadata": {},
   "outputs": [],
   "source": [
    "APARTMENTS_AVG = train['APARTMENTS_AVG']\n",
    "APARTMENTS_AVG.log = np.log(APARTMENTS_AVG)\n",
    "#plt.hist(APARTMENTS_AVG, range=[1600, 260000], color='blue',edgecolor='green',bins=2000); # raw data\n",
    "plt.hist(APARTMENTS_AVG.log, range=[5, 15], color='blue',edgecolor='green',bins=200); # transformed data"
   ]
  },
  {
   "cell_type": "code",
   "execution_count": null,
   "metadata": {},
   "outputs": [],
   "source": [
    "BASEMENTAREA_AVG = train['BASEMENTAREA_AVG']\n",
    "BASEMENTAREA_AVG.log = np.log(BASEMENTAREA_AVG)\n",
    "#plt.hist(BASEMENTAREA_AVG, range=[1600, 260000], color='blue',edgecolor='green',bins=2000); # raw data\n",
    "plt.hist(BASEMENTAREA_AVG.log, range=[5, 15], color='blue',edgecolor='green',bins=200); # transformed data"
   ]
  },
  {
   "cell_type": "code",
   "execution_count": null,
   "metadata": {},
   "outputs": [],
   "source": [
    "YEARS_BEGINEXPLUATATION_AVG = train['YEARS_BEGINEXPLUATATION_AVG'] # Normalized information about building where the client lives\n",
    "YEARS_BEGINEXPLUATATION_AVG.log = np.log(YEARS_BEGINEXPLUATATION_AVG)\n",
    "#plt.hist(YEARS_BEGINEXPLUATATION_AVG, range=[1600, 260000], color='blue',edgecolor='green',bins=2000); # raw data\n",
    "plt.hist(YEARS_BEGINEXPLUATATION_AVG.log, range=[5, 15], color='blue',edgecolor='green',bins=200); # transformed data"
   ]
  },
  {
   "cell_type": "code",
   "execution_count": null,
   "metadata": {},
   "outputs": [],
   "source": [
    "YEARS_BUILD_AVG = train['YEARS_BUILD_AVG']\n",
    "YEARS_BUILD_AVG.log = np.log(YEARS_BUILD_AVG)\n",
    "#plt.hist(YEARS_BUILD_AVG, range=[1600, 260000], color='blue',edgecolor='green',bins=2000); # raw data\n",
    "plt.hist(YEARS_BUILD_AVG.log, range=[5, 15], color='blue',edgecolor='green',bins=200); # transformed data"
   ]
  },
  {
   "cell_type": "code",
   "execution_count": null,
   "metadata": {},
   "outputs": [],
   "source": [
    "COMMONAREA_AVG = train['COMMONAREA_AVG']\n",
    "COMMONAREA_AVG.log = np.log(COMMONAREA_AVG)\n",
    "#plt.hist(COMMONAREA_AVG, range=[1600, 260000], color='blue',edgecolor='green',bins=2000); # raw data\n",
    "plt.hist(COMMONAREA_AVG.log, range=[5, 15], color='blue',edgecolor='green',bins=200); # transformed data"
   ]
  },
  {
   "cell_type": "code",
   "execution_count": null,
   "metadata": {},
   "outputs": [],
   "source": [
    "ELEVATORS_AVG = train['ELEVATORS_AVG']\n",
    "ELEVATORS_AVG.log = np.log(ELEVATORS_AVG)\n",
    "#plt.hist(ELEVATORS_AVG, range=[1600, 260000], color='blue',edgecolor='green',bins=2000); # raw data\n",
    "plt.hist(ELEVATORS_AVG.log, range=[5, 15], color='blue',edgecolor='green',bins=200); # transformed data"
   ]
  },
  {
   "cell_type": "code",
   "execution_count": null,
   "metadata": {},
   "outputs": [],
   "source": [
    "ENTRANCES_AVG = train['ENTRANCES_AVG']\n",
    "ENTRANCES_AVG.log = np.log(ENTRANCES_AVG)\n",
    "#plt.hist(ENTRANCES_AVG, range=[1600, 260000], color='blue',edgecolor='green',bins=2000); # raw data\n",
    "plt.hist(ENTRANCES_AVG.log, range=[5, 15], color='blue',edgecolor='green',bins=200); # transformed data"
   ]
  },
  {
   "cell_type": "code",
   "execution_count": null,
   "metadata": {},
   "outputs": [],
   "source": [
    "FLOORSMAX_AVG = train['FLOORSMAX_AVG']\n",
    "FLOORSMAX_AVG.log = np.log(FLOORSMAX_AVG)\n",
    "#plt.hist(FLOORSMAX_AVG, range=[1600, 260000], color='blue',edgecolor='green',bins=2000); # raw data\n",
    "plt.hist(FLOORSMAX_AVG.log, range=[5, 15], color='blue',edgecolor='green',bins=200); # transformed data"
   ]
  },
  {
   "cell_type": "code",
   "execution_count": null,
   "metadata": {},
   "outputs": [],
   "source": [
    "FLOORSMIN_AVG = train['FLOORSMIN_AVG']\n",
    "FLOORSMIN_AVG.log = np.log(FLOORSMIN_AVG)\n",
    "#plt.hist(FLOORSMIN_AVG, range=[1600, 260000], color='blue',edgecolor='green',bins=2000); # raw data\n",
    "plt.hist(FLOORSMIN_AVG.log, range=[5, 15], color='blue',edgecolor='green',bins=200); # transformed data"
   ]
  },
  {
   "cell_type": "code",
   "execution_count": null,
   "metadata": {},
   "outputs": [],
   "source": [
    "LANDAREA_AVG = train['LANDAREA_AVG']\n",
    "LANDAREA_AVG.log = np.log(LANDAREA_AVG)\n",
    "#plt.hist(LANDAREA_AVG, range=[1600, 260000], color='blue',edgecolor='green',bins=2000); # raw data\n",
    "plt.hist(LANDAREA_AVG.log, range=[5, 15], color='blue',edgecolor='green',bins=200); # transformed data"
   ]
  },
  {
   "cell_type": "code",
   "execution_count": null,
   "metadata": {},
   "outputs": [],
   "source": [
    "LIVINGAPARTMENTS_AVG = train['LIVINGAPARTMENTS_AVG']\n",
    "LIVINGAPARTMENTS_AVG.log = np.log(LIVINGAPARTMENTS_AVG)\n",
    "#plt.hist(LIVINGAPARTMENTS_AVG, range=[1600, 260000], color='blue',edgecolor='green',bins=2000); # raw data\n",
    "plt.hist(LIVINGAPARTMENTS_AVG.log, range=[5, 15], color='blue',edgecolor='green',bins=200); # transformed data"
   ]
  },
  {
   "cell_type": "code",
   "execution_count": null,
   "metadata": {},
   "outputs": [],
   "source": [
    "LIVINGAREA_AVG = train['LIVINGAREA_AVG']\n",
    "LIVINGAREA_AVG.log = np.log(LIVINGAREA_AVG)\n",
    "#plt.hist(LIVINGAREA_AVG, range=[1600, 260000], color='blue',edgecolor='green',bins=2000); # raw data\n",
    "plt.hist(LIVINGAREA_AVG.log, range=[5, 15], color='blue',edgecolor='green',bins=200); # transformed data"
   ]
  },
  {
   "cell_type": "code",
   "execution_count": null,
   "metadata": {},
   "outputs": [],
   "source": [
    "NONLIVINGAPARTMENTS_AVG = train['NONLIVINGAPARTMENTS_AVG']\n",
    "NONLIVINGAPARTMENTS_AVG.log = np.log(NONLIVINGAPARTMENTS_AVG)\n",
    "#plt.hist(NONLIVINGAPARTMENTS_AVG, range=[1600, 260000], color='blue',edgecolor='green',bins=2000); # raw data\n",
    "plt.hist(NONLIVINGAPARTMENTS_AVG.log, range=[5, 15], color='blue',edgecolor='green',bins=200); # transformed data"
   ]
  },
  {
   "cell_type": "code",
   "execution_count": null,
   "metadata": {},
   "outputs": [],
   "source": [
    "NONLIVINGAREA_AVG = train['NONLIVINGAREA_AVG']\n",
    "NONLIVINGAREA_AVG.log = np.log(NONLIVINGAREA_AVG)\n",
    "#plt.hist(NONLIVINGAREA_AVG, range=[1600, 260000], color='blue',edgecolor='green',bins=2000); # raw data\n",
    "plt.hist(NONLIVINGAREA_AVG.log, range=[5, 15], color='blue',edgecolor='green',bins=200); # transformed data"
   ]
  },
  {
   "cell_type": "code",
   "execution_count": null,
   "metadata": {},
   "outputs": [],
   "source": [
    "APARTMENTS_MODE = train['APARTMENTS_MODE']\n",
    "APARTMENTS_MODE.log = np.log(apartments_mode)\n",
    "#plt.hist(APARTMENTS_MODE, range=[1600, 260000], color='blue',edgecolor='green',bins=2000); # raw data\n",
    "plt.hist(APARTMENTS_MODE.log, range=[5, 15], color='blue',edgecolor='green',bins=200); # transformed data"
   ]
  },
  {
   "cell_type": "code",
   "execution_count": null,
   "metadata": {},
   "outputs": [],
   "source": [
    "BASEMENTAREA_MODE = train['BASEMENTAREA_MODE']\n",
    "BASEMENTAREA_MODE.log = np.log(basement_area_mode)\n",
    "#plt.hist(BASEMENTAREA_MODE, range=[1600, 260000], color='blue',edgecolor='green',bins=2000); # raw data\n",
    "plt.hist(BASEMENTAREA_MODE.log, range=[5, 15], color='blue',edgecolor='green',bins=200); # transformed data"
   ]
  },
  {
   "cell_type": "code",
   "execution_count": null,
   "metadata": {},
   "outputs": [],
   "source": [
    "YEARS_BEGINEXPLUATATION_MODE = train['YEARS_BEGINEXPLUATATION_MODE']\n",
    "YEARS_BEGINEXPLUATATION_MODE.log = np.log(YEARS_BEGINEXPLUATATION_MODE)\n",
    "#plt.hist(YEARS_BEGINEXPLUATATION_MODE, range=[1600, 260000], color='blue',edgecolor='green',bins=2000); # raw data\n",
    "plt.hist(YEARS_BEGINEXPLUATATION_MODE.log, range=[5, 15], color='blue',edgecolor='green',bins=200); # transformed data"
   ]
  },
  {
   "cell_type": "code",
   "execution_count": null,
   "metadata": {},
   "outputs": [],
   "source": [
    "YEARS_BUILD_MODE = train['YEARS_BUILD_MODE']\n",
    "YEARS_BUILD_MODE.log = np.log(YEARS_BUILD_MODE)\n",
    "#plt.hist(YEARS_BUILD_MODE, range=[1600, 260000], color='blue',edgecolor='green',bins=2000); # raw data\n",
    "plt.hist(YEARS_BUILD_MODE.log, range=[5, 15], color='blue',edgecolor='green',bins=200); # transformed data"
   ]
  },
  {
   "cell_type": "code",
   "execution_count": null,
   "metadata": {},
   "outputs": [],
   "source": [
    "COMMONAREA_MODE = train['COMMONAREA_MODE']\n",
    "COMMONAREA_MODE.log = np.log(COMMONAREA_MODE)\n",
    "#plt.hist(COMMONAREA_MODE, range=[1600, 260000], color='blue',edgecolor='green',bins=2000); # raw data\n",
    "plt.hist(COMMONAREA_MODE.log, range=[5, 15], color='blue',edgecolor='green',bins=200); # transformed data"
   ]
  },
  {
   "cell_type": "code",
   "execution_count": null,
   "metadata": {},
   "outputs": [],
   "source": [
    "ELEVATORS_MODE = train['ELEVATORS_MODE']\n",
    "ELEVATORS_MODE.log = np.log(ELEVATORS_MODE)\n",
    "#plt.hist(ELEVATORS_MODE, range=[1600, 260000], color='blue',edgecolor='green',bins=2000); # raw data\n",
    "plt.hist(ELEVATORS_MODE.log, range=[5, 15], color='blue',edgecolor='green',bins=200); # transformed data"
   ]
  },
  {
   "cell_type": "code",
   "execution_count": null,
   "metadata": {},
   "outputs": [],
   "source": [
    "ENTRANCES_MODE = train['ENTRANCES_MODE']\n",
    "ENTRANCES_MODE.log = np.log(ENTRANCES_MODE)\n",
    "#plt.hist(ENTRANCES_MODE, range=[1600, 260000], color='blue',edgecolor='green',bins=2000); # raw data\n",
    "plt.hist(ENTRANCES_MODE.log, range=[5, 15], color='blue',edgecolor='green',bins=200); # transformed data"
   ]
  },
  {
   "cell_type": "code",
   "execution_count": null,
   "metadata": {},
   "outputs": [],
   "source": [
    "FLOORSMAX_MODE = train['FLOORSMAX_MODE']\n",
    "FLOORSMAX_MODE.log = np.log(FLOORSMAX_MODE)\n",
    "#plt.hist(FLOORSMAX_MODE, range=[1600, 260000], color='blue',edgecolor='green',bins=2000); # raw data\n",
    "plt.hist(FLOORSMAX_MODE.log, range=[5, 15], color='blue',edgecolor='green',bins=200); # transformed data"
   ]
  },
  {
   "cell_type": "code",
   "execution_count": null,
   "metadata": {},
   "outputs": [],
   "source": [
    "FLOORSMIN_MODE = train['FLOORSMIN_MODE']\n",
    "FLOORSMIN_MODE.log = np.log(FLOORSMIN_MODE)\n",
    "#plt.hist(FLOORSMIN_MODE, range=[1600, 260000], color='blue',edgecolor='green',bins=2000) # raw data\n",
    "plt.hist(FLOORSMIN_MODE.log, range=[5, 15], color='blue',edgecolor='green',bins=200); # transformed data"
   ]
  },
  {
   "cell_type": "code",
   "execution_count": null,
   "metadata": {},
   "outputs": [],
   "source": [
    "LANDAREA_MODE = train['LANDAREA_MODE']\n",
    "LANDAREA_MODE.log = np.log(LANDAREA_MODE)\n",
    "#plt.hist(LANDAREA_MODE, range=[1600, 260000], color='blue',edgecolor='green',bins=2000); # raw data\n",
    "plt.hist(LANDAREA_MODE.log, range=[5, 15], color='blue',edgecolor='green',bins=200); # transformed data"
   ]
  },
  {
   "cell_type": "code",
   "execution_count": null,
   "metadata": {},
   "outputs": [],
   "source": [
    "LIVINGAPARTMENTS_MODE = train['LIVINGAPARTMENTS_MODE']\n",
    "LIVINGAPARTMENTS_MODE.log = np.log(LIVINGAPARTMENTS_MODE)\n",
    "#plt.hist(LIVINGAPARTMENTS_MODE, range=[1600, 260000], color='blue',edgecolor='green',bins=2000); # raw data\n",
    "plt.hist(LIVINGAPARTMENTS_MODE.log, range=[5, 15], color='blue',edgecolor='green',bins=200); # transformed data"
   ]
  },
  {
   "cell_type": "code",
   "execution_count": null,
   "metadata": {},
   "outputs": [],
   "source": [
    "LIVINGAREA_MODE = train['LIVINGAREA_MODE']\n",
    "LIVINGAREA_MODE.log = np.log(LIVINGAREA_MODE)\n",
    "#plt.hist(LIVINGAREA_MODE, range=[1600, 260000], color='blue',edgecolor='green',bins=2000); # raw data\n",
    "plt.hist(LIVINGAREA_MODE.log, range=[5, 15], color='blue',edgecolor='green',bins=200); # transformed data"
   ]
  },
  {
   "cell_type": "code",
   "execution_count": null,
   "metadata": {},
   "outputs": [],
   "source": [
    "NONLIVINGAPARTMENTS_MODE = train['NONLIVINGAPARTMENTS_MODE']\n",
    "NONLIVINGAPARTMENTS_MODE.log = np.log(NONLIVINGAPARTMENTS_MODE)\n",
    "#plt.hist(NONLIVINGAPARTMENTS_MODE, range=[1600, 260000], color='blue',edgecolor='green',bins=2000); # raw data\n",
    "plt.hist(NONLIVINGAPARTMENTS_MODE.log, range=[5, 15], color='blue',edgecolor='green',bins=200); # transformed data"
   ]
  },
  {
   "cell_type": "code",
   "execution_count": null,
   "metadata": {},
   "outputs": [],
   "source": [
    "NONLIVINGAREA_MODE = train['NONLIVINGAREA_MODE']\n",
    "NONLIVINGAREA_MODE.log = np.log(NONLIVINGAREA_MODE)\n",
    "#plt.hist(NONLIVINGAREA_MODE, range=[1600, 260000], color='blue',edgecolor='green',bins=2000); # raw data\n",
    "plt.hist(NONLIVINGAREA_MODE.log, range=[5, 15], color='blue',edgecolor='green',bins=200); # transformed data"
   ]
  },
  {
   "cell_type": "code",
   "execution_count": null,
   "metadata": {},
   "outputs": [],
   "source": [
    "APARTMENTS_MEDI = train['APARTMENTS_MEDI']\n",
    "APARTMENTS_MEDI.log = np.log(APARTMENTS_MEDI)\n",
    "#plt.hist(APARTMENTS_MEDI, range=[1600, 260000], color='blue',edgecolor='green',bins=2000); # raw data\n",
    "plt.hist(APARTMENTS_MEDI.log, range=[5, 15], color='blue',edgecolor='green',bins=200); # transformed data"
   ]
  },
  {
   "cell_type": "code",
   "execution_count": null,
   "metadata": {},
   "outputs": [],
   "source": [
    "BASEMENTAREA_MEDI = train['BASEMENTAREA_MEDI']\n",
    "BASEMENTAREA_MEDI.log = np.log(BASEMENTAREA_MEDI)\n",
    "#plt.hist(BASEMENTAREA_MEDI, range=[1600, 260000], color='blue',edgecolor='green',bins=2000); # raw data\n",
    "plt.hist(BASEMENTAREA_MEDI.log, range=[5, 15], color='blue',edgecolor='green',bins=200); # transformed data"
   ]
  },
  {
   "cell_type": "code",
   "execution_count": null,
   "metadata": {},
   "outputs": [],
   "source": [
    "YEARS_BEGINEXPLUATATION_MEDI = train['YEARS_BEGINEXPLUATATION_MEDI']\n",
    "YEARS_BEGINEXPLUATATION_MEDI.log = np.log(YEARS_BEGINEXPLUATATION_MEDI)\n",
    "#plt.hist(YEARS_BEGINEXPLUATATION_MEDI, range=[1600, 260000], color='blue',edgecolor='green',bins=2000); # raw data\n",
    "plt.hist(YEARS_BEGINEXPLUATATION_MEDI.log, range=[5, 15], color='blue',edgecolor='green',bins=200); # transformed data"
   ]
  },
  {
   "cell_type": "code",
   "execution_count": null,
   "metadata": {},
   "outputs": [],
   "source": [
    "YEARS_BUILD_MEDI = train['YEARS_BUILD_MEDI']\n",
    "YEARS_BUILD_MEDI.log = np.log(YEARS_BUILD_MEDI)\n",
    "#plt.hist(YEARS_BUILD_MEDI, range=[1600, 260000], color='blue',edgecolor='green',bins=2000); # raw data\n",
    "plt.hist(YEARS_BUILD_MEDI.log, range=[5, 15], color='blue',edgecolor='green',bins=200); # transformed data"
   ]
  },
  {
   "cell_type": "code",
   "execution_count": null,
   "metadata": {},
   "outputs": [],
   "source": [
    "COMMONAREA_MEDI = train['COMMONAREA_MEDI']\n",
    "COMMONAREA_MEDI.log = np.log(COMMONAREA_MEDI)\n",
    "#plt.hist(COMMONAREA_MEDI, range=[1600, 260000], color='blue',edgecolor='green',bins=2000); # raw data\n",
    "plt.hist(COMMONAREA_MEDI.log, range=[5, 15], color='blue',edgecolor='green',bins=200); # transformed data"
   ]
  },
  {
   "cell_type": "code",
   "execution_count": null,
   "metadata": {},
   "outputs": [],
   "source": [
    "ELEVATORS_MEDI = train['ELEVATORS_MEDI']\n",
    "ELEVATORS_MEDI.log = np.log(ELEVATORS_MEDI)\n",
    "#plt.hist(ELEVATORS_MEDI, range=[1600, 260000], color='blue',edgecolor='green',bins=2000); # raw data\n",
    "plt.hist(ELEVATORS_MEDI.log, range=[5, 15], color='blue',edgecolor='green',bins=200); # transformed data"
   ]
  },
  {
   "cell_type": "code",
   "execution_count": null,
   "metadata": {},
   "outputs": [],
   "source": [
    "ENTRANCES_MEDI = train['ENTRANCES_MEDI']\n",
    "ENTRANCES_MEDI.log = np.log(ENTRANCES_MEDI)\n",
    "#plt.hist(ENTRANCES_MEDI, range=[1600, 260000], color='blue',edgecolor='green',bins=2000); # raw data\n",
    "plt.hist(ENTRANCES_MEDI.log, range=[5, 15], color='blue',edgecolor='green',bins=200); # transformed data"
   ]
  },
  {
   "cell_type": "code",
   "execution_count": null,
   "metadata": {},
   "outputs": [],
   "source": [
    "FLOORSMAX_MEDI = train['FLOORSMAX_MEDI']\n",
    "FLOORSMAX_MEDI.log = np.log(FLOORSMAX_MEDI)\n",
    "#plt.hist(FLOORSMAX_MEDI, range=[1600, 260000], color='blue',edgecolor='green',bins=2000); # raw data\n",
    "plt.hist(FLOORSMAX_MEDI.log, range=[5, 15], color='blue',edgecolor='green',bins=200); # transformed data"
   ]
  },
  {
   "cell_type": "code",
   "execution_count": null,
   "metadata": {},
   "outputs": [],
   "source": [
    "FLOORSMIN_MEDI = train['FLOORSMIN_MEDI']\n",
    "FLOORSMIN_MEDI.log = np.log(FLOORSMIN_MEDI)\n",
    "#plt.hist(FLOORSMIN_MEDI, range=[1600, 260000], color='blue',edgecolor='green',bins=2000); # raw data\n",
    "plt.hist(FLOORSMIN_MEDI.log, range=[5, 15], color='blue',edgecolor='green',bins=200); # transformed data"
   ]
  },
  {
   "cell_type": "code",
   "execution_count": null,
   "metadata": {},
   "outputs": [],
   "source": [
    "LANDAREA_MEDI = train['LANDAREA_MEDI']\n",
    "LANDAREA_MEDI.log = np.log(LANDAREA_MEDI)\n",
    "#plt.hist(LANDAREA_MEDI, range=[1600, 260000], color='blue',edgecolor='green',bins=2000); # raw data\n",
    "plt.hist(LANDAREA_MEDI.log, range=[5, 15], color='blue',edgecolor='green',bins=200); # transformed data"
   ]
  },
  {
   "cell_type": "code",
   "execution_count": null,
   "metadata": {},
   "outputs": [],
   "source": [
    "LIVINGAPARTMENTS_MEDI = train['LIVINGAPARTMENTS_MEDI']\n",
    "LIVINGAPARTMENTS_MEDI.log = np.log(LIVINGAPARTMENTS_MEDI)\n",
    "#plt.hist(LIVINGAPARTMENTS_MEDI, range=[1600, 260000], color='blue',edgecolor='green',bins=2000); # raw data\n",
    "plt.hist(LIVINGAPARTMENTS_MEDI.log, range=[5, 15], color='blue',edgecolor='green',bins=200); # transformed data"
   ]
  },
  {
   "cell_type": "code",
   "execution_count": null,
   "metadata": {},
   "outputs": [],
   "source": [
    "LIVINGAREA_MEDI = train['LIVINGAREA_MEDI']\n",
    "LIVINGAREA_MEDI.log = np.log(LIVINGAREA_MEDI)\n",
    "#plt.hist(LIVINGAREA_MEDI, range=[1600, 260000], color='blue',edgecolor='green',bins=2000); # raw data\n",
    "plt.hist(LIVINGAREA_MEDI.log, range=[5, 15], color='blue',edgecolor='green',bins=200); # transformed data"
   ]
  },
  {
   "cell_type": "code",
   "execution_count": null,
   "metadata": {},
   "outputs": [],
   "source": [
    "NONLIVINGAPARTMENTS_MEDI = train['NONLIVINGAPARTMENTS_MEDI']\n",
    "NONLIVINGAPARTMENTS_MEDI.log = np.log(NONLIVINGAPARTMENTS_MEDI)\n",
    "#plt.hist(NONLIVINGAPARTMENTS_MEDI, range=[1600, 260000], color='blue',edgecolor='green',bins=2000); # raw data\n",
    "plt.hist(NONLIVINGAPARTMENTS_MEDI.log, range=[5, 15], color='blue',edgecolor='green',bins=200); # transformed data"
   ]
  },
  {
   "cell_type": "code",
   "execution_count": null,
   "metadata": {},
   "outputs": [],
   "source": [
    "NONLIVINGAREA_MEDI = train['NONLIVINGAREA_MEDI']\n",
    "NONLIVINGAREA_MEDI.log = np.log(NONLIVINGAREA_MEDI)\n",
    "#plt.hist(NONLIVINGAREA_MEDI, range=[1600, 260000], color='blue',edgecolor='green',bins=2000); # raw data\n",
    "plt.hist(NONLIVINGAREA_MEDI.log, range=[5, 15], color='blue',edgecolor='green',bins=200); # transformed data"
   ]
  },
  {
   "cell_type": "code",
   "execution_count": null,
   "metadata": {},
   "outputs": [],
   "source": [
    "FONDKAPREMONT_MODE = train['FONDKAPREMONT_MODE']\n",
    "FONDKAPREMONT_MODE.log = np.log(FONDKAPREMONT_MODE)\n",
    "#plt.hist(FONDKAPREMONT_MODE, range=[1600, 260000], color='blue',edgecolor='green',bins=2000); # raw data\n",
    "plt.hist(FONDKAPREMONT_MODE.log, range=[5, 15], color='blue',edgecolor='green',bins=200); # transformed data"
   ]
  },
  {
   "cell_type": "code",
   "execution_count": null,
   "metadata": {},
   "outputs": [],
   "source": [
    "TOTALAREA_MODE = train['TOTALAREA_MODE']\n",
    "TOTALAREA_MODE.log = np.log(TOTALAREA_MODE)\n",
    "#plt.hist(TOTALAREA_MODE, range=[1600, 260000], color='blue',edgecolor='green',bins=2000); # raw data\n",
    "plt.hist(TOTALAREA_MODE.log, range=[5, 15], color='blue',edgecolor='green',bins=200); # transformed data"
   ]
  },
  {
   "cell_type": "code",
   "execution_count": null,
   "metadata": {},
   "outputs": [],
   "source": [
    "OBS_30_CNT_SOCIAL_CIRCLE = train['OBS_30_CNT_SOCIAL_CIRCLE']\n",
    "OBS_30_CNT_SOCIAL_CIRCLE.log = np.log(OBS_30_CNT_SOCIAL_CIRCLE)\n",
    "#plt.hist(OBS_30_CNT_SOCIAL_CIRCLE, range=[1600, 260000], color='blue',edgecolor='green',bins=2000); # raw data\n",
    "plt.hist(OBS_30_CNT_SOCIAL_CIRCLE.log, range=[5, 15], color='blue',edgecolor='green',bins=200); # transformed data"
   ]
  },
  {
   "cell_type": "code",
   "execution_count": null,
   "metadata": {},
   "outputs": [],
   "source": [
    "DEF_30_CNT_SOCIAL_CIRCLE = train['DEF_30_CNT_SOCIAL_CIRCLE']\n",
    "DEF_30_CNT_SOCIAL_CIRCLE.log = np.log(DEF_30_CNT_SOCIAL_CIRCLE)\n",
    "#plt.hist(DEF_30_CNT_SOCIAL_CIRCLE, range=[1600, 260000], color='blue',edgecolor='green',bins=2000); # raw data\n",
    "plt.hist(DEF_30_CNT_SOCIAL_CIRCLE.log, range=[5, 15], color='blue',edgecolor='green',bins=200); # transformed data"
   ]
  },
  {
   "cell_type": "code",
   "execution_count": null,
   "metadata": {},
   "outputs": [],
   "source": [
    "OBS_60_CNT_SOCIAL_CIRCLE = train['OBS_60_CNT_SOCIAL_CIRCLE']\n",
    "OBS_60_CNT_SOCIAL_CIRCLE.log = np.log(OBS_60_CNT_SOCIAL_CIRCLE)\n",
    "#plt.hist(OBS_60_CNT_SOCIAL_CIRCLE, range=[1600, 260000], color='blue',edgecolor='green',bins=2000); # raw data\n",
    "plt.hist(OBS_60_CNT_SOCIAL_CIRCLE.log, range=[5, 15], color='blue',edgecolor='green',bins=200); # transformed data"
   ]
  },
  {
   "cell_type": "code",
   "execution_count": null,
   "metadata": {},
   "outputs": [],
   "source": [
    "DEF_60_CNT_SOCIAL_CIRCLE = train['DEF_60_CNT_SOCIAL_CIRCLE']\n",
    "DEF_60_CNT_SOCIAL_CIRCLE.log = np.log(DEF_60_CNT_SOCIAL_CIRCLE)\n",
    "#plt.hist(DEF_60_CNT_SOCIAL_CIRCLE, range=[1600, 260000], color='blue',edgecolor='green',bins=2000); # raw data\n",
    "plt.hist(DEF_60_CNT_SOCIAL_CIRCLE.log, range=[5, 15], color='blue',edgecolor='green',bins=200); # transformed data"
   ]
  },
  {
   "cell_type": "code",
   "execution_count": null,
   "metadata": {},
   "outputs": [],
   "source": [
    "DAYS_LAST_PHONE_CHANGE = train['DAYS_LAST_PHONE_CHANGE']\n",
    "DAYS_LAST_PHONE_CHANGE.log = np.log(DAYS_LAST_PHONE_CHANGE)\n",
    "#plt.hist(DAYS_LAST_PHONE_CHANGE, range=[1600, 260000], color='blue',edgecolor='green',bins=2000); # raw data\n",
    "plt.hist(DAYS_LAST_PHONE_CHANGE.log, range=[5, 15], color='blue',edgecolor='green',bins=200); # transformed data"
   ]
  },
  {
   "cell_type": "code",
   "execution_count": null,
   "metadata": {},
   "outputs": [],
   "source": [
    "AMT_REQ_CREDIT_BUREAU_HOUR = train['AMT_REQ_CREDIT_BUREAU_HOUR']\n",
    "AMT_REQ_CREDIT_BUREAU_HOUR.log = np.log(AMT_REQ_CREDIT_BUREAU_HOUR)\n",
    "#plt.hist(AMT_REQ_CREDIT_BUREAU_HOUR, range=[1600, 260000], color='blue',edgecolor='green',bins=2000); # raw data\n",
    "plt.hist(AMT_REQ_CREDIT_BUREAU_HOUR.log, range=[5, 15], color='blue',edgecolor='green',bins=200); # transformed data"
   ]
  },
  {
   "cell_type": "code",
   "execution_count": null,
   "metadata": {},
   "outputs": [],
   "source": [
    "AMT_REQ_CREDIT_BUREAU_DAY = train['AMT_REQ_CREDIT_BUREAU_DAY']\n",
    "AMT_REQ_CREDIT_BUREAU_DAY.log = np.log(AMT_REQ_CREDIT_BUREAU_DAY)\n",
    "#plt.hist(AMT_REQ_CREDIT_BUREAU_DAY, range=[1600, 260000], color='blue',edgecolor='green',bins=2000); # raw data\n",
    "plt.hist(AMT_REQ_CREDIT_BUREAU_DAY.log, range=[5, 15], color='blue',edgecolor='green',bins=200); # transformed data"
   ]
  },
  {
   "cell_type": "code",
   "execution_count": null,
   "metadata": {},
   "outputs": [],
   "source": [
    "AMT_REQ_CREDIT_BUREAU_WEEK = train['AMT_REQ_CREDIT_BUREAU_WEEK']\n",
    "AMT_REQ_CREDIT_BUREAU_WEEK.log = np.log(AMT_REQ_CREDIT_BUREAU_WEEK)\n",
    "#plt.hist(AMT_REQ_CREDIT_BUREAU_WEEK, range=[1600, 260000], color='blue',edgecolor='green',bins=2000); # raw data\n",
    "plt.hist(AMT_REQ_CREDIT_BUREAU_WEEK.log, range=[5, 15], color='blue',edgecolor='green',bins=200); # transformed data"
   ]
  },
  {
   "cell_type": "code",
   "execution_count": null,
   "metadata": {},
   "outputs": [],
   "source": [
    "AMT_REQ_CREDIT_BUREAU_MON = train['AMT_REQ_CREDIT_BUREAU_MON']\n",
    "AMT_REQ_CREDIT_BUREAU_MON.log = np.log(AMT_REQ_CREDIT_BUREAU_MON)\n",
    "#plt.hist(AMT_REQ_CREDIT_BUREAU_MON, range=[1600, 260000], color='blue',edgecolor='green',bins=2000); # raw data\n",
    "plt.hist(AMT_REQ_CREDIT_BUREAU_MON.log, range=[5, 15], color='blue',edgecolor='green',bins=200); # transformed data"
   ]
  },
  {
   "cell_type": "code",
   "execution_count": null,
   "metadata": {},
   "outputs": [],
   "source": [
    "AMT_REQ_CREDIT_BUREAU_QRT = train['AMT_REQ_CREDIT_BUREAU_QRT']\n",
    "AMT_REQ_CREDIT_BUREAU_QRT.log = np.log(AMT_REQ_CREDIT_BUREAU_QRT)\n",
    "#plt.hist(AMT_REQ_CREDIT_BUREAU_QRT, range=[1600, 260000], color='blue',edgecolor='green',bins=2000); # raw data\n",
    "plt.hist(AMT_REQ_CREDIT_BUREAU_QRT.log, range=[5, 15], color='blue',edgecolor='green',bins=200); # transformed data"
   ]
  },
  {
   "cell_type": "code",
   "execution_count": null,
   "metadata": {},
   "outputs": [],
   "source": [
    "AMT_REQ_CREDIT_BUREAU_YEAR = train['AMT_REQ_CREDIT_BUREAU_YEAR']\n",
    "AMT_REQ_CREDIT_BUREAU_YEAR.log = np.log(AMT_REQ_CREDIT_BUREAU_YEAR)\n",
    "#plt.hist(AMT_REQ_CREDIT_BUREAU_YEAR, range=[1600, 260000], color='blue',edgecolor='green',bins=2000); # raw data\n",
    "plt.hist(AMT_REQ_CREDIT_BUREAU_YEAR.log, range=[5, 15], color='blue',edgecolor='green',bins=200); # transformed data"
   ]
  }
 ],
 "metadata": {
  "kernelspec": {
   "display_name": "Python 3",
   "language": "python",
   "name": "python3"
  },
  "language_info": {
   "codemirror_mode": {
    "name": "ipython",
    "version": 3
   },
   "file_extension": ".py",
   "mimetype": "text/x-python",
   "name": "python",
   "nbconvert_exporter": "python",
   "pygments_lexer": "ipython3",
   "version": "3.7.3"
  }
 },
 "nbformat": 4,
 "nbformat_minor": 2
}
