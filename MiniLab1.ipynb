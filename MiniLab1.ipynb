{
 "cells": [
  {
   "cell_type": "code",
   "execution_count": 56,
   "metadata": {},
   "outputs": [],
   "source": [
    "import os\n",
    "os.chdir('c:/users/pablo/desktop/ml7331/')"
   ]
  },
  {
   "cell_type": "code",
   "execution_count": 57,
   "metadata": {},
   "outputs": [],
   "source": [
    "# Import Libraries Required.\n",
    "\n",
    "import pandas as pd\n",
    "import matplotlib.pyplot as plt\n",
    "%matplotlib inline\n",
    "import numpy as np\n",
    "import seaborn as sns\n",
    "\n",
    "# import custom code\n",
    "from cleaning import read_clean_data, missing_values_table, load_bureau, create_newFeatures, merge_newFeatures, fill_occupation_type\n",
    "from tables import count_values_table\n",
    "\n",
    "# some defaults\n",
    "pd_max_rows_default = 60\n",
    "\n",
    "#removing warnings\n",
    "import warnings\n",
    "warnings.simplefilter('ignore')"
   ]
  },
  {
   "cell_type": "code",
   "execution_count": 58,
   "metadata": {},
   "outputs": [],
   "source": [
    "# load data \n",
    "# path =  './application_train.csv'\n",
    "# note that XNA is a encoding for NA interpret as np.nan\n",
    "df =  pd.read_csv('./application_train.csv',\n",
    "                 na_values = ['XNA'])\n",
    "#loading bureau dataset\n",
    "\n",
    "bureau = pd.read_csv('./bureau.csv',\n",
    "                    na_values = ['XNA'])"
   ]
  },
  {
   "cell_type": "code",
   "execution_count": 59,
   "metadata": {},
   "outputs": [],
   "source": [
    "# read in the clean data and verify there are no missing values\n",
    "pd.set_option('display.max_rows', 122)\n",
    "data = read_clean_data()\n",
    "\n",
    "# load the bureau dataset if not loaded\n",
    "if 'bureau' not in globals():\n",
    "    bureau = pd.read_csv('./bureau.csv', na_values = ['XNA'])\n",
    "\n",
    "#engineering features from bureau dataset\n",
    "newFeatures = create_newFeatures(bureau)\n",
    "newFeatures.head()\n",
    "newFeatures = newFeatures.fillna(0)\n",
    "# merge datasets on loan ID\n",
    "data = data.merge(newFeatures, on = 'SK_ID_CURR', how = 'left')\n",
    "# fill all NAs with 0 in the new columns\n",
    "fn_columns = list(newFeatures.columns)\n",
    "for name in fn_columns:\n",
    "    data[name] = data[name].fillna(0)"
   ]
  },
  {
   "cell_type": "code",
   "execution_count": 60,
   "metadata": {},
   "outputs": [],
   "source": [
    "        ###############################################################################################################################\n",
    "        ###############################################################################################################################\n",
    "        ###############################################################################################################################\n",
    "        #########                                                                                                             ######### \n",
    "        ######                                                                                                                   ######\n",
    "        ###     This block normalizes the numeric data in the dataframe, then drops outliers based on the 3rd standard deviation    ###\n",
    "        ######                                                                                                                   ######\n",
    "        #########                                                                                                             #########\n",
    "        ###############################################################################################################################\n",
    "        ###############################################################################################################################\n",
    "        ###############################################################################################################################\n",
    "\n",
    "from scipy import stats\n",
    "\n",
    "# transform data\n",
    "data['DAYS_REGISTRATION'] = (data['DAYS_REGISTRATION'].astype(float)**(1/2))\n",
    "data['ANNUITY_INCOME_RATIO'] = (data['ANNUITY_INCOME_RATIO'].astype(float)**(1/3))\n",
    "data['CREDIT_INCOME_RATIO'] = (data['CREDIT_INCOME_RATIO'].astype(float)**(1/7))\n",
    "data['AMT_ANNUITY'] = (data['AMT_ANNUITY'].astype(float)**(1/4))\n",
    "data['DAYS_EMPLOYED'] = (data['DAYS_EMPLOYED'].astype(float)**(1/5))\n",
    "data['PERCENT_EMPLOYED_TO_AGE'] = (data['PERCENT_EMPLOYED_TO_AGE'].astype(float)**(1/2))\n",
    "data['AMT_GOODS_PRICE'] = (data['AMT_GOODS_PRICE'].astype(float)**(1/6))\n",
    "data['AMT_INCOME_TOTAL'] = (data['AMT_INCOME_TOTAL'].astype(float)**(1/50))\n",
    "data['AMT_CREDIT'] = (data['AMT_CREDIT'].astype(float)**(1/6))\n",
    "data['REGION_POPULATION_RELATIVE'] = (data['REGION_POPULATION_RELATIVE'].astype(float)**(1/2))\n",
    "data['DAYS_ID_PUBLISH'] = (data['DAYS_ID_PUBLISH'].astype(float)**(1/1.4059))\n",
    "data['OWN_CAR_AGE'] = (data['OWN_CAR_AGE'].astype(float)**(1/3))\n",
    "data['DAYS_LAST_PHONE_CHANGE'] = (data['DAYS_LAST_PHONE_CHANGE'].astype(float)**(1/3)) ############\n",
    "data['LOAN_COUNT'] = (data['LOAN_COUNT'].astype(float)**(1/6)) ###########\n",
    "data['CREDIT_ACTIVE'] = (data['CREDIT_ACTIVE'].astype(float)**(1/4))\n",
    "data['AMT_CREDIT_SUM'] = (data['AMT_CREDIT_SUM'].astype(float)**(1/8))################\n",
    "data['AMT_REQ_CREDIT_BUREAU_YEAR'] = (data['AMT_REQ_CREDIT_BUREAU_YEAR'].astype(float)**(1/4))\n",
    "data['AMT_CREDIT_SUM_DEBT'] = (data['AMT_CREDIT_SUM_DEBT'].astype(float)**(1/7)) ####################\n",
    "data['AMT_CREDIT_SUM_LIMIT'] = (data['AMT_CREDIT_SUM_LIMIT'].astype(float)**(1/5))####################\n",
    "\n",
    "# index columns selected for outlier removal\n",
    "varTransforms = ['DAYS_REGISTRATION','ANNUITY_INCOME_RATIO','CREDIT_INCOME_RATIO','AMT_ANNUITY'\n",
    "                 ,'DAYS_EMPLOYED','PERCENT_EMPLOYED_TO_AGE','AMT_GOODS_PRICE','AMT_INCOME_TOTAL'\n",
    "                 ,'AMT_CREDIT','REGION_POPULATION_RELATIVE','DAYS_ID_PUBLISH','OWN_CAR_AGE'\n",
    "                 ,'DAYS_LAST_PHONE_CHANGE','LOAN_COUNT','CREDIT_ACTIVE','AMT_CREDIT_SUM'\n",
    "                 ,'AMT_REQ_CREDIT_BUREAU_YEAR','AMT_CREDIT_SUM_DEBT','AMT_CREDIT_SUM_LIMIT']\n",
    "\n",
    "# split datasets based on columns selected\n",
    "num_train = data[varTransforms]\n",
    "cat_train = data.drop(varTransforms, axis=1)\n",
    "\n",
    "# perform two-tailed z-test to index only observations within 3 standard devations of the mean\n",
    "indx = np.abs(stats.zscore(num_train) < 3).all(axis=1)\n",
    "train_cleaned_numeric = pd.concat([num_train.loc[indx], cat_train.loc[indx]], axis=1)\n",
    "\n",
    "# back-transform data for prior knowledge\n",
    "# data['DAYS_REGISTRATION'] = (data['DAYS_REGISTRATION'])**(2)\n",
    "# data['ANNUITY_INCOME_RATIO'] = (data['ANNUITY_INCOME_RATIO'])**(3)\n",
    "# data['CREDIT_INCOME_RATIO'] = (data['CREDIT_INCOME_RATIO'])**(7)\n",
    "# data['AMT_ANNUITY'] = (data['AMT_ANNUITY'])**(4)\n",
    "# data['DAYS_EMPLOYED'] = (data['DAYS_EMPLOYED'])**(5)\n",
    "# data['PERCENT_EMPLOYED_TO_AGE'] = (data['PERCENT_EMPLOYED_TO_AGE'])**(2)\n",
    "# data['AMT_GOODS_PRICE'] = (data['AMT_GOODS_PRICE'])**(6)\n",
    "# data['AMT_INCOME_TOTAL'] = (data['AMT_INCOME_TOTAL'])**(50)\n",
    "# data = data[data.AMT_INCOME_TOTAL < 400000]"
   ]
  },
  {
   "cell_type": "code",
   "execution_count": 61,
   "metadata": {},
   "outputs": [],
   "source": [
    "data = data.dropna()"
   ]
  },
  {
   "cell_type": "code",
   "execution_count": 62,
   "metadata": {},
   "outputs": [],
   "source": [
    "import scipy.stats as spstats"
   ]
  },
  {
   "cell_type": "code",
   "execution_count": null,
   "metadata": {},
   "outputs": [],
   "source": [
    "data.columns"
   ]
  },
  {
   "cell_type": "code",
   "execution_count": 65,
   "metadata": {},
   "outputs": [],
   "source": [
    "X = data.drop(['TARGET'], axis=1)\n",
    "y = data['TARGET']\n",
    "#spstats.bartlett(X,y)"
   ]
  },
  {
   "cell_type": "code",
   "execution_count": 78,
   "metadata": {},
   "outputs": [],
   "source": [
    "data.numeric = data.select_dtypes(include=['float64','uint16','int64'])"
   ]
  },
  {
   "cell_type": "code",
   "execution_count": 86,
   "metadata": {},
   "outputs": [],
   "source": [
    "X = data.numeric.drop(['TARGET'], axis=1)\n",
    "y = data.numeric['TARGET']"
   ]
  },
  {
   "cell_type": "code",
   "execution_count": 88,
   "metadata": {},
   "outputs": [
    {
     "name": "stdout",
     "output_type": "stream",
     "text": [
      "(245035, 29) (245035,)\n",
      "(61259, 29) (61259,)\n"
     ]
    }
   ],
   "source": [
    "# Create an 80/20 train/test split in the data\n",
    "import pandas as pd\n",
    "from sklearn import datasets, linear_model\n",
    "from sklearn.model_selection import train_test_split\n",
    "from matplotlib import pyplot as plt\n",
    "\n",
    "X_train, X_test, y_train, y_test = train_test_split(X, y, test_size=0.2)\n",
    "print(X_train.shape, y_train.shape)\n",
    "print(X_test.shape, y_test.shape)"
   ]
  },
  {
   "cell_type": "code",
   "execution_count": null,
   "metadata": {},
   "outputs": [],
   "source": [
    "data.dtypes"
   ]
  },
  {
   "cell_type": "code",
   "execution_count": null,
   "metadata": {},
   "outputs": [],
   "source": [
    "spstats.bartlett(data)"
   ]
  },
  {
   "cell_type": "code",
   "execution_count": null,
   "metadata": {},
   "outputs": [],
   "source": [
    ".bartlett as bartlett"
   ]
  },
  {
   "cell_type": "code",
   "execution_count": 93,
   "metadata": {},
   "outputs": [
    {
     "ename": "SyntaxError",
     "evalue": "invalid syntax (<ipython-input-93-86673959d4fb>, line 1)",
     "output_type": "error",
     "traceback": [
      "\u001b[1;36m  File \u001b[1;32m\"<ipython-input-93-86673959d4fb>\"\u001b[1;36m, line \u001b[1;32m1\u001b[0m\n\u001b[1;33m    spstats.mstats.f_value_wilks_lambda(;)\u001b[0m\n\u001b[1;37m                                        ^\u001b[0m\n\u001b[1;31mSyntaxError\u001b[0m\u001b[1;31m:\u001b[0m invalid syntax\n"
     ]
    }
   ],
   "source": [
    "spstats.mstats.f_value_wilks_lambda(;)"
   ]
  },
  {
   "cell_type": "code",
   "execution_count": 89,
   "metadata": {},
   "outputs": [],
   "source": [
    "# Quadratic Discriminant Analysis pt 1\n",
    "from sklearn.discriminant_analysis import QuadraticDiscriminantAnalysis\n",
    "qda = QuadraticDiscriminantAnalysis()\n",
    "QDA_model = qda.fit(X_train, y_train)"
   ]
  },
  {
   "cell_type": "code",
   "execution_count": 90,
   "metadata": {},
   "outputs": [
    {
     "name": "stdout",
     "output_type": "stream",
     "text": [
      "[0.91921154 0.08078846]\n",
      "[[1.26905456e+00 8.89813800e+00 1.25043191e+01 8.74018716e+00\n",
      "  1.37446028e-01 1.61397307e+04 3.60495436e+00 6.54562670e+01\n",
      "  2.88250593e+02 7.13093945e-01 2.23981103e-01 5.22231287e-01\n",
      "  4.19445303e-01 1.41223767e+00 1.38901345e-01 1.39544661e+00\n",
      "  9.62488734e-02 8.36850813e+00 7.72902615e-01 1.18594227e+00\n",
      "  5.49138103e-01 2.97063882e-01 1.09800983e+00 8.50831520e-01\n",
      "  3.33053778e+00 3.71967695e+00 3.76563297e+00 1.25146090e+00\n",
      "  1.25908605e+02]\n",
      " [1.26825570e+00 8.84151096e+00 1.24988151e+01 8.64639527e+00\n",
      "  1.31843473e-01 1.48619352e+04 3.67034296e+00 6.14893092e+01\n",
      "  2.66331654e+02 6.75698320e-01 1.57911560e-01 4.10430657e-01\n",
      "  3.03285764e-01 1.50565771e+00 1.95999192e-01 1.48742170e+00\n",
      "  1.40432411e-01 7.64517283e+00 7.67962645e-01 1.18564227e+00\n",
      "  5.55309653e-01 2.85746963e-01 1.04783691e+00 8.91253344e-01\n",
      "  4.50292988e+00 3.78295973e+00 4.06489276e+00 1.41117498e+00\n",
      "  7.42133403e+02]]\n"
     ]
    }
   ],
   "source": [
    "# Quadratic Discriminant Analysis pt 2\n",
    "print(QDA_model.priors_)\n",
    "print(QDA_model.means_)"
   ]
  },
  {
   "cell_type": "code",
   "execution_count": 91,
   "metadata": {},
   "outputs": [
    {
     "name": "stdout",
     "output_type": "stream",
     "text": [
      "(array([0, 1], dtype=int64), array([59044,  2215], dtype=int64))\n",
      "[[54528  4516]\n",
      " [ 1779   436]]\n",
      "              precision    recall  f1-score   support\n",
      "\n",
      "           0      0.924     0.968     0.945     56307\n",
      "           1      0.197     0.088     0.122      4952\n",
      "\n",
      "    accuracy                          0.897     61259\n",
      "   macro avg      0.560     0.528     0.534     61259\n",
      "weighted avg      0.865     0.897     0.879     61259\n",
      "\n"
     ]
    }
   ],
   "source": [
    "# Quadratic Discriminant Analysis pt 3\n",
    "from sklearn.metrics import confusion_matrix\n",
    "from sklearn.metrics import classification_report\n",
    "\n",
    "preds_QDA=QDA_model.predict(X_test)\n",
    "print(np.unique(preds_QDA, return_counts=True))\n",
    "print(confusion_matrix(preds_QDA, y_test))\n",
    "print(classification_report(y_test, preds_QDA, digits=3))"
   ]
  },
  {
   "cell_type": "code",
   "execution_count": 92,
   "metadata": {},
   "outputs": [
    {
     "name": "stdout",
     "output_type": "stream",
     "text": [
      "Predicted      0     1\n",
      "Actual                \n",
      "0          54528  1779\n",
      "1           4516   436\n"
     ]
    }
   ],
   "source": [
    "# Quadratic Discriminant Analysis pt 4\n",
    "confusion_matrix = pd.crosstab(y_test, preds_QDA, rownames=['Actual'], colnames=['Predicted'])\n",
    "print (confusion_matrix)"
   ]
  },
  {
   "cell_type": "code",
   "execution_count": 133,
   "metadata": {},
   "outputs": [
    {
     "data": {
      "text/html": [
       "<div>\n",
       "<style scoped>\n",
       "    .dataframe tbody tr th:only-of-type {\n",
       "        vertical-align: middle;\n",
       "    }\n",
       "\n",
       "    .dataframe tbody tr th {\n",
       "        vertical-align: top;\n",
       "    }\n",
       "\n",
       "    .dataframe thead th {\n",
       "        text-align: right;\n",
       "    }\n",
       "</style>\n",
       "<table border=\"1\" class=\"dataframe\">\n",
       "  <thead>\n",
       "    <tr style=\"text-align: right;\">\n",
       "      <th></th>\n",
       "      <th>importance</th>\n",
       "    </tr>\n",
       "  </thead>\n",
       "  <tbody>\n",
       "    <tr>\n",
       "      <th>EXT_SOURCE_2</th>\n",
       "      <td>0.079381</td>\n",
       "    </tr>\n",
       "    <tr>\n",
       "      <th>DAYS_BIRTH</th>\n",
       "      <td>0.057039</td>\n",
       "    </tr>\n",
       "    <tr>\n",
       "      <th>DAYS_ID_PUBLISH</th>\n",
       "      <td>0.055631</td>\n",
       "    </tr>\n",
       "    <tr>\n",
       "      <th>DAYS_REGISTRATION</th>\n",
       "      <td>0.054228</td>\n",
       "    </tr>\n",
       "    <tr>\n",
       "      <th>ANNUITY_INCOME_RATIO</th>\n",
       "      <td>0.050703</td>\n",
       "    </tr>\n",
       "    <tr>\n",
       "      <th>AMT_ANNUITY</th>\n",
       "      <td>0.048682</td>\n",
       "    </tr>\n",
       "    <tr>\n",
       "      <th>CREDIT_INCOME_RATIO</th>\n",
       "      <td>0.048432</td>\n",
       "    </tr>\n",
       "    <tr>\n",
       "      <th>PERCENT_EMPLOYED_TO_AGE</th>\n",
       "      <td>0.046610</td>\n",
       "    </tr>\n",
       "    <tr>\n",
       "      <th>DAYS_LAST_PHONE_CHANGE</th>\n",
       "      <td>0.046608</td>\n",
       "    </tr>\n",
       "    <tr>\n",
       "      <th>DAYS_EMPLOYED</th>\n",
       "      <td>0.044527</td>\n",
       "    </tr>\n",
       "    <tr>\n",
       "      <th>REGION_POPULATION_RELATIVE</th>\n",
       "      <td>0.043339</td>\n",
       "    </tr>\n",
       "    <tr>\n",
       "      <th>AMT_CREDIT</th>\n",
       "      <td>0.042872</td>\n",
       "    </tr>\n",
       "    <tr>\n",
       "      <th>AMT_CREDIT_SUM</th>\n",
       "      <td>0.036847</td>\n",
       "    </tr>\n",
       "    <tr>\n",
       "      <th>AMT_GOODS_PRICE</th>\n",
       "      <td>0.034951</td>\n",
       "    </tr>\n",
       "    <tr>\n",
       "      <th>AMT_INCOME_TOTAL</th>\n",
       "      <td>0.034445</td>\n",
       "    </tr>\n",
       "  </tbody>\n",
       "</table>\n",
       "</div>"
      ],
      "text/plain": [
       "                            importance\n",
       "EXT_SOURCE_2                  0.079381\n",
       "DAYS_BIRTH                    0.057039\n",
       "DAYS_ID_PUBLISH               0.055631\n",
       "DAYS_REGISTRATION             0.054228\n",
       "ANNUITY_INCOME_RATIO          0.050703\n",
       "AMT_ANNUITY                   0.048682\n",
       "CREDIT_INCOME_RATIO           0.048432\n",
       "PERCENT_EMPLOYED_TO_AGE       0.046610\n",
       "DAYS_LAST_PHONE_CHANGE        0.046608\n",
       "DAYS_EMPLOYED                 0.044527\n",
       "REGION_POPULATION_RELATIVE    0.043339\n",
       "AMT_CREDIT                    0.042872\n",
       "AMT_CREDIT_SUM                0.036847\n",
       "AMT_GOODS_PRICE               0.034951\n",
       "AMT_INCOME_TOTAL              0.034445"
      ]
     },
     "execution_count": 133,
     "metadata": {},
     "output_type": "execute_result"
    }
   ],
   "source": [
    "        #@@@@@@@@@@@@@@@@@@@@@@@@@@@@@@@@@@@@@@@@@@@@@@@@@@@@@@@@@@@@@@@@@@@@@@@@@@@@@@@@@@@@@@@@@@@@@@@@@@@@@@@@@@@@@@@@@@@@@@@@@@@@@@\n",
    "        #@@@@@@@@@@@@@@@@@@@@@@@@@@@@@@@@@@@@@@@@@@@@@@@@@@@@@@@@@@@@@@@@@@@@@@@@@@@@@@@@@@@@@@@@@@@@@@@@@@@@@@@@@@@@@@@@@@@@@@@@@@@@@@\n",
    "        #@@@@@@@@@@@@@@@@@@@@@@@@@@@@@@@@@@@@@@@@@@@@@@@@@@@@@@@@@@@@@@@@@@@@@@@@@@@@@@@@@@@@@@@@@@@@@@@@@@@@@@@@@@@@@@@@@@@@@@@@@@@@@@\n",
    "        #@@@@@@@@                                                                                                             @@@@@@@@@ \n",
    "        #@@@@@                                                                                                                   @@@@@@\n",
    "        #@@                                This Block: Random Forest Classification for Feature Importance                          @@@\n",
    "        #@@@@@                                                                                                                   @@@@@@\n",
    "        #@@@@@@@@                                                                                                             @@@@@@@@@\n",
    "        #@@@@@@@@@@@@@@@@@@@@@@@@@@@@@@@@@@@@@@@@@@@@@@@@@@@@@@@@@@@@@@@@@@@@@@@@@@@@@@@@@@@@@@@@@@@@@@@@@@@@@@@@@@@@@@@@@@@@@@@@@@@@@@\n",
    "        #@@@@@@@@@@@@@@@@@@@@@@@@@@@@@@@@@@@@@@@@@@@@@@@@@@@@@@@@@@@@@@@@@@@@@@@@@@@@@@@@@@@@@@@@@@@@@@@@@@@@@@@@@@@@@@@@@@@@@@@@@@@@@@\n",
    "        #@@@@@@@@@@@@@@@@@@@@@@@@@@@@@@@@@@@@@@@@@@@@@@@@@@@@@@@@@@@@@@@@@@@@@@@@@@@@@@@@@@@@@@@@@@@@@@@@@@@@@@@@@@@@@@@@@@@@@@@@@@@@@@\n",
    "\n",
    "from sklearn.ensemble import RandomForestClassifier\n",
    "from pandas import DataFrame\n",
    "import warnings\n",
    "warnings.simplefilter(action='ignore', category=FutureWarning)\n",
    "\n",
    "#y_train = data['TARGET']\n",
    "\n",
    "# encode categorical data\n",
    "new_df = data.copy().drop(['TARGET'], axis = 1)\n",
    "new_df = pd.get_dummies(new_df)\n",
    "\n",
    "# instantiate the random forest classification model\n",
    "forest = RandomForestClassifier()\n",
    "\n",
    "train = data.numeric\n",
    "#X_train = train.loc[:, train.columns != ('TARGET','SK_ID_CURR')] when used with new_df\n",
    "#X_train = train.loc[:, train.columns != ('TARGET')]\n",
    "\n",
    "# fit the random forest model\n",
    "forest.fit(X_train, y_train)\n",
    "\n",
    "feature_importances = pd.DataFrame(forest.feature_importances_,index = X_train.columns,columns=['importance']).sort_values('importance',ascending=False)\n",
    "\n",
    "pd.set_option('display.max_rows', None)\n",
    "#feature_importances.drop(['SK_ID_CURR','EXT_SOURCE_1','EXT_SOURCE_2','EXT_SOURCE_3']).head(15)\n",
    "#feature_importances.drop(['SK_ID_CURR','EXT_SOURCE_1','EXT_SOURCE_3']).head(15) use with new_df\n",
    "feature_importances.drop(['EXT_SOURCE_1','EXT_SOURCE_3']).head(15)"
   ]
  },
  {
   "cell_type": "code",
   "execution_count": null,
   "metadata": {},
   "outputs": [],
   "source": [
    "scipy.stats.mstats.f_value_wilks_lambda"
   ]
  },
  {
   "cell_type": "code",
   "execution_count": null,
   "metadata": {},
   "outputs": [],
   "source": [
    "y_train = data['TARGET']\n",
    "# new_df = data.copy().drop(['TARGET','EMPLOYED','EXT_SOURCE_1','EXT_SOURCE_2','EXT_SOURCE_3'], axis = 1)\n",
    "new_df = data.copy().drop(['TARGET','EMPLOYED','EXT_SOURCE_1','EXT_SOURCE_3'], axis = 1)"
   ]
  },
  {
   "cell_type": "code",
   "execution_count": 106,
   "metadata": {},
   "outputs": [],
   "source": [
    "        #$$$$$$$$$$$$$$$$$$$$$$$$$$$$$$$$$$$$$$$$$$$$$$$$$$$$$$$$$$$$$$$$$$$$$$$$$$$$$$$$$$$$$$$$$$$$$$$$$$$$$$$$$$$$$$$$$$$$$$$$$$$$$$\n",
    "        #$$$$$$$$$$$$$$$$$$$$$$$$$$$$$$$$$$$$$$$$$$$$$$$$$$$$$$$$$$$$$$$$$$$$$$$$$$$$$$$$$$$$$$$$$$$$$$$$$$$$$$$$$$$$$$$$$$$$$$$$$$$$$$\n",
    "        #$$$$$$$$$$$$$$$$$$$$$$$$$$$$$$$$$$$$$$$$$$$$$$$$$$$$$$$$$$$$$$$$$$$$$$$$$$$$$$$$$$$$$$$$$$$$$$$$$$$$$$$$$$$$$$$$$$$$$$$$$$$$$$\n",
    "        #$$$$$$$$                                                                                                             $$$$$$$$$ \n",
    "        #$$$$$                                                                                                                   $$$$$$\n",
    "        #$$                        This Block: Light Gradient Boosting Classification for Feature Importance                        $$$\n",
    "        #$$$$$                                                                                                                   $$$$$$\n",
    "        #$$$$$$$$                                                                                                             $$$$$$$$$\n",
    "        #$$$$$$$$$$$$$$$$$$$$$$$$$$$$$$$$$$$$$$$$$$$$$$$$$$$$$$$$$$$$$$$$$$$$$$$$$$$$$$$$$$$$$$$$$$$$$$$$$$$$$$$$$$$$$$$$$$$$$$$$$$$$$$\n",
    "        #$$$$$$$$$$$$$$$$$$$$$$$$$$$$$$$$$$$$$$$$$$$$$$$$$$$$$$$$$$$$$$$$$$$$$$$$$$$$$$$$$$$$$$$$$$$$$$$$$$$$$$$$$$$$$$$$$$$$$$$$$$$$$$\n",
    "        #$$$$$$$$$$$$$$$$$$$$$$$$$$$$$$$$$$$$$$$$$$$$$$$$$$$$$$$$$$$$$$$$$$$$$$$$$$$$$$$$$$$$$$$$$$$$$$$$$$$$$$$$$$$$$$$$$$$$$$$$$$$$$$\n",
    "\n",
    "\n",
    "from sklearn.feature_selection import SelectFromModel\n",
    "from lightgbm import LGBMClassifier\n",
    "from lightgbm import plot_importance\n",
    "\n",
    "lgbc=LGBMClassifier(n_estimators=500, learning_rate=0.05, num_leaves=32, colsample_bytree=0.2,\n",
    "            reg_alpha=3, reg_lambda=1, min_split_gain=0.01, min_child_weight=40)\n",
    "\n",
    "embeded_lgb_selector = SelectFromModel(lgbc, max_features=30)"
   ]
  },
  {
   "cell_type": "code",
   "execution_count": 118,
   "metadata": {},
   "outputs": [],
   "source": [
    "df_y_lgb = data['TARGET']\n",
    "embeded_lgb_selector.fit(data.numeric, df_y_lgb);"
   ]
  },
  {
   "cell_type": "code",
   "execution_count": 122,
   "metadata": {},
   "outputs": [
    {
     "name": "stdout",
     "output_type": "stream",
     "text": [
      "15 selected features\n"
     ]
    },
    {
     "data": {
      "text/plain": [
       "['CODE_GENDER',\n",
       " 'FLAG_OWN_CAR',\n",
       " 'FLAG_OWN_REALTY',\n",
       " 'CNT_CHILDREN',\n",
       " 'AMT_INCOME_TOTAL',\n",
       " 'AMT_CREDIT',\n",
       " 'AMT_ANNUITY',\n",
       " 'NAME_INCOME_TYPE',\n",
       " 'NAME_EDUCATION_TYPE',\n",
       " 'NAME_FAMILY_STATUS',\n",
       " 'DAYS_REGISTRATION',\n",
       " 'FLAG_MOBIL',\n",
       " 'FLAG_EMP_PHONE',\n",
       " 'FLAG_EMAIL',\n",
       " 'OCCUPATION_TYPE']"
      ]
     },
     "execution_count": 122,
     "metadata": {},
     "output_type": "execute_result"
    }
   ],
   "source": [
    "embeded_lgb_support = embeded_lgb_selector.get_support()\n",
    "embeded_lgb_feature = df_LGB.loc[:,embeded_lgb_support].columns.tolist()\n",
    "print(str(len(embeded_lgb_feature)), 'selected features')\n",
    "embeded_lgb_feature"
   ]
  },
  {
   "cell_type": "code",
   "execution_count": 138,
   "metadata": {},
   "outputs": [],
   "source": [
    "import numpy as np\n",
    "import matplotlib.pyplot as plt\n",
    "\n",
    "from sklearn import ensemble\n",
    "from sklearn import datasets\n",
    "from sklearn.utils import shuffle\n",
    "from sklearn.metrics import mean_squared_error\n",
    "\n",
    "# X, y = shuffle(boston.data, boston.target, random_state=13)\n",
    "# X = X.astype(np.float32)\n",
    "params = {'n_estimators': 500, 'max_depth': 4, 'min_samples_split': 2,\n",
    "          'learning_rate': 0.01, 'loss': 'ls'}\n",
    "clf = ensemble.GradientBoostingRegressor(**params)\n",
    "#clf = ensemble.GradientBoostingRegressor(X)"
   ]
  },
  {
   "cell_type": "code",
   "execution_count": 139,
   "metadata": {},
   "outputs": [
    {
     "data": {
      "text/plain": [
       "GradientBoostingRegressor(alpha=0.9, criterion='friedman_mse', init=None,\n",
       "                          learning_rate=0.01, loss='ls', max_depth=4,\n",
       "                          max_features=None, max_leaf_nodes=None,\n",
       "                          min_impurity_decrease=0.0, min_impurity_split=None,\n",
       "                          min_samples_leaf=1, min_samples_split=2,\n",
       "                          min_weight_fraction_leaf=0.0, n_estimators=500,\n",
       "                          n_iter_no_change=None, presort='auto',\n",
       "                          random_state=None, subsample=1.0, tol=0.0001,\n",
       "                          validation_fraction=0.1, verbose=0, warm_start=False)"
      ]
     },
     "execution_count": 139,
     "metadata": {},
     "output_type": "execute_result"
    }
   ],
   "source": [
    "clf.fit(X, y)\n",
    "# mse = mean_squared_error(y_test, clf.predict(X_test))\n",
    "# print(\"MSE: %.4f\" % mse)"
   ]
  },
  {
   "cell_type": "code",
   "execution_count": 149,
   "metadata": {},
   "outputs": [
    {
     "data": {
      "image/png": "[encoded data removed]",
      "text/plain": [
       "<Figure size 432x288 with 1 Axes>"
      ]
     },
     "metadata": {
      "needs_background": "light"
     },
     "output_type": "display_data"
    }
   ],
   "source": [
    "feature_importance = clf.feature_importances_\n",
    "#feature_importance = 100.0 * (feature_importance / feature_importance.max())\n",
    "feature_importance = (feature_importance / feature_importance.max())\n",
    "sorted_idx = np.argsort(feature_importance)\n",
    "pos = np.arange(sorted_idx.shape[0]) + .5\n",
    "plt.subplot(1, 2, 2)\n",
    "plt.barh(pos, feature_importance[sorted_idx], align='center')\n",
    "plt.yticks(pos, data.numeric.columns[sorted_idx])\n",
    "plt.xlabel('Relative Importance')\n",
    "plt.title('Variable Importance')\n",
    "plt.show()"
   ]
  },
  {
   "cell_type": "code",
   "execution_count": null,
   "metadata": {},
   "outputs": [],
   "source": [
    "data.to_csv('c:/users/pablo/desktop/ml_project_dataset.csv')"
   ]
  },
  {
   "cell_type": "code",
   "execution_count": 151,
   "metadata": {},
   "outputs": [
    {
     "name": "stdout",
     "output_type": "stream",
     "text": [
      "MSE: 1.8760\n"
     ]
    }
   ],
   "source": [
    "params = {'n_estimators': 500, 'max_depth': 4, 'min_samples_split': 2,\n",
    "          'learning_rate': 0.01, 'loss': 'ls'}\n",
    "clf = ensemble.GradientBoostingRegressor(**params)\n",
    "\n",
    "clf.fit(X, y)\n",
    "mse = mean_squared_error(y, clf.predict(X))\n",
    "print(\"MSE: %.4f\" % mse)"
   ]
  },
  {
   "cell_type": "code",
   "execution_count": 153,
   "metadata": {},
   "outputs": [
    {
     "data": {
      "text/plain": [
       "Text(0, 0.5, 'Deviance')"
      ]
     },
     "execution_count": 153,
     "metadata": {},
     "output_type": "execute_result"
    },
    {
     "data": {
      "image/png": "[encoded data removed]",
      "text/plain": [
       "<Figure size 864x432 with 1 Axes>"
      ]
     },
     "metadata": {
      "needs_background": "light"
     },
     "output_type": "display_data"
    }
   ],
   "source": [
    "test_score = np.zeros((params['n_estimators'],), dtype=np.float64)\n",
    "\n",
    "for i, y_pred in enumerate(clf.staged_predict(X)):\n",
    "    test_score[i] = clf.loss_(y, y_pred)\n",
    "\n",
    "plt.figure(figsize=(12, 6))\n",
    "plt.subplot(1, 2, 1)\n",
    "plt.title('Deviance')\n",
    "plt.plot(np.arange(params['n_estimators']) + 1, clf.train_score_, 'b-',\n",
    "         label='Training Set Deviance')\n",
    "plt.plot(np.arange(params['n_estimators']) + 1, test_score, 'r-',\n",
    "         label='Test Set Deviance')\n",
    "plt.legend(loc='upper right')\n",
    "plt.xlabel('Boosting Iterations')\n",
    "plt.ylabel('Deviance')"
   ]
  },
  {
   "cell_type": "code",
   "execution_count": null,
   "metadata": {},
   "outputs": [],
   "source": [
    "import pandas as pd\n",
    "import numpy as np\n",
    "import matplotlib.pyplot as plt\n",
    "\n",
    "from sklearn import ensemble\n",
    "from sklearn import linear_model"
   ]
  },
  {
   "cell_type": "code",
   "execution_count": null,
   "metadata": {},
   "outputs": [],
   "source": []
  },
  {
   "cell_type": "code",
   "execution_count": null,
   "metadata": {},
   "outputs": [],
   "source": []
  },
  {
   "cell_type": "code",
   "execution_count": null,
   "metadata": {},
   "outputs": [],
   "source": []
  },
  {
   "cell_type": "code",
   "execution_count": null,
   "metadata": {},
   "outputs": [],
   "source": []
  },
  {
   "cell_type": "code",
   "execution_count": null,
   "metadata": {},
   "outputs": [],
   "source": []
  },
  {
   "cell_type": "code",
   "execution_count": null,
   "metadata": {},
   "outputs": [],
   "source": []
  },
  {
   "cell_type": "code",
   "execution_count": null,
   "metadata": {},
   "outputs": [],
   "source": []
  },
  {
   "cell_type": "code",
   "execution_count": null,
   "metadata": {},
   "outputs": [],
   "source": []
  },
  {
   "cell_type": "code",
   "execution_count": null,
   "metadata": {},
   "outputs": [],
   "source": [
    "%matplotlib inline"
   ]
  },
  {
   "cell_type": "code",
   "execution_count": null,
   "metadata": {},
   "outputs": [],
   "source": [
    "import numpy as np\n",
    "import statsmodels.api as sm\n",
    "import matplotlib.pyplot as plt\n",
    "from statsmodels.sandbox.regression.predstd import wls_prediction_std\n",
    "np.random.seed(123)"
   ]
  },
  {
   "cell_type": "code",
   "execution_count": null,
   "metadata": {},
   "outputs": [],
   "source": [
    "nsample = 100\n",
    "x = np.linspace(0, 10, 100)\n",
    "X = np.column_stack((x, x**2))\n",
    "beta = np.array([1, 0.1, 10])\n",
    "e = np.random.normal(size=nsample)\n",
    "\n",
    "X = sm.add_constant(X)\n",
    "y = np.dot(X, beta) + e\n",
    "\n",
    "y = data['TARGET']\n",
    "X = data.drop(['TARGET','SK_ID_CURR'])\n",
    "model = sm.OLS(y, X)\n",
    "results = model.fit()\n",
    "print(results.summary())"
   ]
  },
  {
   "cell_type": "code",
   "execution_count": null,
   "metadata": {},
   "outputs": [],
   "source": []
  },
  {
   "cell_type": "code",
   "execution_count": null,
   "metadata": {},
   "outputs": [],
   "source": []
  },
  {
   "cell_type": "code",
   "execution_count": null,
   "metadata": {},
   "outputs": [],
   "source": []
  },
  {
   "cell_type": "code",
   "execution_count": null,
   "metadata": {},
   "outputs": [],
   "source": []
  },
  {
   "cell_type": "code",
   "execution_count": null,
   "metadata": {},
   "outputs": [],
   "source": []
  },
  {
   "cell_type": "code",
   "execution_count": null,
   "metadata": {},
   "outputs": [],
   "source": []
  },
  {
   "cell_type": "code",
   "execution_count": null,
   "metadata": {},
   "outputs": [],
   "source": []
  }
 ],
 "metadata": {
  "kernelspec": {
   "display_name": "Python 3",
   "language": "python",
   "name": "python3"
  },
  "language_info": {
   "codemirror_mode": {
    "name": "ipython",
    "version": 3
   },
   "file_extension": ".py",
   "mimetype": "text/x-python",
   "name": "python",
   "nbconvert_exporter": "python",
   "pygments_lexer": "ipython3",
   "version": "3.7.3"
  }
 },
 "nbformat": 4,
 "nbformat_minor": 4
}
