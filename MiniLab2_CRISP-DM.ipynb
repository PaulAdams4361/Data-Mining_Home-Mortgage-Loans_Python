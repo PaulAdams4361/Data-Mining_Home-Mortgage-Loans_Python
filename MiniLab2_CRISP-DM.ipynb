{
 "cells": [
  {
   "cell_type": "markdown",
   "metadata": {},
   "source": [
    "# Mel Schwan, Stuart Miller, Justin Howard, Paul Adams\n",
    "# Lab Two: Classification"
   ]
  },
  {
   "cell_type": "markdown",
   "metadata": {},
   "source": [
    "## MiniLab2 Project Requirments -\n",
    "1. [Data Preparation](#DataPreparation)\n",
    "    1. [Define and prepare your class variables](#Define)\n",
    "    2. [Describe the final dataset that is used for classification/regression (include a\n",
    "description of any newly formed variables you created](#FinalDataset)\n",
    "\n",
    "\n",
    "2. [Modeling and Evaluation](#DataUnderstanding)\n",
    "    1. [Choose and explain your evaluation metrics that you will use](#Evaluaation)\n",
    "    2. [Choose the method you will use for dividing your data into training and\n",
    "testing splits](#DivideData)\n",
    "    3. [Create three different classification/regression models](#Models)\n",
    "    4. [Analyze the results using your chosen method of evaluation](#Analyze)\n",
    "    5. [Discuss the advantages of each model for each classification task](#Advantages)\n",
    "    6. [Which attributes from your analysis are most important](#Attributes)\n",
    "    \n",
    "    \n",
    "3. [Deployment](#Deployment)\n",
    "    1. [How useful is your model for interested parties (i.e., the companies or\n",
    "organizations that might want to use it for prediction)? How would you measure the\n",
    "model's value if it was used by these parties? How would your deploy your model for\n",
    "interested parties? What other data should be collected? How often would the model\n",
    "need to be updated, etc.?](#Value)\n",
    "\n",
    "A1. [Disclaimer](#Disclaimer)"
   ]
  },
  {
   "cell_type": "markdown",
   "metadata": {},
   "source": [
    "<img src=\"./crisps-dm2.png\" style=\"width:550px;height:450px\"/>\n"
   ]
  },
  {
   "cell_type": "markdown",
   "metadata": {},
   "source": [
    "# Dataset Selection"
   ]
  },
  {
   "cell_type": "markdown",
   "metadata": {},
   "source": [
    "# 1. Stage Three - Data Preperation (Q1)   <a class=\"anchor\" id=\"DataPreparation\"></a>"
   ]
  },
  {
   "cell_type": "markdown",
   "metadata": {},
   "source": [
    "## 1.1 Define and prepare your class variables (Q1A)<a class=\"anchor\" id=\"Define\"></a>"
   ]
  },
  {
   "cell_type": "markdown",
   "metadata": {},
   "source": []
  },
  {
   "cell_type": "code",
   "execution_count": null,
   "metadata": {},
   "outputs": [],
   "source": [
    "#removing warnings\n",
    "import warnings\n",
    "warnings.simplefilter('ignore')\n",
    "\n",
    "# Import Libraries Required.\n",
    "# pydata stack\n",
    "import pandas as pd\n",
    "import numpy as np\n",
    "from scipy import stats\n",
    "import matplotlib.pyplot as plt\n",
    "from mpl_toolkits.mplot3d import Axes3D\n",
    "%matplotlib inline\n",
    "\n",
    "#plotting library\n",
    "import altair as alt\n",
    "import seaborn as sns\n",
    "\n",
    "# sklearn\n",
    "from sklearn.preprocessing import StandardScaler, LabelEncoder\n",
    "from sklearn.model_selection import train_test_split, cross_val_score\n",
    "from sklearn.decomposition import PCA\n",
    "from sklearn.linear_model import LogisticRegression, LinearRegression\n",
    "from sklearn.svm import SVC\n",
    "from sklearn.impute import SimpleImputer\n",
    " # enabling sklearn's experimental gradient boosting machine algorithm\n",
    "from sklearn.experimental import enable_hist_gradient_boosting  # noqa\n",
    "from sklearn.ensemble import HistGradientBoostingClassifier\n",
    "from sklearn.metrics import confusion_matrix, recall_score, precision_score, accuracy_score\n",
    "\n",
    "# others\n",
    "from imblearn.under_sampling import RandomUnderSampler, TomekLinks\n",
    "from plot_decision_regions import plot_decision_regions\n",
    "from sklearn.metrics import roc_curve, auc\n",
    "\n",
    "from sklearn.base import BaseEstimator, TransformerMixin\n",
    "\n",
    "\n",
    "from statsmodels.stats.outliers_influence import variance_inflation_factor\n",
    "\n",
    "# custom functions\n",
    "from cleaning import (read_clean_data, impute_data, merge_bureau, merge_previous_application,\n",
    "merge_POS_CASH, merge_credit_card_balance, merge_installments, downsampling_strategy, reduce_mem_usage)\n",
    "from tables import classification_report\n",
    "\n",
    "# set random seed\n",
    "random_state= 1\n",
    "np.random.seed(random_state)"
   ]
  },
  {
   "cell_type": "markdown",
   "metadata": {},
   "source": [
    "## 1.0 Loading and Merging the Dataset"
   ]
  },
  {
   "cell_type": "code",
   "execution_count": null,
   "metadata": {},
   "outputs": [],
   "source": [
    "# loading data that was preprocessed using the custom read_clean_data() function, \n",
    "# merged with the previously engineered newFeatures from Lab 1 \n",
    "data = read_clean_data()"
   ]
  },
  {
   "cell_type": "code",
   "execution_count": 3,
   "metadata": {},
   "outputs": [
    {
     "name": "stdout",
     "output_type": "stream",
     "text": [
      "The shape application and bureau data combined: (307511, 115)\n",
      "Dimensions after adding new features:  (307511, 119)\n",
      "Dimensions after adding previous_application:  (307511, 282)\n",
      "Dimensions after adding POS_CASH_balance:  (307511, 296)\n",
      "Dimensions after adding installments:  (307511, 302)\n",
      "Dimensions after adding credit_card_balance:  (307511, 329)\n"
     ]
    }
   ],
   "source": [
    "data_bureau = merge_bureau(data)\n",
    "data_prev = merge_previous_application(data_bureau)\n",
    "data_POS_CASH = merge_POS_CASH(data_prev)\n",
    "data_installments = merge_installments(data_POS_CASH)\n",
    "data_full = merge_credit_card_balance(data_installments)"
   ]
  },
  {
   "cell_type": "code",
   "execution_count": 4,
   "metadata": {},
   "outputs": [
    {
     "name": "stdout",
     "output_type": "stream",
     "text": [
      "<class 'pandas.core.frame.DataFrame'>\n",
      "Int64Index: 307511 entries, 0 to 307510\n",
      "Columns: 329 entries, SK_ID_CURR to CREDIT_NAME_CONTRACT_STATUS_Signed\n",
      "dtypes: float32(2), float64(265), int32(15), int64(36), uint16(10), uint32(1)\n",
      "memory usage: 735.5 MB\n"
     ]
    }
   ],
   "source": [
    "data_full.info()"
   ]
  },
  {
   "cell_type": "code",
   "execution_count": 5,
   "metadata": {},
   "outputs": [
    {
     "name": "stdout",
     "output_type": "stream",
     "text": [
      "Memory usage of dataframe is 735.51 MB\n",
      "Memory usage after optimization is: 202.06 MB\n",
      "Decreased by 72.5%\n"
     ]
    }
   ],
   "source": [
    "data_lite = reduce_mem_usage(data_full)"
   ]
  },
  {
   "cell_type": "raw",
   "metadata": {},
   "source": [
    "**Reducing the Amount of Categories**"
   ]
  },
  {
   "cell_type": "code",
   "execution_count": 4,
   "metadata": {},
   "outputs": [
    {
     "data": {
      "text/plain": [
       "array([ 1.,  2.,  3.,  4.,  5.,  6.,  9.,  7.,  8., 10., 13., 14., 12.,\n",
       "       20., 15., 16., 11.])"
      ]
     },
     "execution_count": 4,
     "metadata": {},
     "output_type": "execute_result"
    }
   ],
   "source": [
    "data.CNT_FAM_MEMBERS.unique()"
   ]
  },
  {
   "cell_type": "markdown",
   "metadata": {},
   "source": [
    "The dataset contains features, such as the number of children an applicant has, where the number of unique values are relatively high, but the percentage of the total makeup is almost imperceptable. The distributions of these high cardinality variables are heavily skewed. To address this issue, the number of numeric categories was reduced to get a more accurate interpretation of their impact on the target variable."
   ]
  },
  {
   "cell_type": "code",
   "execution_count": 5,
   "metadata": {},
   "outputs": [],
   "source": [
    "#recoding least valuable cateogries into meaningful bins\n",
    "\n",
    "# reducing the child count feature to 3 categories\n",
    "def cnt_child(series):\n",
    "    if series == 0 :\n",
    "        return 'No Children'\n",
    "    elif 1 <= series < 5 :\n",
    "        return '1-4 Children'\n",
    "    else :\n",
    "        return '5 or More Children'\n",
    "\n",
    "# reducing family count feature to 4 categories\n",
    "def cnt_family(series):\n",
    "    if series == 1:\n",
    "        return '1 Family Member'\n",
    "    elif series == 2: \n",
    "        return '2 Family Members'\n",
    "    elif 3 >= series <= 5:\n",
    "        return '3 - -5 Family Members'\n",
    "    else :\n",
    "        return '6 or more Family Members'\n",
    "\n",
    "# reducing engineered feature CREDIT_ACTIVE to 4 categories\n",
    "data.CREDIT_ACTIVE = data.CREDIT_ACTIVE.astype(np.uint32)\n",
    "\n",
    "def credit_active(series):\n",
    "    if series == 0:\n",
    "        return 'No Accounts'\n",
    "    elif 1 <= series <= 3:\n",
    "        return '1-3 Accounts'\n",
    "    else : \n",
    "        return ' > 4 Accounts'\n",
    "\n",
    "# reducing engineered feature LOAN_COUNT to 5 categories\n",
    "\n",
    "def loan_count(series):\n",
    "    if series == 0:\n",
    "        return 'No Loans'\n",
    "    elif 1 <= series <= 2:\n",
    "        return '1-2 Loans'\n",
    "    elif 3 <= series <= 5:\n",
    "        return '3-5 Loans'\n",
    "    elif 6 <= series <= 10:\n",
    "        return '6-10 Loans'\n",
    "    else : \n",
    "        return ' > 10 Loans'\n"
   ]
  },
  {
   "cell_type": "markdown",
   "metadata": {},
   "source": [
    "## 1.2 Sampling strategies"
   ]
  },
  {
   "cell_type": "markdown",
   "metadata": {},
   "source": [
    "**Resampling the Training Data**\n",
    "\n",
    "Initially, the models were trained against training data that contained mostly non-defaulting instances. However, the model's performance on this initial training data was inferior, generally failing to classify any defaulting instances. The remedy to this issue was to resample the training data to balance the number of non-defaulting and defaulting instances. All the defaulting instances were retained, but the non-defaulting instances were randomly downsampled to match the number of non-defaulting instances. Resampled training data improved the performance of the models substantially when validated on the test data. \n",
    "\n",
    "The test data was **not** resampled.\n",
    "\n",
    "Additionally, the categroical variables were label encoded, rather than one-hot encoded."
   ]
  },
  {
   "cell_type": "markdown",
   "metadata": {},
   "source": [
    "We combined multiple stratification and sampling techniques to the data before training the model:\n",
    "\n",
    "1. Imputations are calculated based on the training set and applied to the test set.\n",
    "2. A stratefied training/test set by `TARGET` : to guarantee similar distributions\n",
    "3. Random-undersampling by the engineered categorical `CAT_INCOME` : clarify the boundaries between income strata\n",
    "4. Tomek Link under-sampling by `TARGET` : clarify the boundaries between `TARGET` classes"
   ]
  },
  {
   "cell_type": "markdown",
   "metadata": {},
   "source": [
    "### 1.2.1 Stratified Sampling by Incomes\n",
    "Our first step is to separate the `AMT_INCOME_TOTAL` feature and create a new feature by dividing incomes into quantiles."
   ]
  },
  {
   "cell_type": "code",
   "execution_count": 6,
   "metadata": {},
   "outputs": [
    {
     "data": {
      "text/plain": [
       "[$147,150 - $202,500, $202,500 - $117,000,000, $25,659 - $112,500, $112,500 - $147,150, $112,500 - $147,150, ..., $147,150 - $202,500, $25,659 - $112,500, $147,150 - $202,500, $147,150 - $202,500, $147,150 - $202,500]\n",
       "Length: 307511\n",
       "Categories (4, object): [$25,659 - $112,500 < $112,500 - $147,150 < $147,150 - $202,500 < $202,500 - $117,000,000]"
      ]
     },
     "execution_count": 6,
     "metadata": {},
     "output_type": "execute_result"
    }
   ],
   "source": [
    "#create quantiles with simple category names based on the quantile ranges\n",
    "\n",
    "income_labels = ['$25,659 - $112,500', '$112,500 - $147,150',\n",
    "                 '$147,150 - $202,500','$202,500 - $117,000,000']\n",
    "\n",
    "CAT_INCOME = pd.qcut(data_lite['AMT_INCOME_TOTAL'], q = 4,\n",
    "                    labels = income_labels)\n",
    "\n",
    "CAT_INCOME.values"
   ]
  },
  {
   "cell_type": "code",
   "execution_count": 7,
   "metadata": {},
   "outputs": [
    {
     "data": {
      "text/html": [
       "<div>\n",
       "<style scoped>\n",
       "    .dataframe tbody tr th:only-of-type {\n",
       "        vertical-align: middle;\n",
       "    }\n",
       "\n",
       "    .dataframe tbody tr th {\n",
       "        vertical-align: top;\n",
       "    }\n",
       "\n",
       "    .dataframe thead th {\n",
       "        text-align: right;\n",
       "    }\n",
       "</style>\n",
       "<table border=\"1\" class=\"dataframe\">\n",
       "  <thead>\n",
       "    <tr style=\"text-align: right;\">\n",
       "      <th></th>\n",
       "      <th>$25,659 - $112,500</th>\n",
       "      <th>$112,500 - $147,150</th>\n",
       "      <th>$147,150 - $202,500</th>\n",
       "      <th>$202,500 - $117,000,000</th>\n",
       "    </tr>\n",
       "  </thead>\n",
       "  <tbody>\n",
       "    <tr>\n",
       "      <th>count</th>\n",
       "      <td>307511.000000</td>\n",
       "      <td>307511.000000</td>\n",
       "      <td>307511.000000</td>\n",
       "      <td>307511.000000</td>\n",
       "    </tr>\n",
       "    <tr>\n",
       "      <th>mean</th>\n",
       "      <td>0.327071</td>\n",
       "      <td>0.172943</td>\n",
       "      <td>0.267350</td>\n",
       "      <td>0.232636</td>\n",
       "    </tr>\n",
       "    <tr>\n",
       "      <th>std</th>\n",
       "      <td>0.469144</td>\n",
       "      <td>0.378199</td>\n",
       "      <td>0.442577</td>\n",
       "      <td>0.422513</td>\n",
       "    </tr>\n",
       "    <tr>\n",
       "      <th>min</th>\n",
       "      <td>0.000000</td>\n",
       "      <td>0.000000</td>\n",
       "      <td>0.000000</td>\n",
       "      <td>0.000000</td>\n",
       "    </tr>\n",
       "    <tr>\n",
       "      <th>25%</th>\n",
       "      <td>0.000000</td>\n",
       "      <td>0.000000</td>\n",
       "      <td>0.000000</td>\n",
       "      <td>0.000000</td>\n",
       "    </tr>\n",
       "    <tr>\n",
       "      <th>50%</th>\n",
       "      <td>0.000000</td>\n",
       "      <td>0.000000</td>\n",
       "      <td>0.000000</td>\n",
       "      <td>0.000000</td>\n",
       "    </tr>\n",
       "    <tr>\n",
       "      <th>75%</th>\n",
       "      <td>1.000000</td>\n",
       "      <td>0.000000</td>\n",
       "      <td>1.000000</td>\n",
       "      <td>0.000000</td>\n",
       "    </tr>\n",
       "    <tr>\n",
       "      <th>max</th>\n",
       "      <td>1.000000</td>\n",
       "      <td>1.000000</td>\n",
       "      <td>1.000000</td>\n",
       "      <td>1.000000</td>\n",
       "    </tr>\n",
       "  </tbody>\n",
       "</table>\n",
       "</div>"
      ],
      "text/plain": [
       "       $25,659 - $112,500  $112,500 - $147,150  $147,150 - $202,500  \\\n",
       "count       307511.000000        307511.000000        307511.000000   \n",
       "mean             0.327071             0.172943             0.267350   \n",
       "std              0.469144             0.378199             0.442577   \n",
       "min              0.000000             0.000000             0.000000   \n",
       "25%              0.000000             0.000000             0.000000   \n",
       "50%              0.000000             0.000000             0.000000   \n",
       "75%              1.000000             0.000000             1.000000   \n",
       "max              1.000000             1.000000             1.000000   \n",
       "\n",
       "       $202,500 - $117,000,000  \n",
       "count            307511.000000  \n",
       "mean                  0.232636  \n",
       "std                   0.422513  \n",
       "min                   0.000000  \n",
       "25%                   0.000000  \n",
       "50%                   0.000000  \n",
       "75%                   0.000000  \n",
       "max                   1.000000  "
      ]
     },
     "execution_count": 7,
     "metadata": {},
     "output_type": "execute_result"
    }
   ],
   "source": [
    "# simplifying category names\n",
    "data_lite['CAT_INCOME'] = CAT_INCOME.astype('category')\n",
    "#use the get_dummies function to quickly find the percentage of the dataset that each quantile makes up\n",
    "pd.get_dummies(data_lite.CAT_INCOME).describe()"
   ]
  },
  {
   "cell_type": "code",
   "execution_count": 8,
   "metadata": {},
   "outputs": [],
   "source": [
    "# forming new dataset with target included. We will still drop features that we already decided were not useful.\n",
    "strat_inc = data_lite.copy().drop(labels = ['SK_ID_CURR','AMT_GOODS_PRICE'], axis = 1)\n",
    "#print(list(strat_inc.columns))"
   ]
  },
  {
   "cell_type": "markdown",
   "metadata": {},
   "source": [
    "**Splitting the Data**\n",
    "\n",
    "Now that we have the `CAT_INCOME` feature, we can gather the features we want to include in our model and form strata. \n",
    "\n",
    "Before we perform any sampling techniques, we must split our data into training and test sets. Our training set will consist of approximately 80% of the data, while the test set will be set aside for validation.\n",
    "Imputation is only calculated based on the training data."
   ]
  },
  {
   "cell_type": "code",
   "execution_count": 9,
   "metadata": {},
   "outputs": [
    {
     "name": "stdout",
     "output_type": "stream",
     "text": [
      "y_train count: 246008\n",
      "y_test count: 61503\n",
      "Total: 307511\n"
     ]
    }
   ],
   "source": [
    "# stratify the training and test sets by the target first\n",
    "# must keep TARGET in the training sets at this point to under sample by income\n",
    "y = strat_inc.TARGET\n",
    "X = strat_inc\n",
    "# setting random_state\n",
    "random_state = 1\n",
    "\n",
    "X_train_strat, X_test, y_train_strat, y_test = train_test_split(X, y, test_size = .2, random_state = random_state, stratify = y)\n",
    "print('y_train count: ' + str(y_train_strat.count()) + '\\ny_test count: ' + str(y_test.count()) +\n",
    "      '\\nTotal: ' + str(y_train_strat.count() + y_test.count()))\n",
    "# removing CAT_INCOME from X_test because it was created only for stratification\n",
    "X_test = X_test.drop(labels = ['CAT_INCOME'],axis = 1)"
   ]
  },
  {
   "cell_type": "markdown",
   "metadata": {},
   "source": [
    "**Creating Income Strata**\n",
    "\n",
    "We will now take the training set and under-sample all the income categories except the majority category so that it is represented better."
   ]
  },
  {
   "cell_type": "code",
   "execution_count": 10,
   "metadata": {},
   "outputs": [
    {
     "name": "stdout",
     "output_type": "stream",
     "text": [
      "New size of training set:  (208191, 327) Size of label set:  (208191,)\n"
     ]
    }
   ],
   "source": [
    "# We are deciding to under sample all strata except the majority class\n",
    "rus = RandomUnderSampler(random_state = random_state,\n",
    "                         sampling_strategy = 'not majority')\n",
    "\n",
    "# we are undersampling based on strata defined by the CAT_INCOME variable\n",
    "y_inc = X_train_strat.CAT_INCOME\n",
    "X_rus, y_rus = rus.fit_resample(X_train_strat.drop(labels = ['CAT_INCOME'], axis = 1),y_inc)\n",
    "\n",
    "print('New size of training set: ', X_rus.shape,\n",
    "      'Size of label set: ', y_rus.shape)"
   ]
  },
  {
   "cell_type": "markdown",
   "metadata": {},
   "source": [
    "Now that we have applied an under-sampling strategy to make the majority income class more easily seperable, we can now under-sample by the `TARGET` feature to further clarify the boundary."
   ]
  },
  {
   "cell_type": "markdown",
   "metadata": {},
   "source": [
    "We will take the X_rus training data, which is randomly under-sampled by income and under-sample it once more according to the TomekLinks to make the boundary between the classes more evident. Before we can use the Tomek Link undersampling method, we must deal with NaN and None type values. We choose to impute these values based on the mean."
   ]
  },
  {
   "cell_type": "code",
   "execution_count": 11,
   "metadata": {},
   "outputs": [],
   "source": [
    "X_rus_imputed = X_rus.where(pd.notna(X_rus), X_rus.mean(), axis='columns')"
   ]
  },
  {
   "cell_type": "markdown",
   "metadata": {},
   "source": [
    "** Verifying that no NaN values exist"
   ]
  },
  {
   "cell_type": "code",
   "execution_count": 12,
   "metadata": {},
   "outputs": [
    {
     "data": {
      "text/html": [
       "<div>\n",
       "<style scoped>\n",
       "    .dataframe tbody tr th:only-of-type {\n",
       "        vertical-align: middle;\n",
       "    }\n",
       "\n",
       "    .dataframe tbody tr th {\n",
       "        vertical-align: top;\n",
       "    }\n",
       "\n",
       "    .dataframe thead th {\n",
       "        text-align: right;\n",
       "    }\n",
       "</style>\n",
       "<table border=\"1\" class=\"dataframe\">\n",
       "  <thead>\n",
       "    <tr style=\"text-align: right;\">\n",
       "      <th></th>\n",
       "      <th>TARGET</th>\n",
       "      <th>NAME_CONTRACT_TYPE</th>\n",
       "      <th>CODE_GENDER</th>\n",
       "      <th>FLAG_OWN_CAR</th>\n",
       "      <th>FLAG_OWN_REALTY</th>\n",
       "      <th>AMT_INCOME_TOTAL</th>\n",
       "      <th>AMT_CREDIT</th>\n",
       "      <th>AMT_ANNUITY</th>\n",
       "      <th>NAME_TYPE_SUITE</th>\n",
       "      <th>NAME_INCOME_TYPE</th>\n",
       "      <th>...</th>\n",
       "      <th>CREDIT_CNT_INSTALMENT_MATURE_CUM</th>\n",
       "      <th>CREDIT_SK_DPD</th>\n",
       "      <th>CREDIT_SK_DPD_DEF</th>\n",
       "      <th>CREDIT_NAME_CONTRACT_STATUS_Active</th>\n",
       "      <th>CREDIT_NAME_CONTRACT_STATUS_Approved</th>\n",
       "      <th>CREDIT_NAME_CONTRACT_STATUS_Completed</th>\n",
       "      <th>CREDIT_NAME_CONTRACT_STATUS_Demand</th>\n",
       "      <th>CREDIT_NAME_CONTRACT_STATUS_Refused</th>\n",
       "      <th>CREDIT_NAME_CONTRACT_STATUS_Sent proposal</th>\n",
       "      <th>CREDIT_NAME_CONTRACT_STATUS_Signed</th>\n",
       "    </tr>\n",
       "  </thead>\n",
       "  <tbody>\n",
       "    <tr>\n",
       "      <th>count</th>\n",
       "      <td>208191.000000</td>\n",
       "      <td>208191.000000</td>\n",
       "      <td>208191.000000</td>\n",
       "      <td>208191.000000</td>\n",
       "      <td>208191.000000</td>\n",
       "      <td>2.081910e+05</td>\n",
       "      <td>2.081910e+05</td>\n",
       "      <td>208191.000000</td>\n",
       "      <td>208191.000000</td>\n",
       "      <td>208191.000000</td>\n",
       "      <td>...</td>\n",
       "      <td>208191.000000</td>\n",
       "      <td>208191.000000</td>\n",
       "      <td>208191.000000</td>\n",
       "      <td>208191.000000</td>\n",
       "      <td>2.081910e+05</td>\n",
       "      <td>208191.000000</td>\n",
       "      <td>208191.000000</td>\n",
       "      <td>2.081910e+05</td>\n",
       "      <td>208191.000000</td>\n",
       "      <td>208191.000000</td>\n",
       "    </tr>\n",
       "    <tr>\n",
       "      <th>mean</th>\n",
       "      <td>0.081123</td>\n",
       "      <td>0.097559</td>\n",
       "      <td>0.673651</td>\n",
       "      <td>0.327099</td>\n",
       "      <td>0.693022</td>\n",
       "      <td>1.593296e+05</td>\n",
       "      <td>5.775568e+05</td>\n",
       "      <td>26229.417969</td>\n",
       "      <td>5.223809</td>\n",
       "      <td>4.701889</td>\n",
       "      <td>...</td>\n",
       "      <td>2.825006</td>\n",
       "      <td>1.187625</td>\n",
       "      <td>0.027004</td>\n",
       "      <td>0.267709</td>\n",
       "      <td>2.072705e-07</td>\n",
       "      <td>0.008019</td>\n",
       "      <td>0.000022</td>\n",
       "      <td>6.993914e-07</td>\n",
       "      <td>0.000019</td>\n",
       "      <td>0.001047</td>\n",
       "    </tr>\n",
       "    <tr>\n",
       "      <th>std</th>\n",
       "      <td>0.273024</td>\n",
       "      <td>0.296719</td>\n",
       "      <td>0.468878</td>\n",
       "      <td>0.469155</td>\n",
       "      <td>0.461241</td>\n",
       "      <td>2.783113e+05</td>\n",
       "      <td>3.939565e+05</td>\n",
       "      <td>14172.670898</td>\n",
       "      <td>1.771066</td>\n",
       "      <td>2.523665</td>\n",
       "      <td>...</td>\n",
       "      <td>8.474524</td>\n",
       "      <td>23.710979</td>\n",
       "      <td>4.155921</td>\n",
       "      <td>0.436248</td>\n",
       "      <td>4.730092e-05</td>\n",
       "      <td>0.054507</td>\n",
       "      <td>0.003932</td>\n",
       "      <td>9.236226e-05</td>\n",
       "      <td>0.000476</td>\n",
       "      <td>0.017391</td>\n",
       "    </tr>\n",
       "    <tr>\n",
       "      <th>min</th>\n",
       "      <td>0.000000</td>\n",
       "      <td>0.000000</td>\n",
       "      <td>0.000000</td>\n",
       "      <td>0.000000</td>\n",
       "      <td>0.000000</td>\n",
       "      <td>2.565000e+04</td>\n",
       "      <td>4.500000e+04</td>\n",
       "      <td>1615.500000</td>\n",
       "      <td>0.000000</td>\n",
       "      <td>0.000000</td>\n",
       "      <td>...</td>\n",
       "      <td>0.000000</td>\n",
       "      <td>0.000000</td>\n",
       "      <td>0.000000</td>\n",
       "      <td>0.000000</td>\n",
       "      <td>0.000000e+00</td>\n",
       "      <td>0.000000</td>\n",
       "      <td>0.000000</td>\n",
       "      <td>0.000000e+00</td>\n",
       "      <td>0.000000</td>\n",
       "      <td>0.000000</td>\n",
       "    </tr>\n",
       "    <tr>\n",
       "      <th>25%</th>\n",
       "      <td>0.000000</td>\n",
       "      <td>0.000000</td>\n",
       "      <td>0.000000</td>\n",
       "      <td>0.000000</td>\n",
       "      <td>0.000000</td>\n",
       "      <td>1.035000e+05</td>\n",
       "      <td>2.700000e+05</td>\n",
       "      <td>16011.000000</td>\n",
       "      <td>6.000000</td>\n",
       "      <td>3.000000</td>\n",
       "      <td>...</td>\n",
       "      <td>0.000000</td>\n",
       "      <td>0.000000</td>\n",
       "      <td>0.000000</td>\n",
       "      <td>0.000000</td>\n",
       "      <td>0.000000e+00</td>\n",
       "      <td>0.000000</td>\n",
       "      <td>0.000000</td>\n",
       "      <td>0.000000e+00</td>\n",
       "      <td>0.000000</td>\n",
       "      <td>0.000000</td>\n",
       "    </tr>\n",
       "    <tr>\n",
       "      <th>50%</th>\n",
       "      <td>0.000000</td>\n",
       "      <td>0.000000</td>\n",
       "      <td>1.000000</td>\n",
       "      <td>0.000000</td>\n",
       "      <td>1.000000</td>\n",
       "      <td>1.350000e+05</td>\n",
       "      <td>4.950000e+05</td>\n",
       "      <td>23994.000000</td>\n",
       "      <td>6.000000</td>\n",
       "      <td>7.000000</td>\n",
       "      <td>...</td>\n",
       "      <td>0.000000</td>\n",
       "      <td>0.000000</td>\n",
       "      <td>0.000000</td>\n",
       "      <td>0.000000</td>\n",
       "      <td>0.000000e+00</td>\n",
       "      <td>0.000000</td>\n",
       "      <td>0.000000</td>\n",
       "      <td>0.000000e+00</td>\n",
       "      <td>0.000000</td>\n",
       "      <td>0.000000</td>\n",
       "    </tr>\n",
       "    <tr>\n",
       "      <th>75%</th>\n",
       "      <td>0.000000</td>\n",
       "      <td>0.000000</td>\n",
       "      <td>1.000000</td>\n",
       "      <td>1.000000</td>\n",
       "      <td>1.000000</td>\n",
       "      <td>1.890000e+05</td>\n",
       "      <td>7.871310e+05</td>\n",
       "      <td>33192.000000</td>\n",
       "      <td>6.000000</td>\n",
       "      <td>7.000000</td>\n",
       "      <td>...</td>\n",
       "      <td>0.000000</td>\n",
       "      <td>0.000000</td>\n",
       "      <td>0.000000</td>\n",
       "      <td>0.897461</td>\n",
       "      <td>0.000000e+00</td>\n",
       "      <td>0.000000</td>\n",
       "      <td>0.000000</td>\n",
       "      <td>0.000000e+00</td>\n",
       "      <td>0.000000</td>\n",
       "      <td>0.000000</td>\n",
       "    </tr>\n",
       "    <tr>\n",
       "      <th>max</th>\n",
       "      <td>1.000000</td>\n",
       "      <td>1.000000</td>\n",
       "      <td>1.000000</td>\n",
       "      <td>1.000000</td>\n",
       "      <td>1.000000</td>\n",
       "      <td>1.170000e+08</td>\n",
       "      <td>4.050000e+06</td>\n",
       "      <td>258025.500000</td>\n",
       "      <td>6.000000</td>\n",
       "      <td>7.000000</td>\n",
       "      <td>...</td>\n",
       "      <td>73.062500</td>\n",
       "      <td>1342.000000</td>\n",
       "      <td>1277.000000</td>\n",
       "      <td>1.000000</td>\n",
       "      <td>1.123810e-02</td>\n",
       "      <td>1.000000</td>\n",
       "      <td>0.860352</td>\n",
       "      <td>1.388550e-02</td>\n",
       "      <td>0.024384</td>\n",
       "      <td>1.000000</td>\n",
       "    </tr>\n",
       "  </tbody>\n",
       "</table>\n",
       "<p>8 rows × 327 columns</p>\n",
       "</div>"
      ],
      "text/plain": [
       "              TARGET  NAME_CONTRACT_TYPE    CODE_GENDER   FLAG_OWN_CAR  \\\n",
       "count  208191.000000       208191.000000  208191.000000  208191.000000   \n",
       "mean        0.081123            0.097559       0.673651       0.327099   \n",
       "std         0.273024            0.296719       0.468878       0.469155   \n",
       "min         0.000000            0.000000       0.000000       0.000000   \n",
       "25%         0.000000            0.000000       0.000000       0.000000   \n",
       "50%         0.000000            0.000000       1.000000       0.000000   \n",
       "75%         0.000000            0.000000       1.000000       1.000000   \n",
       "max         1.000000            1.000000       1.000000       1.000000   \n",
       "\n",
       "       FLAG_OWN_REALTY  AMT_INCOME_TOTAL    AMT_CREDIT    AMT_ANNUITY  \\\n",
       "count    208191.000000      2.081910e+05  2.081910e+05  208191.000000   \n",
       "mean          0.693022      1.593296e+05  5.775568e+05   26229.417969   \n",
       "std           0.461241      2.783113e+05  3.939565e+05   14172.670898   \n",
       "min           0.000000      2.565000e+04  4.500000e+04    1615.500000   \n",
       "25%           0.000000      1.035000e+05  2.700000e+05   16011.000000   \n",
       "50%           1.000000      1.350000e+05  4.950000e+05   23994.000000   \n",
       "75%           1.000000      1.890000e+05  7.871310e+05   33192.000000   \n",
       "max           1.000000      1.170000e+08  4.050000e+06  258025.500000   \n",
       "\n",
       "       NAME_TYPE_SUITE  NAME_INCOME_TYPE  ...  \\\n",
       "count    208191.000000     208191.000000  ...   \n",
       "mean          5.223809          4.701889  ...   \n",
       "std           1.771066          2.523665  ...   \n",
       "min           0.000000          0.000000  ...   \n",
       "25%           6.000000          3.000000  ...   \n",
       "50%           6.000000          7.000000  ...   \n",
       "75%           6.000000          7.000000  ...   \n",
       "max           6.000000          7.000000  ...   \n",
       "\n",
       "       CREDIT_CNT_INSTALMENT_MATURE_CUM  CREDIT_SK_DPD  CREDIT_SK_DPD_DEF  \\\n",
       "count                     208191.000000  208191.000000      208191.000000   \n",
       "mean                           2.825006       1.187625           0.027004   \n",
       "std                            8.474524      23.710979           4.155921   \n",
       "min                            0.000000       0.000000           0.000000   \n",
       "25%                            0.000000       0.000000           0.000000   \n",
       "50%                            0.000000       0.000000           0.000000   \n",
       "75%                            0.000000       0.000000           0.000000   \n",
       "max                           73.062500    1342.000000        1277.000000   \n",
       "\n",
       "       CREDIT_NAME_CONTRACT_STATUS_Active  \\\n",
       "count                       208191.000000   \n",
       "mean                             0.267709   \n",
       "std                              0.436248   \n",
       "min                              0.000000   \n",
       "25%                              0.000000   \n",
       "50%                              0.000000   \n",
       "75%                              0.897461   \n",
       "max                              1.000000   \n",
       "\n",
       "       CREDIT_NAME_CONTRACT_STATUS_Approved  \\\n",
       "count                          2.081910e+05   \n",
       "mean                           2.072705e-07   \n",
       "std                            4.730092e-05   \n",
       "min                            0.000000e+00   \n",
       "25%                            0.000000e+00   \n",
       "50%                            0.000000e+00   \n",
       "75%                            0.000000e+00   \n",
       "max                            1.123810e-02   \n",
       "\n",
       "       CREDIT_NAME_CONTRACT_STATUS_Completed  \\\n",
       "count                          208191.000000   \n",
       "mean                                0.008019   \n",
       "std                                 0.054507   \n",
       "min                                 0.000000   \n",
       "25%                                 0.000000   \n",
       "50%                                 0.000000   \n",
       "75%                                 0.000000   \n",
       "max                                 1.000000   \n",
       "\n",
       "       CREDIT_NAME_CONTRACT_STATUS_Demand  \\\n",
       "count                       208191.000000   \n",
       "mean                             0.000022   \n",
       "std                              0.003932   \n",
       "min                              0.000000   \n",
       "25%                              0.000000   \n",
       "50%                              0.000000   \n",
       "75%                              0.000000   \n",
       "max                              0.860352   \n",
       "\n",
       "       CREDIT_NAME_CONTRACT_STATUS_Refused  \\\n",
       "count                         2.081910e+05   \n",
       "mean                          6.993914e-07   \n",
       "std                           9.236226e-05   \n",
       "min                           0.000000e+00   \n",
       "25%                           0.000000e+00   \n",
       "50%                           0.000000e+00   \n",
       "75%                           0.000000e+00   \n",
       "max                           1.388550e-02   \n",
       "\n",
       "       CREDIT_NAME_CONTRACT_STATUS_Sent proposal  \\\n",
       "count                              208191.000000   \n",
       "mean                                    0.000019   \n",
       "std                                     0.000476   \n",
       "min                                     0.000000   \n",
       "25%                                     0.000000   \n",
       "50%                                     0.000000   \n",
       "75%                                     0.000000   \n",
       "max                                     0.024384   \n",
       "\n",
       "       CREDIT_NAME_CONTRACT_STATUS_Signed  \n",
       "count                       208191.000000  \n",
       "mean                             0.001047  \n",
       "std                              0.017391  \n",
       "min                              0.000000  \n",
       "25%                              0.000000  \n",
       "50%                              0.000000  \n",
       "75%                              0.000000  \n",
       "max                              1.000000  \n",
       "\n",
       "[8 rows x 327 columns]"
      ]
     },
     "execution_count": 12,
     "metadata": {},
     "output_type": "execute_result"
    }
   ],
   "source": [
    "X_rus_imputed.describe()"
   ]
  },
  {
   "cell_type": "markdown",
   "metadata": {},
   "source": [
    "### 1.2.1 Under Sampling by Tomek Links"
   ]
  },
  {
   "cell_type": "markdown",
   "metadata": {},
   "source": [
    "Applying the Tomek Link Undersampling method to make the decision boundary between defaults and non-defaults more evident."
   ]
  },
  {
   "cell_type": "code",
   "execution_count": 13,
   "metadata": {},
   "outputs": [
    {
     "name": "stdout",
     "output_type": "stream",
     "text": [
      "Training set shape:  (201533, 326) \n",
      "Number of labels:  (201533,)\n"
     ]
    }
   ],
   "source": [
    "tl = TomekLinks()\n",
    "# now we can drop the TARGET variable from the training set and use the Tomek Links to selectively undersample the majority and clarify class boundaries.\n",
    "y = X_rus.TARGET.copy()\n",
    "X_tl, y_tl = tl.fit_sample(X_rus_imputed.drop(labels = ['TARGET'], axis = 1), y)\n",
    "print('Training set shape: ', X_tl.shape,\n",
    "      '\\nNumber of labels: ', y_tl.shape)"
   ]
  },
  {
   "cell_type": "markdown",
   "metadata": {},
   "source": [
    "### 1.2.2 Downsampling to achieve balance"
   ]
  },
  {
   "cell_type": "markdown",
   "metadata": {},
   "source": [
    "Our metric of choice is recall, which can be improved most effectively by balancing the training set. We have used two strategies that selectively under-sample the data, but an imbalance between the number of defaulted loans and non-defaulted loans still persists. We will create a final training set that has defaults and non-defaulted loans represented equally."
   ]
  },
  {
   "cell_type": "code",
   "execution_count": 36,
   "metadata": {},
   "outputs": [
    {
     "name": "stdout",
     "output_type": "stream",
     "text": [
      "Final Data shape:  (33778, 327) Percent defaults:  0.5\n"
     ]
    }
   ],
   "source": [
    "def downsampling_strategy(X, y):\n",
    "    y.columns = ['TARGET']\n",
    "    X = X.copy(deep=True)\n",
    "    y = y.copy(deep=True)\n",
    "    y = y.to_frame(name = 'TARGET')\n",
    "    random_state = 1\n",
    "    # balancing the training set\n",
    "    df = pd.concat([X, y], axis =1)\n",
    "    defaults = df[df['TARGET'] == 1]\n",
    "    nominal = df[df['TARGET'] == 0].sample(\n",
    "        n = np.round(0.5 * (defaults.TARGET.size / 0.5)).astype(int), random_state = random_state)\n",
    "    # join dataframes and shuffle\n",
    "    df = pd.concat([defaults, nominal]).sample(frac = 1, random_state = random_state)\n",
    "    return df\n",
    "data_final = downsampling_strategy(X_tl, y_tl)\n",
    "print('Final Data shape: ', data_final.shape,\n",
    "     'Percent defaults: ', data_final[data_final['TARGET'] == 1].shape[0] / data_final.shape[0])"
   ]
  },
  {
   "cell_type": "markdown",
   "metadata": {},
   "source": [
    "We now have a balanced dataset."
   ]
  },
  {
   "cell_type": "code",
   "execution_count": 37,
   "metadata": {},
   "outputs": [
    {
     "data": {
      "text/html": [
       "<div>\n",
       "<style scoped>\n",
       "    .dataframe tbody tr th:only-of-type {\n",
       "        vertical-align: middle;\n",
       "    }\n",
       "\n",
       "    .dataframe tbody tr th {\n",
       "        vertical-align: top;\n",
       "    }\n",
       "\n",
       "    .dataframe thead th {\n",
       "        text-align: right;\n",
       "    }\n",
       "</style>\n",
       "<table border=\"1\" class=\"dataframe\">\n",
       "  <thead>\n",
       "    <tr style=\"text-align: right;\">\n",
       "      <th></th>\n",
       "      <th>NAME_CONTRACT_TYPE</th>\n",
       "      <th>CODE_GENDER</th>\n",
       "      <th>FLAG_OWN_CAR</th>\n",
       "      <th>FLAG_OWN_REALTY</th>\n",
       "      <th>AMT_INCOME_TOTAL</th>\n",
       "      <th>AMT_CREDIT</th>\n",
       "      <th>AMT_ANNUITY</th>\n",
       "      <th>NAME_TYPE_SUITE</th>\n",
       "      <th>NAME_INCOME_TYPE</th>\n",
       "      <th>NAME_EDUCATION_TYPE</th>\n",
       "      <th>...</th>\n",
       "      <th>CREDIT_SK_DPD</th>\n",
       "      <th>CREDIT_SK_DPD_DEF</th>\n",
       "      <th>CREDIT_NAME_CONTRACT_STATUS_Active</th>\n",
       "      <th>CREDIT_NAME_CONTRACT_STATUS_Approved</th>\n",
       "      <th>CREDIT_NAME_CONTRACT_STATUS_Completed</th>\n",
       "      <th>CREDIT_NAME_CONTRACT_STATUS_Demand</th>\n",
       "      <th>CREDIT_NAME_CONTRACT_STATUS_Refused</th>\n",
       "      <th>CREDIT_NAME_CONTRACT_STATUS_Sent proposal</th>\n",
       "      <th>CREDIT_NAME_CONTRACT_STATUS_Signed</th>\n",
       "      <th>TARGET</th>\n",
       "    </tr>\n",
       "  </thead>\n",
       "  <tbody>\n",
       "    <tr>\n",
       "      <th>count</th>\n",
       "      <td>33778.000000</td>\n",
       "      <td>33778.000000</td>\n",
       "      <td>33778.000000</td>\n",
       "      <td>33778.000000</td>\n",
       "      <td>3.377800e+04</td>\n",
       "      <td>3.377800e+04</td>\n",
       "      <td>33778.000000</td>\n",
       "      <td>33778.000000</td>\n",
       "      <td>33778.000000</td>\n",
       "      <td>33778.000000</td>\n",
       "      <td>...</td>\n",
       "      <td>33778.000000</td>\n",
       "      <td>33778.000000</td>\n",
       "      <td>33778.000000</td>\n",
       "      <td>33778.0</td>\n",
       "      <td>33778.000000</td>\n",
       "      <td>33778.000000</td>\n",
       "      <td>3.377800e+04</td>\n",
       "      <td>33778.000000</td>\n",
       "      <td>33778.000000</td>\n",
       "      <td>33778.000000</td>\n",
       "    </tr>\n",
       "    <tr>\n",
       "      <th>mean</th>\n",
       "      <td>0.083842</td>\n",
       "      <td>0.633045</td>\n",
       "      <td>0.317337</td>\n",
       "      <td>0.685653</td>\n",
       "      <td>1.586248e+05</td>\n",
       "      <td>5.605172e+05</td>\n",
       "      <td>26016.193359</td>\n",
       "      <td>5.247350</td>\n",
       "      <td>4.888093</td>\n",
       "      <td>3.329060</td>\n",
       "      <td>...</td>\n",
       "      <td>1.150045</td>\n",
       "      <td>0.048823</td>\n",
       "      <td>0.279654</td>\n",
       "      <td>0.0</td>\n",
       "      <td>0.007350</td>\n",
       "      <td>0.000017</td>\n",
       "      <td>6.615696e-07</td>\n",
       "      <td>0.000013</td>\n",
       "      <td>0.001082</td>\n",
       "      <td>0.500000</td>\n",
       "    </tr>\n",
       "    <tr>\n",
       "      <th>std</th>\n",
       "      <td>0.277154</td>\n",
       "      <td>0.481981</td>\n",
       "      <td>0.465447</td>\n",
       "      <td>0.464262</td>\n",
       "      <td>6.423288e+05</td>\n",
       "      <td>3.691734e+05</td>\n",
       "      <td>13326.582031</td>\n",
       "      <td>1.745836</td>\n",
       "      <td>2.527236</td>\n",
       "      <td>1.211645</td>\n",
       "      <td>...</td>\n",
       "      <td>24.191065</td>\n",
       "      <td>6.951905</td>\n",
       "      <td>0.442767</td>\n",
       "      <td>0.0</td>\n",
       "      <td>0.051447</td>\n",
       "      <td>0.003063</td>\n",
       "      <td>8.598443e-05</td>\n",
       "      <td>0.000394</td>\n",
       "      <td>0.018085</td>\n",
       "      <td>0.500007</td>\n",
       "    </tr>\n",
       "    <tr>\n",
       "      <th>min</th>\n",
       "      <td>0.000000</td>\n",
       "      <td>0.000000</td>\n",
       "      <td>0.000000</td>\n",
       "      <td>0.000000</td>\n",
       "      <td>2.565000e+04</td>\n",
       "      <td>4.500000e+04</td>\n",
       "      <td>1980.000000</td>\n",
       "      <td>0.000000</td>\n",
       "      <td>1.000000</td>\n",
       "      <td>0.000000</td>\n",
       "      <td>...</td>\n",
       "      <td>0.000000</td>\n",
       "      <td>0.000000</td>\n",
       "      <td>0.000000</td>\n",
       "      <td>0.0</td>\n",
       "      <td>0.000000</td>\n",
       "      <td>0.000000</td>\n",
       "      <td>0.000000e+00</td>\n",
       "      <td>0.000000</td>\n",
       "      <td>0.000000</td>\n",
       "      <td>0.000000</td>\n",
       "    </tr>\n",
       "    <tr>\n",
       "      <th>25%</th>\n",
       "      <td>0.000000</td>\n",
       "      <td>0.000000</td>\n",
       "      <td>0.000000</td>\n",
       "      <td>0.000000</td>\n",
       "      <td>1.035000e+05</td>\n",
       "      <td>2.700000e+05</td>\n",
       "      <td>16456.500000</td>\n",
       "      <td>6.000000</td>\n",
       "      <td>3.000000</td>\n",
       "      <td>4.000000</td>\n",
       "      <td>...</td>\n",
       "      <td>0.000000</td>\n",
       "      <td>0.000000</td>\n",
       "      <td>0.000000</td>\n",
       "      <td>0.0</td>\n",
       "      <td>0.000000</td>\n",
       "      <td>0.000000</td>\n",
       "      <td>0.000000e+00</td>\n",
       "      <td>0.000000</td>\n",
       "      <td>0.000000</td>\n",
       "      <td>0.000000</td>\n",
       "    </tr>\n",
       "    <tr>\n",
       "      <th>50%</th>\n",
       "      <td>0.000000</td>\n",
       "      <td>1.000000</td>\n",
       "      <td>0.000000</td>\n",
       "      <td>1.000000</td>\n",
       "      <td>1.350000e+05</td>\n",
       "      <td>4.856400e+05</td>\n",
       "      <td>24261.750000</td>\n",
       "      <td>6.000000</td>\n",
       "      <td>7.000000</td>\n",
       "      <td>4.000000</td>\n",
       "      <td>...</td>\n",
       "      <td>0.000000</td>\n",
       "      <td>0.000000</td>\n",
       "      <td>0.000000</td>\n",
       "      <td>0.0</td>\n",
       "      <td>0.000000</td>\n",
       "      <td>0.000000</td>\n",
       "      <td>0.000000e+00</td>\n",
       "      <td>0.000000</td>\n",
       "      <td>0.000000</td>\n",
       "      <td>0.500000</td>\n",
       "    </tr>\n",
       "    <tr>\n",
       "      <th>75%</th>\n",
       "      <td>0.000000</td>\n",
       "      <td>1.000000</td>\n",
       "      <td>1.000000</td>\n",
       "      <td>1.000000</td>\n",
       "      <td>1.800000e+05</td>\n",
       "      <td>7.551900e+05</td>\n",
       "      <td>32602.500000</td>\n",
       "      <td>6.000000</td>\n",
       "      <td>7.000000</td>\n",
       "      <td>4.000000</td>\n",
       "      <td>...</td>\n",
       "      <td>0.000000</td>\n",
       "      <td>0.000000</td>\n",
       "      <td>0.973511</td>\n",
       "      <td>0.0</td>\n",
       "      <td>0.000000</td>\n",
       "      <td>0.000000</td>\n",
       "      <td>0.000000e+00</td>\n",
       "      <td>0.000000</td>\n",
       "      <td>0.000000</td>\n",
       "      <td>1.000000</td>\n",
       "    </tr>\n",
       "    <tr>\n",
       "      <th>max</th>\n",
       "      <td>1.000000</td>\n",
       "      <td>1.000000</td>\n",
       "      <td>1.000000</td>\n",
       "      <td>1.000000</td>\n",
       "      <td>1.170000e+08</td>\n",
       "      <td>4.050000e+06</td>\n",
       "      <td>230161.500000</td>\n",
       "      <td>6.000000</td>\n",
       "      <td>7.000000</td>\n",
       "      <td>4.000000</td>\n",
       "      <td>...</td>\n",
       "      <td>1277.000000</td>\n",
       "      <td>1277.000000</td>\n",
       "      <td>1.000000</td>\n",
       "      <td>0.0</td>\n",
       "      <td>1.000000</td>\n",
       "      <td>0.562988</td>\n",
       "      <td>1.136017e-02</td>\n",
       "      <td>0.014923</td>\n",
       "      <td>1.000000</td>\n",
       "      <td>1.000000</td>\n",
       "    </tr>\n",
       "  </tbody>\n",
       "</table>\n",
       "<p>8 rows × 327 columns</p>\n",
       "</div>"
      ],
      "text/plain": [
       "       NAME_CONTRACT_TYPE   CODE_GENDER  FLAG_OWN_CAR  FLAG_OWN_REALTY  \\\n",
       "count        33778.000000  33778.000000  33778.000000     33778.000000   \n",
       "mean             0.083842      0.633045      0.317337         0.685653   \n",
       "std              0.277154      0.481981      0.465447         0.464262   \n",
       "min              0.000000      0.000000      0.000000         0.000000   \n",
       "25%              0.000000      0.000000      0.000000         0.000000   \n",
       "50%              0.000000      1.000000      0.000000         1.000000   \n",
       "75%              0.000000      1.000000      1.000000         1.000000   \n",
       "max              1.000000      1.000000      1.000000         1.000000   \n",
       "\n",
       "       AMT_INCOME_TOTAL    AMT_CREDIT    AMT_ANNUITY  NAME_TYPE_SUITE  \\\n",
       "count      3.377800e+04  3.377800e+04   33778.000000     33778.000000   \n",
       "mean       1.586248e+05  5.605172e+05   26016.193359         5.247350   \n",
       "std        6.423288e+05  3.691734e+05   13326.582031         1.745836   \n",
       "min        2.565000e+04  4.500000e+04    1980.000000         0.000000   \n",
       "25%        1.035000e+05  2.700000e+05   16456.500000         6.000000   \n",
       "50%        1.350000e+05  4.856400e+05   24261.750000         6.000000   \n",
       "75%        1.800000e+05  7.551900e+05   32602.500000         6.000000   \n",
       "max        1.170000e+08  4.050000e+06  230161.500000         6.000000   \n",
       "\n",
       "       NAME_INCOME_TYPE  NAME_EDUCATION_TYPE  ...  CREDIT_SK_DPD  \\\n",
       "count      33778.000000         33778.000000  ...   33778.000000   \n",
       "mean           4.888093             3.329060  ...       1.150045   \n",
       "std            2.527236             1.211645  ...      24.191065   \n",
       "min            1.000000             0.000000  ...       0.000000   \n",
       "25%            3.000000             4.000000  ...       0.000000   \n",
       "50%            7.000000             4.000000  ...       0.000000   \n",
       "75%            7.000000             4.000000  ...       0.000000   \n",
       "max            7.000000             4.000000  ...    1277.000000   \n",
       "\n",
       "       CREDIT_SK_DPD_DEF  CREDIT_NAME_CONTRACT_STATUS_Active  \\\n",
       "count       33778.000000                        33778.000000   \n",
       "mean            0.048823                            0.279654   \n",
       "std             6.951905                            0.442767   \n",
       "min             0.000000                            0.000000   \n",
       "25%             0.000000                            0.000000   \n",
       "50%             0.000000                            0.000000   \n",
       "75%             0.000000                            0.973511   \n",
       "max          1277.000000                            1.000000   \n",
       "\n",
       "       CREDIT_NAME_CONTRACT_STATUS_Approved  \\\n",
       "count                               33778.0   \n",
       "mean                                    0.0   \n",
       "std                                     0.0   \n",
       "min                                     0.0   \n",
       "25%                                     0.0   \n",
       "50%                                     0.0   \n",
       "75%                                     0.0   \n",
       "max                                     0.0   \n",
       "\n",
       "       CREDIT_NAME_CONTRACT_STATUS_Completed  \\\n",
       "count                           33778.000000   \n",
       "mean                                0.007350   \n",
       "std                                 0.051447   \n",
       "min                                 0.000000   \n",
       "25%                                 0.000000   \n",
       "50%                                 0.000000   \n",
       "75%                                 0.000000   \n",
       "max                                 1.000000   \n",
       "\n",
       "       CREDIT_NAME_CONTRACT_STATUS_Demand  \\\n",
       "count                        33778.000000   \n",
       "mean                             0.000017   \n",
       "std                              0.003063   \n",
       "min                              0.000000   \n",
       "25%                              0.000000   \n",
       "50%                              0.000000   \n",
       "75%                              0.000000   \n",
       "max                              0.562988   \n",
       "\n",
       "       CREDIT_NAME_CONTRACT_STATUS_Refused  \\\n",
       "count                         3.377800e+04   \n",
       "mean                          6.615696e-07   \n",
       "std                           8.598443e-05   \n",
       "min                           0.000000e+00   \n",
       "25%                           0.000000e+00   \n",
       "50%                           0.000000e+00   \n",
       "75%                           0.000000e+00   \n",
       "max                           1.136017e-02   \n",
       "\n",
       "       CREDIT_NAME_CONTRACT_STATUS_Sent proposal  \\\n",
       "count                               33778.000000   \n",
       "mean                                    0.000013   \n",
       "std                                     0.000394   \n",
       "min                                     0.000000   \n",
       "25%                                     0.000000   \n",
       "50%                                     0.000000   \n",
       "75%                                     0.000000   \n",
       "max                                     0.014923   \n",
       "\n",
       "       CREDIT_NAME_CONTRACT_STATUS_Signed        TARGET  \n",
       "count                        33778.000000  33778.000000  \n",
       "mean                             0.001082      0.500000  \n",
       "std                              0.018085      0.500007  \n",
       "min                              0.000000      0.000000  \n",
       "25%                              0.000000      0.000000  \n",
       "50%                              0.000000      0.500000  \n",
       "75%                              0.000000      1.000000  \n",
       "max                              1.000000      1.000000  \n",
       "\n",
       "[8 rows x 327 columns]"
      ]
     },
     "execution_count": 37,
     "metadata": {},
     "output_type": "execute_result"
    }
   ],
   "source": [
    "data_final.describe()"
   ]
  },
  {
   "cell_type": "markdown",
   "metadata": {},
   "source": [
    "### 1.1.1 Principal Component Analysis\n",
    "\n",
    "Our feature selection decisions prompted a review of the Principal Components to see if a more significant separation between the classes is evident. We dropped variables that seemed the least useful for this type of analysis. Next, we on-hot encoded to eliminate the duplication of categorical features that were already binary indicators."
   ]
  },
  {
   "cell_type": "code",
   "execution_count": 38,
   "metadata": {},
   "outputs": [
    {
     "name": "stdout",
     "output_type": "stream",
     "text": [
      "<class 'pandas.core.frame.DataFrame'>\n",
      "Int64Index: 33778 entries, 166872 to 134341\n",
      "Columns: 326 entries, NAME_CONTRACT_TYPE to CREDIT_NAME_CONTRACT_STATUS_Signed\n",
      "dtypes: float32(276), int8(50)\n",
      "memory usage: 37.4 MB\n"
     ]
    }
   ],
   "source": [
    "# dropping variables that were deemed the least useful for analysis\n",
    "y_train = data_final.TARGET.copy()\n",
    "new_df = data_final.copy().drop(['TARGET'], axis = 1)\n",
    "new_df = new_df.fillna(0)\n",
    "new_df.info()"
   ]
  },
  {
   "cell_type": "code",
   "execution_count": 39,
   "metadata": {},
   "outputs": [
    {
     "data": {
      "text/plain": [
       "(33778, 326)"
      ]
     },
     "execution_count": 39,
     "metadata": {},
     "output_type": "execute_result"
    }
   ],
   "source": [
    "sc = StandardScaler()\n",
    "sc.fit(new_df)\n",
    "X_std = sc.transform(new_df) \n",
    "X_std.shape"
   ]
  },
  {
   "cell_type": "code",
   "execution_count": 40,
   "metadata": {},
   "outputs": [
    {
     "name": "stdout",
     "output_type": "stream",
     "text": [
      "\n",
      "Top Ten Eigenvalues \n",
      "[18.43774279 10.16494678  9.12500087  6.66609231  5.71167223  5.12202143\n",
      "  4.80021381  4.17555201  3.84662142]\n"
     ]
    }
   ],
   "source": [
    "cov_mat = np.cov(X_std.T)\n",
    "eigen_vals, eigen_vecs = np.linalg.eig(cov_mat)\n",
    "print('\\nTop Ten Eigenvalues \\n%s' % eigen_vals[0:9])"
   ]
  },
  {
   "cell_type": "code",
   "execution_count": 41,
   "metadata": {},
   "outputs": [
    {
     "name": "stdout",
     "output_type": "stream",
     "text": [
      "Variance Explained length: 326 \n",
      "Cumulative Variance Explained length : 326\n"
     ]
    }
   ],
   "source": [
    "# calculating the total var explained and cumulative variance\n",
    "tot = sum(eigen_vals)\n",
    "var_exp = [(i/tot) for i in sorted(eigen_vals, reverse =True)]\n",
    "cum_var_exp = np.cumsum(var_exp)\n",
    "len(var_exp)\n",
    "len(cum_var_exp)\n",
    "print(\"Variance Explained length: \" + str(len(var_exp)), \"\\nCumulative Variance Explained length : \" + str(len(cum_var_exp)))"
   ]
  },
  {
   "cell_type": "code",
   "execution_count": 42,
   "metadata": {},
   "outputs": [
    {
     "data": {
      "image/png": "[encoded data removed]",
      "text/plain": [
       "<Figure size 432x288 with 1 Axes>"
      ]
     },
     "metadata": {
      "needs_background": "light"
     },
     "output_type": "display_data"
    }
   ],
   "source": [
    "plt.bar(range(1,327), var_exp, alpha = .5, align = 'center', label = 'Individual Explained Variance')\n",
    "\n",
    "plt.step(range(1,327), cum_var_exp, where = 'mid', label = 'Cumulative Variance Explained')\n",
    "\n",
    "plt.ylabel('Explained Variance Ratio')\n",
    "plt.xlabel('Principal Componenet Index')\n",
    "plt.legend(loc='best')\n",
    "plt.show()"
   ]
  },
  {
   "cell_type": "markdown",
   "metadata": {},
   "source": [
    "**Significant Findings**\n",
    "\n",
    "To capture at least 80% of the variability in the dataset, we must include around 150 principal components. While this is a large number of features, our previous dataset contained 302 features. Our efforts to reduce the cardinality of several features were effective. \n",
    "\n",
    "We will pair the eigenvectors with their corresponding eigenvalues and project them onto a 2-dimensional subspace and observe the results."
   ]
  },
  {
   "cell_type": "code",
   "execution_count": 43,
   "metadata": {},
   "outputs": [
    {
     "name": "stdout",
     "output_type": "stream",
     "text": [
      "Matrix W: \n",
      " [[-0.03112655 -0.00332737]\n",
      " [ 0.01428164  0.02652703]\n",
      " [-0.00576126  0.00453904]\n",
      " [ 0.0153833   0.02209266]\n",
      " [ 0.00340376  0.00048951]]\n"
     ]
    }
   ],
   "source": [
    "# making a listof (eigenvalues, eigenvector) tuples\n",
    "eigen_pairs = [(np.abs(eigen_vals[i]), eigen_vecs[:,i]) for i in range(len(eigen_vals))]\n",
    "\n",
    "#sort the (eigenvalue, eigenvector) tuples from high to low\n",
    "\"\"\"eigen_pairs[0] is equivalent to the single eigenvalue for PC1 and the eigenvector that represents the 190 features of the data\"\"\"\n",
    "eigen_pairs.sort(key=lambda k: k[0], reverse = True)\n",
    "\n",
    "#collecting the two eigenvectors that correspond to the two largest eigenvalues\n",
    "\n",
    "W = np.hstack((eigen_pairs[0][1][:,np.newaxis],\n",
    "               eigen_pairs[1][1][:,np.newaxis]))\n",
    "\n",
    "# printing the first 5 pairs\n",
    "print('Matrix W: \\n', W[:5])"
   ]
  },
  {
   "cell_type": "markdown",
   "metadata": {},
   "source": [
    "We can use this matrix to transform the training set into new features and plot them. First, we will observe the first 2 Principal Components with a logistic regression-based decision boundary to view the discriminatory ability of a logistic model using the Principal Components."
   ]
  },
  {
   "cell_type": "code",
   "execution_count": 45,
   "metadata": {},
   "outputs": [
    {
     "data": {
      "image/png": "[encoded data removed]",
      "text/plain": [
       "<Figure size 432x288 with 1 Axes>"
      ]
     },
     "metadata": {
      "needs_background": "light"
     },
     "output_type": "display_data"
    }
   ],
   "source": [
    "#transforming data\n",
    "X_pca = X_std.dot(W)\n",
    "\n",
    "# identifying labels\n",
    "y_pca = data_final.TARGET.copy()\n",
    "\n",
    "#initializing the PCA transformer and logistic regression estimator:\n",
    "pca = PCA(n_components =2)\n",
    "lr = LogisticRegression(multi_class = 'ovr',\n",
    "                        random_state = 1,\n",
    "                        solver = 'lbfgs')\n",
    "# dimensionality reduction:\n",
    "X_pca = pca.fit_transform(X_std)\n",
    "#fitting the logitistic regression model on the reduced dataset:\n",
    "lr.fit(X_pca, y_pca)\n",
    "plot_decision_regions(X_pca, y_pca, classifier = lr)\n",
    "plt.title('Logistic Regression: Decision Boundary')\n",
    "plt.xlabel('PC1')\n",
    "plt.ylabel('PC2')\n",
    "plt.legend(loc = 'lower left')\n",
    "plt.show()"
   ]
  },
  {
   "cell_type": "markdown",
   "metadata": {},
   "source": [
    "**Significant Findings**\n",
    "\n",
    "From this plot, we can see that class separation is very poor and non-linear. We have two centroids where each has only a slight concentric-ellipse type of separation between the two classes. The decision boundary drawn by a logistic model is clearly unable to use the first two principal components to discriminate between defaults and non-defaulted loans.\n",
    "\n",
    "\n",
    "We can also attempt to view the value of the third principal component to see if there is good separation when we add a third dimension."
   ]
  },
  {
   "cell_type": "code",
   "execution_count": 46,
   "metadata": {},
   "outputs": [
    {
     "data": {
      "text/plain": [
       "(326, 3)"
      ]
     },
     "execution_count": 46,
     "metadata": {},
     "output_type": "execute_result"
    }
   ],
   "source": [
    "# getting three principal components\n",
    "W3 = np.hstack((W,eigen_pairs[2][1][:,np.newaxis]))\n",
    "W3.shape"
   ]
  },
  {
   "cell_type": "code",
   "execution_count": 47,
   "metadata": {},
   "outputs": [
    {
     "data": {
      "text/plain": [
       "(33778, 3)"
      ]
     },
     "execution_count": 47,
     "metadata": {},
     "output_type": "execute_result"
    }
   ],
   "source": [
    "#transforming training data\n",
    "X_pca3 = X_std.dot(W3)\n",
    "X_pca3.shape"
   ]
  },
  {
   "cell_type": "code",
   "execution_count": 48,
   "metadata": {},
   "outputs": [
    {
     "data": {
      "text/plain": [
       "array([[-5.02937674, -0.98626814, -1.30637781],\n",
       "       [-2.01549137, -6.42485912, 10.76923357],\n",
       "       [ 2.28124558, -3.86540618, -1.64788073],\n",
       "       [ 0.73152602,  0.1714851 ,  1.98469044],\n",
       "       [-0.96959981,  1.64431276,  0.31434482],\n",
       "       [-6.39735164, -0.50218682, -2.14297191],\n",
       "       [ 6.84454901,  3.46870767,  4.46499208],\n",
       "       [-2.17301617,  0.66477394,  0.55293713],\n",
       "       [-5.07053559, -0.2440994 , -1.20476297],\n",
       "       [-5.10194594, -1.73257925, -0.3966984 ]])"
      ]
     },
     "execution_count": 48,
     "metadata": {},
     "output_type": "execute_result"
    }
   ],
   "source": [
    "X_pca3[:10,:]"
   ]
  },
  {
   "cell_type": "code",
   "execution_count": 52,
   "metadata": {},
   "outputs": [
    {
     "data": {
      "image/png": "[encoded data removed]",
      "text/plain": [
       "<Figure size 864x720 with 1 Axes>"
      ]
     },
     "metadata": {
      "needs_background": "light"
     },
     "output_type": "display_data"
    }
   ],
   "source": [
    "fig = plt.figure(figsize=(12,10))\n",
    "ax = fig.add_subplot(111, projection = '3d')\n",
    "\n",
    "\n",
    "colors = ['r','g']\n",
    "markers = ['o', '|']\n",
    "\n",
    "# for each index and class in:\n",
    "for idx, cl in enumerate(np.unique(y_pca)):\n",
    "    ax.scatter3D(X_pca3[y_pca == cl, 0],\n",
    "                X_pca3[y_pca == cl, 1],\n",
    "                X_pca3[y_pca == cl, 2],\n",
    "                label = cl,\n",
    "                s=500,\n",
    "                c = X_pca3[y_pca == cl, 2],\n",
    "                cmap = 'viridis',\n",
    "                marker = markers[idx])"
   ]
  },
  {
   "cell_type": "markdown",
   "metadata": {},
   "source": [
    "**Significant Findings**\n",
    "\n",
    "A three dimensional plot of the data does provide some insights. Defaults can be separated along the third dimension, as indicated by the defaults being clustered in the blue region and the non-defaults being clustered in the green/yellow regions of the third Principal Component.\n",
    "\n",
    "1. The overlap between the classes is so signficant even in the third dimension, that the boundary line is not clear."
   ]
  },
  {
   "cell_type": "markdown",
   "metadata": {},
   "source": [
    "### 1.1.2 Feature Importance Assessment\n",
    "\n",
    "An analysis of feature importance was performed by removing features with high variance inflation factor (VIF) and ranking features by absolute mean feature importance from an ensemble of models (regularized logistic regression).\n",
    "\n",
    "#### 1.1.2.1 Feature Removal By VIF\n",
    "\n",
    "High VIF is an [indication of multicollinearity](https://www.statsmodels.org/stable/generated/statsmodels.stats.outliers_influence.variance_inflation_factor.html).\n",
    "Typically, limiting VIF of individual features to 5 is considered reasonable.\n",
    "For removal by VIF, features with high VIF were removed iteratively until the VIF for all remain features was less than 5.\n",
    "The VIF reduction method removed 75 features, leaving 251 features.\n",
    "The full list of dropped features is shown below.\n",
    "\n",
    "```python\n",
    "transformer = ReduceVIF()\n",
    "X = transformer.fit_transform(X_train)\n",
    "```"
   ]
  },
  {
   "cell_type": "code",
   "execution_count": 23,
   "metadata": {},
   "outputs": [
    {
     "data": {
      "text/html": [
       "\n",
       "        <iframe\n",
       "            width=\"700\"\n",
       "            height=\"400\"\n",
       "            src=\"./vif_features.html\"\n",
       "            frameborder=\"0\"\n",
       "            allowfullscreen\n",
       "        ></iframe>\n",
       "        "
      ],
      "text/plain": [
       "<IPython.lib.display.IFrame at 0x7fd5521759b0>"
      ]
     },
     "execution_count": 23,
     "metadata": {},
     "output_type": "execute_result"
    }
   ],
   "source": [
    "IFrame(\"./vif_features.html\", width=700, height=400)"
   ]
  },
  {
   "cell_type": "markdown",
   "metadata": {},
   "source": [
    "#### 1.1.2.2 Feature Importance From Ensemble\n",
    "\n",
    "The training data was split into training and validation sets (80/20) split - \n",
    "the validation split is used in the performance estimation.\n",
    "Feature Importance was estimated by training a logstic model with L2 regularization and a logistic model with L1 regularization on the training set with the reduced number of features.\n",
    "Once the models were fit, the model weights were extracted and combined for each feature.\n",
    "The features were ranked by the average of the absolute value of the model weights.\n",
    "The table is shown below\n",
    "\n",
    "**Column Meanings**\n",
    "\n",
    "* `Mean_Abs_Weight`: The mean of the absolute values of the weights assigned to features by the logistic models.\n",
    "* `Feature`: The feature name.\n",
    "* `l1_Weight`: The parameter weight assigned my the logistic model with L1 regularization.\n",
    "* `l2_Weight`: The parameter weight assigned my the logistic model with L2 regularization.\n",
    "* `Importance_Difference`: The difference btween the weight assigned by the LASSO logistic model and the weight assigned by the ridge logistic regression model.\n",
    "* `Importance_Difference_%`: The percent difference between the weight assigned by the LASSO logistic model and the weight assigned by the ridge logistic regression model."
   ]
  },
  {
   "cell_type": "code",
   "execution_count": 25,
   "metadata": {},
   "outputs": [
    {
     "data": {
      "text/html": [
       "\n",
       "        <iframe\n",
       "            width=\"1200\"\n",
       "            height=\"400\"\n",
       "            src=\"./feature_importance.html\"\n",
       "            frameborder=\"0\"\n",
       "            allowfullscreen\n",
       "        ></iframe>\n",
       "        "
      ],
      "text/plain": [
       "<IPython.lib.display.IFrame at 0x7fd552175470>"
      ]
     },
     "execution_count": 25,
     "metadata": {},
     "output_type": "execute_result"
    }
   ],
   "source": [
    "IFrame(\"./feature_importance.html\", width=1200, height=400)"
   ]
  },
  {
   "cell_type": "code",
   "execution_count": 60,
   "metadata": {},
   "outputs": [
    {
     "data": {
      "text/html": [
       "<div>\n",
       "<style scoped>\n",
       "    .dataframe tbody tr th:only-of-type {\n",
       "        vertical-align: middle;\n",
       "    }\n",
       "\n",
       "    .dataframe tbody tr th {\n",
       "        vertical-align: top;\n",
       "    }\n",
       "\n",
       "    .dataframe thead th {\n",
       "        text-align: right;\n",
       "    }\n",
       "</style>\n",
       "<table border=\"1\" class=\"dataframe\">\n",
       "  <thead>\n",
       "    <tr style=\"text-align: right;\">\n",
       "      <th></th>\n",
       "      <th>Mean_Abs_Weight</th>\n",
       "      <th>Feature</th>\n",
       "      <th>l1_Weight</th>\n",
       "      <th>l2_Weight</th>\n",
       "      <th>Importance_Difference</th>\n",
       "      <th>Importance_Difference_%</th>\n",
       "    </tr>\n",
       "  </thead>\n",
       "  <tbody>\n",
       "    <tr>\n",
       "      <th>0</th>\n",
       "      <td>0.000024</td>\n",
       "      <td>DAYS_BIRTH</td>\n",
       "      <td>-3.585076e-08</td>\n",
       "      <td>-0.000047</td>\n",
       "      <td>0.000047</td>\n",
       "      <td>199.695992</td>\n",
       "    </tr>\n",
       "    <tr>\n",
       "      <th>1</th>\n",
       "      <td>0.000011</td>\n",
       "      <td>DAYS_REGISTRATION</td>\n",
       "      <td>-1.665249e-08</td>\n",
       "      <td>-0.000021</td>\n",
       "      <td>0.000021</td>\n",
       "      <td>199.684493</td>\n",
       "    </tr>\n",
       "    <tr>\n",
       "      <th>2</th>\n",
       "      <td>0.000010</td>\n",
       "      <td>PREV_AMT_ANNUITY</td>\n",
       "      <td>-1.638168e-08</td>\n",
       "      <td>-0.000019</td>\n",
       "      <td>0.000019</td>\n",
       "      <td>199.656635</td>\n",
       "    </tr>\n",
       "    <tr>\n",
       "      <th>3</th>\n",
       "      <td>0.000009</td>\n",
       "      <td>BUREAU_DAYS_CREDIT_ENDDATE</td>\n",
       "      <td>1.511157e-08</td>\n",
       "      <td>0.000018</td>\n",
       "      <td>-0.000018</td>\n",
       "      <td>-199.657922</td>\n",
       "    </tr>\n",
       "    <tr>\n",
       "      <th>4</th>\n",
       "      <td>0.000008</td>\n",
       "      <td>AMT_ANNUITY</td>\n",
       "      <td>2.160590e-08</td>\n",
       "      <td>0.000015</td>\n",
       "      <td>-0.000015</td>\n",
       "      <td>-199.425350</td>\n",
       "    </tr>\n",
       "    <tr>\n",
       "      <th>5</th>\n",
       "      <td>0.000007</td>\n",
       "      <td>CREDIT_AMT_DRAWINGS_ATM_CURRENT</td>\n",
       "      <td>4.453810e-08</td>\n",
       "      <td>0.000015</td>\n",
       "      <td>-0.000015</td>\n",
       "      <td>-198.808379</td>\n",
       "    </tr>\n",
       "    <tr>\n",
       "      <th>6</th>\n",
       "      <td>0.000007</td>\n",
       "      <td>PREV_AMT_DOWN_PAYMENT</td>\n",
       "      <td>-5.065099e-08</td>\n",
       "      <td>-0.000015</td>\n",
       "      <td>0.000015</td>\n",
       "      <td>198.640482</td>\n",
       "    </tr>\n",
       "    <tr>\n",
       "      <th>7</th>\n",
       "      <td>0.000007</td>\n",
       "      <td>DAYS_EMPLOYED</td>\n",
       "      <td>-1.038555e-08</td>\n",
       "      <td>-0.000015</td>\n",
       "      <td>0.000015</td>\n",
       "      <td>199.715047</td>\n",
       "    </tr>\n",
       "    <tr>\n",
       "      <th>8</th>\n",
       "      <td>0.000006</td>\n",
       "      <td>DAYS_ID_PUBLISH</td>\n",
       "      <td>-8.804749e-09</td>\n",
       "      <td>-0.000012</td>\n",
       "      <td>0.000012</td>\n",
       "      <td>199.714449</td>\n",
       "    </tr>\n",
       "    <tr>\n",
       "      <th>9</th>\n",
       "      <td>0.000005</td>\n",
       "      <td>INSTA_AMT_PAYMENT</td>\n",
       "      <td>-2.516650e-08</td>\n",
       "      <td>-0.000011</td>\n",
       "      <td>0.000011</td>\n",
       "      <td>199.071716</td>\n",
       "    </tr>\n",
       "  </tbody>\n",
       "</table>\n",
       "</div>"
      ],
      "text/plain": [
       "   Mean_Abs_Weight                          Feature     l1_Weight  l2_Weight  \\\n",
       "0         0.000024                       DAYS_BIRTH -3.585076e-08  -0.000047   \n",
       "1         0.000011                DAYS_REGISTRATION -1.665249e-08  -0.000021   \n",
       "2         0.000010                 PREV_AMT_ANNUITY -1.638168e-08  -0.000019   \n",
       "3         0.000009       BUREAU_DAYS_CREDIT_ENDDATE  1.511157e-08   0.000018   \n",
       "4         0.000008                      AMT_ANNUITY  2.160590e-08   0.000015   \n",
       "5         0.000007  CREDIT_AMT_DRAWINGS_ATM_CURRENT  4.453810e-08   0.000015   \n",
       "6         0.000007            PREV_AMT_DOWN_PAYMENT -5.065099e-08  -0.000015   \n",
       "7         0.000007                    DAYS_EMPLOYED -1.038555e-08  -0.000015   \n",
       "8         0.000006                  DAYS_ID_PUBLISH -8.804749e-09  -0.000012   \n",
       "9         0.000005                INSTA_AMT_PAYMENT -2.516650e-08  -0.000011   \n",
       "\n",
       "   Importance_Difference  Importance_Difference_%  \n",
       "0               0.000047               199.695992  \n",
       "1               0.000021               199.684493  \n",
       "2               0.000019               199.656635  \n",
       "3              -0.000018              -199.657922  \n",
       "4              -0.000015              -199.425350  \n",
       "5              -0.000015              -198.808379  \n",
       "6               0.000015               198.640482  \n",
       "7               0.000015               199.715047  \n",
       "8               0.000012               199.714449  \n",
       "9               0.000011               199.071716  "
      ]
     },
     "execution_count": 60,
     "metadata": {},
     "output_type": "execute_result"
    }
   ],
   "source": [
    "# this code creates the feature importance table.\n",
    "\n",
    "# only do this analysis on the training data\n",
    "X, X_val, y, y_val = train_test_split(data_final.drop('TARGET', axis = 1), data_final.TARGET, test_size = 0.2,\n",
    "                                      random_state = random_state)\n",
    "\n",
    "\n",
    "# train logistic models\n",
    "logistic_l1 = LogisticRegression(C = 0.01,\n",
    "                                 penalty = 'l1', \n",
    "                                 solver = 'saga', \n",
    "                                 random_state = random_state)\n",
    "logistic_l1.fit(X, y)\n",
    "\n",
    "logistic_l2 = LogisticRegression(C = 0.01, \n",
    "                                 penalty = 'l2',\n",
    "                                 solver = 'lbfgs', \n",
    "                                 random_state = random_state)\n",
    "logistic_l2.fit(X, y)\n",
    "\n",
    "# extract the l1 coefficients\n",
    "coefs = logistic_l1.coef_\n",
    "pd.set_option('display.max_rows', 500)\n",
    "coefs_df = pd.DataFrame(data=coefs.flatten())\n",
    "feats_df = X.columns\n",
    "feats_df = feats_df.tolist()\n",
    "feats_df = pd.DataFrame(feats_df)\n",
    "df_new_coeffs = pd.concat([feats_df, coefs_df], axis=1).dropna()\n",
    "df_new_coeffs.columns = ['Feature', 'Logistic Weight']\n",
    "final_df_logistic_l1 = df_new_coeffs.sort_values('Logistic Weight')\n",
    "final_df_logistic_l1['Abs Weight'] = np.abs(final_df_logistic_l1['Logistic Weight'])\n",
    "final_df_logistic_l1.sort_values('Abs Weight', ascending=False, inplace = True)\n",
    "\n",
    "# extract the l2 coefficients\n",
    "coefs = logistic_l2.coef_\n",
    "pd.set_option('display.max_rows', 500)\n",
    "coefs_df = pd.DataFrame(data=coefs.flatten())\n",
    "feats_df = X.columns\n",
    "feats_df = feats_df.tolist()\n",
    "feats_df = pd.DataFrame(feats_df)\n",
    "df_new_coeffs = pd.concat([feats_df, coefs_df], axis=1).dropna()\n",
    "df_new_coeffs.columns = ['Feature', 'Logistic Weight']\n",
    "final_df_logistic_l2 = df_new_coeffs.sort_values('Logistic Weight')\n",
    "final_df_logistic_l2['Abs Weight'] = np.abs(final_df_logistic_l2['Logistic Weight'])\n",
    "final_df_logistic_l2.sort_values('Abs Weight', ascending=False, inplace = True)\n",
    "\n",
    "# prevent risk of object corruption\n",
    "l2 = final_df_logistic_l2.sort_values('Feature').copy().add_suffix('_l2')\n",
    "l1 = final_df_logistic_l1.sort_values('Feature').copy().add_suffix('_l1')\n",
    "\n",
    "# combine the feature weights, calculate mean abs, and sort\n",
    "# just print the head\n",
    "combined = pd.concat([l1, l2], keys=['Feature_l1', 'Feature_l2'], axis = 1)\n",
    "combined['Average Weight'] = (combined['Feature_l1']['Abs Weight_l1'] \n",
    "                              + combined['Feature_l2']['Abs Weight_l2']) / 2\n",
    "average_weights = pd.DataFrame()\n",
    "average_weights['Mean_Abs_Weight'] = combined['Average Weight']\n",
    "average_weights['Feature'] = combined['Feature_l1']['Feature_l1']\n",
    "average_weights['l1_Weight'] = combined['Feature_l1']['Logistic Weight_l1']\n",
    "average_weights['l2_Weight'] = combined['Feature_l2']['Logistic Weight_l2']\n",
    "average_weights['Importance_Difference'] = average_weights['l1_Weight'] - average_weights['l2_Weight']\n",
    "average_weights['Importance_Difference_%'] = (average_weights['Importance_Difference'] \n",
    "                                              / average_weights['Mean_Abs_Weight'] \n",
    "                                              * 100)\n",
    "average_weights = average_weights.sort_values('Mean_Abs_Weight', ascending = False).reset_index(drop = True)\n",
    "average_weights.head(10)"
   ]
  },
  {
   "cell_type": "markdown",
   "metadata": {},
   "source": [
    "#### 1.1.2.3 Estimation of Performance Over Feature Space\n",
    "\n",
    "Once the features were ranked, the number of features needed for classification was estimated by iterative training and testing a logistic model and a hist gradient boosting model on the ranked feature set.\n",
    "On each iteration, 5 features were added to the feature space used by the model for training and testing until the maximum feature space was reached.\n",
    "The following plots show the model performance over the feature space.\n",
    "The logistic model appears to stabilize once the top 50 features were added to the model, while the HGBM appears to stablity once the top 75 features were added to the model.\n",
    "The models were tested on the 20% validation split from the training data."
   ]
  },
  {
   "cell_type": "code",
   "execution_count": 61,
   "metadata": {},
   "outputs": [],
   "source": [
    "# hold feature performance\n",
    "log_acc = list()\n",
    "log_recall = list()\n",
    "log_pre = list()\n",
    "feat_count = list()\n",
    "hgbm_acc = list()\n",
    "hgbm_recall = list()\n",
    "hgbm_pre = list()\n",
    "feat_count = list()\n",
    "\n",
    "# init models\n",
    "# models use baseline regularization\n",
    "l = LogisticRegression(C = 0.01, \n",
    "                       penalty = 'l2',\n",
    "                       solver = 'lbfgs', \n",
    "                       random_state = random_state)\n",
    "\n",
    "clf = HistGradientBoostingClassifier(l2_regularization= 0, \n",
    "                                     learning_rate= 0.1,\n",
    "                                     loss= 'binary_crossentropy',\n",
    "                                     max_iter= 100,\n",
    "                                     max_leaf_nodes= 41,\n",
    "                                     min_samples_leaf= 20,\n",
    "                                     random_state = random_state)\n",
    "\n",
    "# calculate performance over by iterative adding features\n",
    "# with a step size of 5\n",
    "for f_count in range(10, 260, 5):\n",
    "    feat_count.append(f_count)\n",
    "    \n",
    "    l.fit(X[average_weights.iloc[0:f_count].Feature], y)\n",
    "\n",
    "    # using it on test set\n",
    "    y_pred = l.predict(X_val[average_weights.iloc[0:f_count].Feature])\n",
    "    #results = confusion_matrix(y_test, y_pred)\n",
    "\n",
    "    log_acc.append(accuracy_score(y_val, y_pred))\n",
    "    log_pre.append(precision_score(y_val, y_pred))\n",
    "    log_recall.append(recall_score(y_val, y_pred))\n",
    "\n",
    "feat_count = list()\n",
    "for f_count in range(10,260,5):\n",
    "    feat_count.append(f_count)\n",
    "    \n",
    "    clf.fit(X[average_weights.iloc[0:f_count].Feature], y)\n",
    "\n",
    "    # using it on test set\n",
    "    y_pred = clf.predict(X_val[average_weights.iloc[0:f_count].Feature])\n",
    "    #results = confusion_matrix(y_test, y_pred)\n",
    "\n",
    "    hgbm_acc.append(accuracy_score(y_val, y_pred))\n",
    "    hgbm_pre.append(precision_score(y_val, y_pred))\n",
    "    hgbm_recall.append(recall_score(y_val, y_pred))"
   ]
  },
  {
   "cell_type": "code",
   "execution_count": 62,
   "metadata": {},
   "outputs": [
    {
     "data": {
      "image/png": "[encoded data removed]",
      "text/plain": [
       "<Figure size 1080x504 with 2 Axes>"
      ]
     },
     "metadata": {
      "needs_background": "light"
     },
     "output_type": "display_data"
    }
   ],
   "source": [
    "# plot the performance of both models\n",
    "fig, ax = plt.subplots(ncols=2, sharey = True, figsize=(15,7))\n",
    "\n",
    "ax[0].plot(feat_count, log_acc, label = 'accuracy')\n",
    "ax[0].plot(feat_count, log_pre, label = 'precision')\n",
    "ax[0].plot(feat_count, log_recall, label = 'recall')\n",
    "ax[0].legend()\n",
    "ax[0].set_title('Logistic Model Performance vs Features')\n",
    "ax[0].set_xlabel('Number of Features')\n",
    "ax[0].set_ylabel('Performance')\n",
    "#plt.ylim((0.68, 0.74))\n",
    "\n",
    "ax[1].plot(feat_count, hgbm_acc, label = 'accuracy')\n",
    "ax[1].plot(feat_count, hgbm_pre, label = 'precision')\n",
    "ax[1].plot(feat_count, hgbm_recall, label = 'recall')\n",
    "ax[1].legend()\n",
    "ax[1].set_title('HGBM Model Performance vs Features')\n",
    "ax[1].set_xlabel('Number of Features')\n",
    "ax[1].set_ylabel('Performance')\n",
    "#plt.ylim((0.68, 0.78))\n",
    "plt.show();"
   ]
  },
  {
   "cell_type": "markdown",
   "metadata": {},
   "source": [
    "## 1.2 Describe the final dataset that is used for classification/regression (Q1B)<a class=\"anchor\" id=\"FinalDataset\"></a>\n"
   ]
  },
  {
   "cell_type": "code",
   "execution_count": 93,
   "metadata": {},
   "outputs": [
    {
     "ename": "IndexError",
     "evalue": "arrays used as indices must be of integer (or boolean) type",
     "output_type": "error",
     "traceback": [
      "\u001b[1;31m---------------------------------------------------------------------------\u001b[0m",
      "\u001b[1;31mIndexError\u001b[0m                                Traceback (most recent call last)",
      "\u001b[1;32m<ipython-input-93-f550236b92b4>\u001b[0m in \u001b[0;36m<module>\u001b[1;34m\u001b[0m\n\u001b[0;32m      1\u001b[0m \u001b[0mkeepers\u001b[0m \u001b[1;33m=\u001b[0m \u001b[0maverage_weights\u001b[0m\u001b[1;33m.\u001b[0m\u001b[0mFeature\u001b[0m\u001b[1;33m[\u001b[0m\u001b[1;33m:\u001b[0m\u001b[1;36m100\u001b[0m\u001b[1;33m]\u001b[0m\u001b[1;33m.\u001b[0m\u001b[0mvalues\u001b[0m\u001b[1;33m\u001b[0m\u001b[1;33m\u001b[0m\u001b[0m\n\u001b[0;32m      2\u001b[0m \u001b[1;31m# using the previously scaled dataset and removing less important features\u001b[0m\u001b[1;33m\u001b[0m\u001b[1;33m\u001b[0m\u001b[1;33m\u001b[0m\u001b[0m\n\u001b[1;32m----> 3\u001b[1;33m \u001b[0mdata_final\u001b[0m \u001b[1;33m=\u001b[0m \u001b[0mX_std\u001b[0m\u001b[1;33m[\u001b[0m\u001b[0mkeepers\u001b[0m\u001b[1;33m]\u001b[0m\u001b[1;33m\u001b[0m\u001b[1;33m\u001b[0m\u001b[0m\n\u001b[0m\u001b[0;32m      4\u001b[0m \u001b[1;33m\u001b[0m\u001b[0m\n\u001b[0;32m      5\u001b[0m \u001b[0mprint\u001b[0m\u001b[1;33m(\u001b[0m\u001b[1;34m'Final Dataset Dimensions: '\u001b[0m\u001b[1;33m,\u001b[0m \u001b[0mdata_final\u001b[0m\u001b[1;33m.\u001b[0m\u001b[0mshape\u001b[0m\u001b[1;33m)\u001b[0m\u001b[1;33m\u001b[0m\u001b[1;33m\u001b[0m\u001b[0m\n",
      "\u001b[1;31mIndexError\u001b[0m: arrays used as indices must be of integer (or boolean) type"
     ]
    }
   ],
   "source": [
    "keepers = average_weights.Feature[:100].values\n",
    "# using the previously scaled dataset and removing less important features\n",
    "data_final = X_std[keepers]\n",
    "\n",
    "print('Final Dataset Dimensions: ', data_final.shape)"
   ]
  },
  {
   "cell_type": "markdown",
   "metadata": {},
   "source": [
    "### Preparing Test set for Model evaluation"
   ]
  },
  {
   "cell_type": "markdown",
   "metadata": {},
   "source": [
    "## 2.  Stage Four - Modeling and Evaluation (Q2) <a class=\"DataUnderstanding\" id=\"EDA\"></a>"
   ]
  },
  {
   "cell_type": "code",
   "execution_count": null,
   "metadata": {},
   "outputs": [],
   "source": []
  },
  {
   "cell_type": "markdown",
   "metadata": {},
   "source": [
    "## 2.1 Choose and explain your evaluation metrics (Q2A) <a class=\"anchor\" id=\"Evaluaation\"></a>\n"
   ]
  },
  {
   "cell_type": "markdown",
   "metadata": {},
   "source": [
    "Due to the significant overlap between the classes in our dataset, we have elected to evaluate our models using the recall metric. Recall is the ratio of accurately predicted defaults to total defaults, which allows us to extract value from the model. \n",
    "\n",
    "We will provide an example of why we deemed this necessary.\n",
    "\n",
    "Below is a Gradient Boosting Machines model that uses the entire dataset to make class predictions:"
   ]
  },
  {
   "cell_type": "code",
   "execution_count": null,
   "metadata": {},
   "outputs": [],
   "source": []
  },
  {
   "cell_type": "markdown",
   "metadata": {},
   "source": [
    "## 2.2 Choose the method you will use for dividing your data (Q2B) <a class=\"anchor\" id=\"Describedata\"></a>"
   ]
  },
  {
   "cell_type": "markdown",
   "metadata": {},
   "source": [
    "We are using an 80/20 training : test set split.\n",
    "\n",
    "As previously mentioned in section 1.2 (Data Description) we concluded that it was necessary to implement a sampling strategy on the training set in order to make a useful model for predicting loan defaults. \n",
    "\n",
    "As a justification of the use of a generic sampling strategy with this dataset, we will provide an example of the effectiveness of simple Randum Under Sampling."
   ]
  },
  {
   "cell_type": "markdown",
   "metadata": {},
   "source": [
    "## 2.3.1 Three Classification Models (Q2C) <a class=\"anchor\" id=\"Models\"></a>"
   ]
  },
  {
   "cell_type": "markdown",
   "metadata": {},
   "source": [
    "### 2.3.1.1 Histogram Based Gradient Boosted Decision Tree"
   ]
  },
  {
   "cell_type": "code",
   "execution_count": 76,
   "metadata": {},
   "outputs": [
    {
     "name": "stdout",
     "output_type": "stream",
     "text": [
      "5-fold cross validation results:  [0.69923031 0.69478982 0.70159858 0.68946122 0.6970684 ]\n"
     ]
    }
   ],
   "source": [
    "y = y_pca # reusing the previously copied y labels because we have not removed anymore rows\n",
    "X = data_final\n",
    "clf = clf = HistGradientBoostingClassifier(l2_regularization= 0, \n",
    "                                     learning_rate= 0.1,\n",
    "                                     loss= 'binary_crossentropy',\n",
    "                                     max_iter= 100,\n",
    "                                     max_leaf_nodes= 41,\n",
    "                                     min_samples_leaf= 20,\n",
    "                                     random_state = random_state)\n",
    "clf.fit(X,y)\n",
    "print('5-fold cross validation results: ',cross_val_score(clf, X, y, cv = 5, scoring = 'recall'))"
   ]
  },
  {
   "cell_type": "code",
   "execution_count": 77,
   "metadata": {},
   "outputs": [
    {
     "data": {
      "image/png": "[encoded data removed]",
      "text/plain": [
       "<Figure size 432x288 with 1 Axes>"
      ]
     },
     "metadata": {
      "needs_background": "light"
     },
     "output_type": "display_data"
    }
   ],
   "source": [
    "fpr = dict() # false positive rate\n",
    "tpr = dict() # true positive rate\n",
    "roc_auc = dict() # area under the curve\n",
    "\n",
    "\n",
    "fpr, tpr, thresholds = roc_curve(y, clf.predict_proba(X)[:,1])\n",
    "roc_auc = auc(fpr,tpr)\n",
    "\n",
    "#plotting\n",
    "plt.figure()\n",
    "plt.plot(fpr, tpr, label= 'Logistic Regression (area = %0.2f)' % roc_auc)\n",
    "plt.plot([0,1],[0,1], 'r--')\n",
    "plt.xlim([0.0, 1.0])\n",
    "plt.ylim([0.0,1.05])\n",
    "plt.xlabel('False Positive Rate')\n",
    "plt.ylabel('True Positive Rate')\n",
    "plt.title('Receiver Operating Characteristic')\n",
    "plt.legend(loc = 'lower right')\n",
    "plt.show()"
   ]
  },
  {
   "cell_type": "markdown",
   "metadata": {},
   "source": [
    "## 2.3.2 Three Regression Models (Q2C) <a class=\"anchor\" id=\"Models\"></a>"
   ]
  },
  {
   "cell_type": "code",
   "execution_count": 86,
   "metadata": {},
   "outputs": [
    {
     "name": "stdout",
     "output_type": "stream",
     "text": [
      "MSE test:  0.24674995243549347 CV scores :  [-0.92550744 -0.88464995 -0.05438226  0.03182714 -0.0293039 ]\n"
     ]
    }
   ],
   "source": [
    "# re-combining the training data to shift to predicting a continuous feature\n",
    "data_reg = pd.concat([data_final, y_pca], axis = 1)\n",
    "y_reg = data_reg.pop('DAYS_BIRTH')\n",
    "X_reg = data_reg\n",
    "from sklearn.linear_model import LinearRegression\n",
    "sklm = LinearRegression()\n",
    "sklm.fit(X, y)\n",
    "\n",
    "sklm_pred = sklm.predict(X)\n",
    "\n",
    "scores = cross_val_score(sklm, X, y, cv=5)\n",
    "\n"
   ]
  },
  {
   "cell_type": "code",
   "execution_count": 88,
   "metadata": {},
   "outputs": [
    {
     "name": "stdout",
     "output_type": "stream",
     "text": [
      "MSE test:  0.24674995243549347 CV scores :  [-0.92550744 -0.88464995 -0.05438226  0.03182714 -0.0293039 ]\n"
     ]
    },
    {
     "data": {
      "image/png": "[encoded data removed]",
      "text/plain": [
       "<Figure size 432x288 with 1 Axes>"
      ]
     },
     "metadata": {
      "needs_background": "light"
     },
     "output_type": "display_data"
    }
   ],
   "source": [
    "def resids(real, predicted):\n",
    "    \n",
    "    plt.scatter(real, predicted - real,\n",
    "                c = 'red', marker = 's', edgecolor = 'white',\n",
    "                label = 'Test data')\n",
    "#     plt.scatter(ys2_train, (y_pred_train - ys2_train),\n",
    "#                 c = 'steelblue', marker = 'o', edgecolor = 'white',\n",
    "#                label='Train data')\n",
    "    plt.xlabel('Predicted Values')\n",
    "    plt.ylabel('Residuals')\n",
    "    plt.legend(loc='bottom right')\n",
    "    plt.hlines(y = 0, xmin = 0, xmax = 1, color = 'black', lw = 2)\n",
    "    plt.xlim([0, 1])\n",
    "    plt.show()\n",
    "print('MSE test: ', ((sklm_pred - y)**2).mean(),\n",
    "      \"CV scores : \", scores)\n",
    "\n",
    "resids(y, sklm_pred)"
   ]
  },
  {
   "cell_type": "markdown",
   "metadata": {},
   "source": [
    "### Bayesian Ridge Regression"
   ]
  },
  {
   "cell_type": "code",
   "execution_count": 23,
   "metadata": {},
   "outputs": [],
   "source": [
    "import pandas as pd\n",
    "s2_train = pd.read_csv('c:/users/pablo/desktop/s2_train.csv')\n",
    "s2_test = pd.read_csv('c:/users/pablo/desktop/s2_test.csv')\n",
    "ys2_train = pd.read_csv('c:/users/pablo/desktop/ys2_train.csv', header=None)\n",
    "ys2_test = pd.read_csv('c:/users/pablo/desktop/ys2_test.csv', header=None)"
   ]
  },
  {
   "cell_type": "code",
   "execution_count": 14,
   "metadata": {},
   "outputs": [],
   "source": [
    "from sklearn.linear_model import BayesianRidge\n",
    "from sklearn import linear_model\n",
    "\n",
    "clf = linear_model.BayesianRidge()\n",
    "clf.fit(s2_train, ys2_train)"
   ]
  },
  {
   "cell_type": "code",
   "execution_count": 26,
   "metadata": {},
   "outputs": [],
   "source": [
    "clf_pred = clf.predict(s2_test)\n",
    "\n",
    "from sklearn.model_selection import cross_val_score\n",
    "scores = cross_val_score(clf, s2_train, ys2_train, cv=5)"
   ]
  },
  {
   "cell_type": "code",
   "execution_count": 35,
   "metadata": {},
   "outputs": [],
   "source": [
    "clf_pred1 = pd.DataFrame(clf_pred)"
   ]
  },
  {
   "cell_type": "code",
   "execution_count": 36,
   "metadata": {},
   "outputs": [
    {
     "name": "stdout",
     "output_type": "stream",
     "text": [
      "MSE test:  0    0.030478\n",
      "dtype: float64 CV scores :  [0.17217932 0.17535336 0.18048901 0.17397746 0.17594533]\n"
     ]
    }
   ],
   "source": [
    "#print('MSE training: ', ((y_pred_train - ys2_train)**2).mean())\n",
    "print('MSE test: ', ((clf_pred1 - ys2_test)**2).mean(),\n",
    "      \"CV scores : \", scores)"
   ]
  },
  {
   "cell_type": "code",
   "execution_count": 39,
   "metadata": {},
   "outputs": [
    {
     "data": {
      "image/png": "[encoded data removed]",
      "text/plain": [
       "<Figure size 432x288 with 1 Axes>"
      ]
     },
     "metadata": {
      "needs_background": "light"
     },
     "output_type": "display_data"
    }
   ],
   "source": [
    "def resids(real, predicted):\n",
    "    \n",
    "    plt.scatter(real, predicted - real,\n",
    "                c = 'red', marker = 's', edgecolor = 'white',\n",
    "                label = 'Test data')\n",
    "#     plt.scatter(ys2_train, (y_pred_train - ys2_train),\n",
    "#                 c = 'steelblue', marker = 'o', edgecolor = 'white',\n",
    "#                label='Train data')\n",
    "    plt.xlabel('Predicted Values')\n",
    "    plt.ylabel('Residuals')\n",
    "    plt.legend(loc='bottom right')\n",
    "    plt.hlines(y = 0, xmin = 0, xmax = 1, color = 'black', lw = 2)\n",
    "    plt.xlim([0, 1])\n",
    "    plt.show()\n",
    "\n",
    "resids(ys2_test, clf_pred1)"
   ]
  },
  {
   "cell_type": "code",
   "execution_count": 40,
   "metadata": {},
   "outputs": [
    {
     "data": {
      "text/plain": [
       "Lasso(alpha=1, copy_X=True, fit_intercept=True, max_iter=1000, normalize=False,\n",
       "      positive=False, precompute=False, random_state=None, selection='cyclic',\n",
       "      tol=0.0001, warm_start=False)"
      ]
     },
     "execution_count": 40,
     "metadata": {},
     "output_type": "execute_result"
    }
   ],
   "source": [
    "from sklearn import linear_model\n",
    "lasso = linear_model.Lasso(alpha = 1)\n",
    "lasso.fit(s2_train, ys2_train)"
   ]
  },
  {
   "cell_type": "code",
   "execution_count": 41,
   "metadata": {},
   "outputs": [],
   "source": [
    "lasso_pred = lasso.predict(s2_test)\n",
    "lasso_pred1 = pd.DataFrame(lasso_pred)"
   ]
  },
  {
   "cell_type": "code",
   "execution_count": 45,
   "metadata": {},
   "outputs": [
    {
     "name": "stdout",
     "output_type": "stream",
     "text": [
      "MSE test:  0    0.034775\n",
      "dtype: float64 CV scores :  [-0.19278875  0.06121976  0.06363635  0.05735679  0.06442171]\n"
     ]
    }
   ],
   "source": [
    "scores = cross_val_score(lasso, s2_train, ys2_train, cv=5)\n",
    "#print('MSE training: ', ((y_pred_train - ys2_train)**2).mean())\n",
    "print('MSE test: ', ((lasso_pred1 - ys2_test)**2).mean(),\n",
    "      \"CV scores : \", scores)"
   ]
  },
  {
   "cell_type": "code",
   "execution_count": 46,
   "metadata": {},
   "outputs": [
    {
     "data": {
      "image/png": "[encoded data removed]",
      "text/plain": [
       "<Figure size 432x288 with 1 Axes>"
      ]
     },
     "metadata": {
      "needs_background": "light"
     },
     "output_type": "display_data"
    }
   ],
   "source": [
    "resids(ys2_test, lasso_pred1)"
   ]
  },
  {
   "cell_type": "markdown",
   "metadata": {},
   "source": [
    "## 2.4 Analyze the results using your chosen method of evaluation (Q2D) <a class=\"anchor\" id=\"Analyze\"></a>"
   ]
  },
  {
   "cell_type": "markdown",
   "metadata": {},
   "source": [
    "\n",
    "Fill"
   ]
  },
  {
   "cell_type": "markdown",
   "metadata": {},
   "source": [
    "## 2.5 Discuss the advantages of each model for each classification task (Q2E) <a class=\"anchor\" id=\"Advantages\"></a>"
   ]
  },
  {
   "cell_type": "markdown",
   "metadata": {},
   "source": [
    "\n",
    "Fill"
   ]
  },
  {
   "cell_type": "markdown",
   "metadata": {},
   "source": [
    "## 2.6 Which attributes from your analysis are most important (Q2F) <a class=\"anchor\" id=\"Attributes\"></a>"
   ]
  },
  {
   "cell_type": "markdown",
   "metadata": {},
   "source": [
    "\n",
    "Fill"
   ]
  },
  {
   "cell_type": "code",
   "execution_count": null,
   "metadata": {},
   "outputs": [],
   "source": []
  },
  {
   "cell_type": "markdown",
   "metadata": {},
   "source": [
    "# 3. Stage Five - Deployment (Q3) <a class=\"anchor\" id=\"Deployment\"></a>"
   ]
  },
  {
   "cell_type": "markdown",
   "metadata": {},
   "source": [
    "## 3.1 How useful is your model for interested parties (i.e., the companies or organizations that might want to use it for prediction)? How would you measure the model's value if it was used by these parties? How would your deploy your model for interested parties? What other data should be collected? How often would the model need to be updated, etc.? (Q3A) <a class=\"anchor\" id=\"Value\"></a>\n",
    "\n"
   ]
  },
  {
   "cell_type": "markdown",
   "metadata": {},
   "source": [
    "# A1. Disclaimer<a class=\"anchor\" id=\"Disclaimer\"></a>"
   ]
  },
  {
   "cell_type": "markdown",
   "metadata": {},
   "source": [
    "## Disclaimer for Home Credit Default Research Paper\n",
    "If you require any more information or have any questions about this papers disclaimer, please feel free to contact us by email at mschwan@smu.edu\n",
    "## Disclaimers for Home Credit Default Research Paper\n",
    "All the information for this research paper is published in good faith and for general information purpose only. Spring 2020 SMU Machine Learning One project team Schwan, Adams, Stewart, and Howard does not make any warranties about the completeness, reliability, and accuracy of this information. Any action you take upon the information you find within this paper is strictly at your own risk. This project team will not be liable for any losses and/or damages in connection with the use of our research analysis paper.\n",
    "From our references, you can visit other websites and papers by following hyperlinks to such external sites. While we strive to provide only quality research references to useful and ethical content, we have no control over the content and nature of these sites. These links to other websites and papers do not imply a recommendation for all the content found within. Please be also aware that when you leave our website, other sites may have different privacy policies and terms which are beyond our control. Please be sure to check the Privacy Policies of these sites as well as their “Terms of Service” before engaging in any business or uploading any information.\n",
    "## Consent\n",
    "By reading our research paper content, you hereby consent to our disclaimer and agree to its terms.\n",
    "## Update\n",
    "Should we update, amend or make any changes to this document, those changes will be prominently posted here.\n",
    "\n"
   ]
  },
  {
   "cell_type": "code",
   "execution_count": null,
   "metadata": {},
   "outputs": [],
   "source": []
  }
 ],
 "metadata": {
  "kernelspec": {
   "display_name": "Python 3",
   "language": "python",
   "name": "python3"
  },
  "language_info": {
   "codemirror_mode": {
    "name": "ipython",
    "version": 3
   },
   "file_extension": ".py",
   "mimetype": "text/x-python",
   "name": "python",
   "nbconvert_exporter": "python",
   "pygments_lexer": "ipython3",
   "version": "3.7.3"
  }
 },
 "nbformat": 4,
 "nbformat_minor": 4
}
