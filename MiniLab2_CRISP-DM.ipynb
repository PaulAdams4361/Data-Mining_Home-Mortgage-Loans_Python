{
 "cells": [
  {
   "cell_type": "markdown",
   "metadata": {},
   "source": [
    "# Mel Schwan, Stuart Miller, Justin Howard, Paul Adams\n",
    "# Lab Two: Classification"
   ]
  },
  {
   "cell_type": "markdown",
   "metadata": {},
   "source": [
    "## MiniLab2 Project Requirments -\n",
    "1. [Data Preparation](#DataPreparation)\n",
    "    1. [Define and prepare your class variables](#Define)\n",
    "    2. [Describe the final dataset that is used for classification/regression (include a\n",
    "description of any newly formed variables you created](#FinalDataset)\n",
    "\n",
    "\n",
    "2. [Modeling and Evaluation](#DataUnderstanding)\n",
    "    1. [Choose and explain your evaluation metrics that you will use](#Evaluaation)\n",
    "    2. [Choose the method you will use for dividing your data into training and\n",
    "testing splits](#DivideData)\n",
    "    3. [Create three different classification/regression models](#Models)\n",
    "    4. [Analyze the results using your chosen method of evaluation](#Analyze)\n",
    "    5. [Discuss the advantages of each model for each classification task](#Advantages)\n",
    "    6. [Which attributes from your analysis are most important](#Attributes)\n",
    "    \n",
    "    \n",
    "3. [Deployment](#Deployment)\n",
    "    1. [How useful is your model for interested parties (i.e., the companies or\n",
    "organizations that might want to use it for prediction)? How would you measure the\n",
    "model's value if it was used by these parties? How would your deploy your model for\n",
    "interested parties? What other data should be collected? How often would the model\n",
    "need to be updated, etc.?](#Value)\n",
    "\n",
    "A1. [Disclaimer](#Disclaimer)"
   ]
  },
  {
   "cell_type": "markdown",
   "metadata": {},
   "source": [
    "<img src=\"./crisps-dm2.png\" style=\"width:550px;height:450px\"/>\n"
   ]
  },
  {
   "cell_type": "markdown",
   "metadata": {},
   "source": [
    "# Dataset Selection"
   ]
  },
  {
   "cell_type": "markdown",
   "metadata": {},
   "source": [
    "# 1. Stage Three - Data Preperation (Q1)   <a class=\"anchor\" id=\"DataPreparation\"></a>"
   ]
  },
  {
   "cell_type": "markdown",
   "metadata": {},
   "source": [
    "## 1.1 Define and prepare your class variables (Q1A)<a class=\"anchor\" id=\"Define\"></a>"
   ]
  },
  {
   "cell_type": "markdown",
   "metadata": {},
   "source": []
  },
  {
   "cell_type": "code",
   "execution_count": 1,
   "metadata": {},
   "outputs": [],
   "source": [
    "#removing warnings\n",
    "import warnings\n",
    "warnings.simplefilter('ignore')\n",
    "\n",
    "# Import Libraries Required.\n",
    "# pydata stack\n",
    "import pandas as pd\n",
    "import numpy as np\n",
    "from scipy import stats\n",
    "import matplotlib.pyplot as plt\n",
    "from mpl_toolkits.mplot3d import Axes3D\n",
    "%matplotlib inline\n",
    "\n",
    "#plotting library\n",
    "import altair as alt\n",
    "import seaborn as sns\n",
    "\n",
    "# sklearn\n",
    "from sklearn.preprocessing import StandardScaler, LabelEncoder\n",
    "from sklearn.model_selection import train_test_split, cross_val_score\n",
    "from sklearn.decomposition import PCA\n",
    "from sklearn.linear_model import LogisticRegression\n",
    "from sklearn.svm import SVC\n",
    "from sklearn.impute import SimpleImputer\n",
    " # enabling sklearn's experimental gradient boosting machine algorithm\n",
    "from sklearn.experimental import enable_hist_gradient_boosting  # noqa\n",
    "from sklearn.ensemble import HistGradientBoostingClassifier\n",
    "from sklearn.metrics import confusion_matrix, recall_score, precision_score, accuracy_score\n",
    "\n",
    "# others\n",
    "from imblearn.under_sampling import RandomUnderSampler, TomekLinks\n",
    "from plot_decision_regions import plot_decision_regions\n",
    "from sklearn.metrics import roc_curve, auc\n",
    "\n",
    "from sklearn.base import BaseEstimator, TransformerMixin\n",
    "\n",
    "\n",
    "from statsmodels.stats.outliers_influence import variance_inflation_factor\n",
    "\n",
    "# custom functions\n",
    "from cleaning import (read_clean_data, impute_data, merge_bureau, merge_previous_application,\n",
    "merge_POS_CASH, merge_credit_card_balance, merge_installments, downsampling_strategy, reduce_mem_usage)\n",
    "from tables import classification_report\n",
    "\n",
    "# set random seed\n",
    "random_state= 1\n",
    "np.random.seed(random_state)"
   ]
  },
  {
   "cell_type": "code",
   "execution_count": 2,
   "metadata": {},
   "outputs": [],
   "source": [
    "# loading data that was preprocessed using the custom read_clean_data() function, \n",
    "# merged with the previously engineered newFeatures from Lab 1 \n",
    "data = read_clean_data()"
   ]
  },
  {
   "cell_type": "code",
   "execution_count": 3,
   "metadata": {},
   "outputs": [
    {
     "name": "stdout",
     "output_type": "stream",
     "text": [
      "The shape application and bureau data combined: (307511, 115)\n",
      "Dimensions after adding new features:  (307511, 119)\n",
      "Dimensions after adding previous_application:  (307511, 282)\n",
      "Dimensions after adding POS_CASH_balance:  (307511, 296)\n",
      "Dimensions after adding installments:  (307511, 302)\n",
      "Dimensions after adding credit_card_balance:  (307511, 329)\n"
     ]
    }
   ],
   "source": [
    "data_bureau = merge_bureau(data)\n",
    "data_prev = merge_previous_application(data_bureau)\n",
    "data_POS_CASH = merge_POS_CASH(data_prev)\n",
    "data_installments = merge_installments(data_POS_CASH)\n",
    "data_full = merge_credit_card_balance(data_installments)"
   ]
  },
  {
   "cell_type": "code",
   "execution_count": null,
   "metadata": {},
   "outputs": [],
   "source": [
    "data_full.info()"
   ]
  },
  {
   "cell_type": "code",
   "execution_count": 4,
   "metadata": {},
   "outputs": [
    {
     "name": "stdout",
     "output_type": "stream",
     "text": [
      "Memory usage of dataframe is 735.51 MB\n",
      "Memory usage after optimization is: 202.06 MB\n",
      "Decreased by 72.5%\n"
     ]
    }
   ],
   "source": [
    "data_lite = reduce_mem_usage(data_full)"
   ]
  },
  {
   "cell_type": "raw",
   "metadata": {},
   "source": [
    "**Reducing the Amount of Categories**"
   ]
  },
  {
   "cell_type": "code",
   "execution_count": 4,
   "metadata": {},
   "outputs": [
    {
     "data": {
      "text/plain": [
       "array([ 1.,  2.,  3.,  4.,  5.,  6.,  9.,  7.,  8., 10., 13., 14., 12.,\n",
       "       20., 15., 16., 11.])"
      ]
     },
     "execution_count": 4,
     "metadata": {},
     "output_type": "execute_result"
    }
   ],
   "source": [
    "data.CNT_FAM_MEMBERS.unique()"
   ]
  },
  {
   "cell_type": "markdown",
   "metadata": {},
   "source": [
    "The dataset contains features, such as the number of children an applicant has, where the number of unique values are relatively high, but the percentage of the total makeup is almost imperceptable. The distributions of these high cardinality variables are heavily skewed. To address this issue, the number of numeric categories was reduced to get a more accurate interpretation of their impact on the target variable."
   ]
  },
  {
   "cell_type": "code",
   "execution_count": 5,
   "metadata": {},
   "outputs": [],
   "source": [
    "#recoding high cardinality features\n",
    "\n",
    "# reducing the child count feature to 3 categories\n",
    "def cnt_child(series):\n",
    "    if series == 0 :\n",
    "        return 'No Children'\n",
    "    elif 1 <= series < 5 :\n",
    "        return '1-4 Children'\n",
    "    else :\n",
    "        return '5 or More Children'\n",
    "data['cnt_child'] = data.CNT_CHILDREN.apply(cnt_child).astype('category')\n",
    "\n",
    "# reducing family count feature to 4 categories\n",
    "def cnt_family(series):\n",
    "    if series == 1:\n",
    "        return '1 Family Member'\n",
    "    elif series == 2: \n",
    "        return '2 Family Members'\n",
    "    elif 3 >= series <= 5:\n",
    "        return '3 - -5 Family Members'\n",
    "    else :\n",
    "        return '6 or more Family Members'\n",
    "data['cnt_family'] = data.CNT_FAM_MEMBERS.apply(cnt_family).astype('category')\n",
    "\n",
    "# reducing engineered feature CREDIT_ACTIVE to 4 categories\n",
    "data.CREDIT_ACTIVE = data.CREDIT_ACTIVE.astype(np.uint32)\n",
    "\n",
    "def credit_active(series):\n",
    "    if series == 0:\n",
    "        return 'No Accounts'\n",
    "    elif 1 <= series <= 3:\n",
    "        return '1-3 Accounts'\n",
    "    else : \n",
    "        return ' > 4 Accounts'\n",
    "data['credit_active'] = data.CREDIT_ACTIVE.apply(credit_active).astype('category')\n",
    "\n",
    "# reducing engineered feature LOAN_COUNT to 5 categories\n",
    "\n",
    "def loan_count(series):\n",
    "    if series == 0:\n",
    "        return 'No Loans'\n",
    "    elif 1 <= series <= 2:\n",
    "        return '1-2 Loans'\n",
    "    elif 3 <= series <= 5:\n",
    "        return '3-5 Loans'\n",
    "    elif 6 <= series <= 10:\n",
    "        return '6-10 Loans'\n",
    "    else : \n",
    "        return ' > 10 Loans'\n",
    "\n",
    "data['loan_cnt'] = data.LOAN_COUNT.apply(loan_count).astype('category')"
   ]
  },
  {
   "cell_type": "markdown",
   "metadata": {},
   "source": [
    "### 1.1.1 Principal Component Analysis\n",
    "\n",
    "Our feature selection decisions prompted a review of the Principal Components to see if a more significant separation between the classes is evident. We dropped variables that seemed the least useful for this type of analysis. Next, we on-hot encoded to eliminate the duplication of categorical features that were already binary indicators."
   ]
  },
  {
   "cell_type": "code",
   "execution_count": null,
   "metadata": {},
   "outputs": [],
   "source": [
    "# dropping variables that were deemed the least useful for analysis\n",
    "new_df = data_lite.copy().drop(['TARGET', 'SK_ID_CURR', 'AMT_GOODS_PRICE'], axis = 1)\n",
    "# one-hot encoding\n",
    "# adding drop_first = True eliminates the duplication of categorical features that are already binary indicators\n",
    "new_df = pd.get_dummies(new_df, drop_first = True)\n",
    "pd.options.display.max_columns = 400\n",
    "new_df.describe()"
   ]
  },
  {
   "cell_type": "code",
   "execution_count": null,
   "metadata": {},
   "outputs": [],
   "source": [
    "sc = StandardScaler()\n",
    "sc.fit(new_df)\n",
    "X_train_std = sc.transform(new_df) \n",
    "X_train_std.shape"
   ]
  },
  {
   "cell_type": "markdown",
   "metadata": {},
   "source": [
    "After dropping the least useful variables and preforming a one-hot encoding, the resulting data set had an increase in the features from 92 to 192."
   ]
  },
  {
   "cell_type": "code",
   "execution_count": null,
   "metadata": {},
   "outputs": [],
   "source": [
    "cov_mat = np.cov(X_train_std.T)\n",
    "eigen_vals, eigen_vecs = np.linalg.eig(cov_mat)\n",
    "print('\\nTop Ten Eigenvalues \\n%s' % eigen_vals[0:9])"
   ]
  },
  {
   "cell_type": "code",
   "execution_count": null,
   "metadata": {},
   "outputs": [],
   "source": [
    "# calculating the total var explained and cumulative variance\n",
    "tot = sum(eigen_vals)\n",
    "var_exp = [(i/tot) for i in sorted(eigen_vals, reverse =True)]\n",
    "cum_var_exp = np.cumsum(var_exp)\n",
    "len(var_exp)\n",
    "len(cum_var_exp)\n",
    "print(\"Variance Explained length: \" + str(len(var_exp)), \"\\nCumulative Variance Explained length : \" + str(len(cum_var_exp)))"
   ]
  },
  {
   "cell_type": "code",
   "execution_count": null,
   "metadata": {},
   "outputs": [],
   "source": [
    "plt.bar(range(1,193), var_exp, alpha = .5, align = 'center', label = 'Individual Explained Variance')\n",
    "\n",
    "plt.step(range(1,193), cum_var_exp, where = 'mid', label = 'Cumulative Variance Explained')\n",
    "\n",
    "plt.ylabel('Explained Variance Ratio')\n",
    "plt.xlabel('Principal Componenet Index')\n",
    "plt.legend(loc='best')\n",
    "plt.show()"
   ]
  },
  {
   "cell_type": "markdown",
   "metadata": {},
   "source": [
    "**Significant Findings**\n",
    "\n",
    "To capture at least 80% of the variability in the dataset, we must include around 125 principal components. While this is a large number of features, our previous dataset contained 302 features. Our efforts to reduce the cardinality of several features were effective. \n",
    "\n",
    "We will pair the eigenvectors with their corresponding eigenvalues and project them onto a 2-dimensional subspace and observe the results."
   ]
  },
  {
   "cell_type": "code",
   "execution_count": null,
   "metadata": {},
   "outputs": [],
   "source": [
    "# making a listof (eigenvalues, eigenvector) tuples\n",
    "eigen_pairs = [(np.abs(eigen_vals[i]), eigen_vecs[:,i]) for i in range(len(eigen_vals))]\n",
    "\n",
    "#sort the (eigenvalue, eigenvector) tuples from high to low\n",
    "\"\"\"eigen_pairs[0] is equivalent to the single eigenvalue for PC1 and the eigenvector that represents the 190 features of the data\"\"\"\n",
    "eigen_pairs.sort(key=lambda k: k[0], reverse = True)\n",
    "\n",
    "#collecting the two eigenvectors that correspond to the two largest eigenvalues\n",
    "\n",
    "W = np.hstack((eigen_pairs[0][1][:,np.newaxis],\n",
    "               eigen_pairs[1][1][:,np.newaxis]))\n",
    "\n",
    "# printing the first 5 pairs\n",
    "print('Matrix W: \\n', W[:5])"
   ]
  },
  {
   "cell_type": "markdown",
   "metadata": {},
   "source": [
    "We can use this matrix to transform the training set into new features and plot them. First, we will observe the first 2 Principal Components with a logistic regression-based decision boundary to view the discriminatory ability of a logistic model using the Principal Components."
   ]
  },
  {
   "cell_type": "code",
   "execution_count": null,
   "metadata": {},
   "outputs": [],
   "source": [
    "#transforming training data\n",
    "X_train_pca = X_train_std.dot(W)\n",
    "\n",
    "# identifying labels\n",
    "y_train = data.TARGET\n",
    "\n",
    "#initializing the PCA transformer and logistic regression estimator:\n",
    "pca = PCA(n_components =2)\n",
    "lr = LogisticRegression(multi_class = 'ovr',\n",
    "                        random_state = 1,\n",
    "                        solver = 'lbfgs')\n",
    "# dimensionality reduction:\n",
    "X_train_pca = pca.fit_transform(X_train_std)\n",
    "#fitting the logitistic regression model on the reduced dataset:\n",
    "lr.fit(X_train_pca, y_train)\n",
    "plot_decision_regions(X_train_pca, y_train, classifier = lr)\n",
    "plt.title('Logistic Regression: Decision Boundary')\n",
    "plt.xlabel('PC1')\n",
    "plt.ylabel('PC2')\n",
    "plt.legend(loc = 'lower left')\n",
    "plt.show()"
   ]
  },
  {
   "cell_type": "markdown",
   "metadata": {},
   "source": [
    "**Significant Findings**\n",
    "\n",
    "From this plot, we can see that class separation is very poor and non-linear. We have two centroids where each has only a slight concentric-ellipse type of separation between the two classes. The decision boundary drawn by a logistic model is clearly unable to use the first two principal components to discriminate between defaults and non-defaulted loans.\n",
    "\n",
    "\n",
    "We can also attempt to view the value of the third principal component to see if there is good separation when we add a third dimension."
   ]
  },
  {
   "cell_type": "code",
   "execution_count": null,
   "metadata": {},
   "outputs": [],
   "source": [
    "# getting three principal components\n",
    "W3 = np.hstack((W,eigen_pairs[2][1][:,np.newaxis]))\n",
    "W3.shape"
   ]
  },
  {
   "cell_type": "code",
   "execution_count": null,
   "metadata": {},
   "outputs": [],
   "source": [
    "#transforming training data\n",
    "X_train_pca3 = X_train_std.dot(W3)\n",
    "X_train_pca3.shape"
   ]
  },
  {
   "cell_type": "code",
   "execution_count": null,
   "metadata": {},
   "outputs": [],
   "source": [
    "fig = plt.figure(figsize=(12,10))\n",
    "ax = fig.add_subplot(111, projection = '3d')\n",
    "\n",
    "\n",
    "colors = ['r','g']\n",
    "markers = ['o', 'x']\n",
    "\n",
    "# for each index and class in:\n",
    "for idx, cl in enumerate(np.unique(y_train)):\n",
    "    ax.scatter3D(X_train_pca3[y_train == cl, 0],\n",
    "                X_train_pca3[y_train == cl, 1],\n",
    "                X_train_pca3[y_train == cl, 2],\n",
    "                label = cl,\n",
    "                s=500,\n",
    "                c = X_train_pca3[y_train == cl, 2],\n",
    "                cmap = 'viridis',\n",
    "                marker = markers[idx])"
   ]
  },
  {
   "cell_type": "markdown",
   "metadata": {},
   "source": [
    "**Significant Findings**\n",
    "\n",
    "A three dimensional plot of the data does provide some insights. Defaults can be separated along the third dimension, as indicated by the defaults being clustered in the blue region and the non-defaults being clustered in the green/yellow regions of the third Principal Component.\n",
    "\n",
    "1. The overlap between the classes is so signficant even in the third dimension, that the boundary line is not clear.\n",
    "\n",
    "2. We will apply sampling strategies that will clarify the class boundaries."
   ]
  },
  {
   "cell_type": "markdown",
   "metadata": {},
   "source": [
    "## 1.1.2 Describe the final dataset that is used for classification/regression (include a description of any newly formed variables you created). (Q1b) <a class=\"anchor\" id=\"FinalDataset\"></a>"
   ]
  },
  {
   "cell_type": "markdown",
   "metadata": {},
   "source": [
    "### VIF Feature Removal / Dimensionality Reduction <a class=\"anchor\" id=\"VIF\"></a>\n",
    "\n",
    "High VIF is an [indication of multicollinearity](https://www.statsmodels.org/stable/generated/statsmodels.stats.outliers_influence.variance_inflation_factor.html).\n",
    "Typically, limiting VIF of individual features to 5 is considered reasonable.\n",
    "For removal by VIF, features with high VIF were removed iteratively until the VIF for all remain features was less than 5.\n",
    "The removed features are printed by the code below."
   ]
  },
  {
   "cell_type": "code",
   "execution_count": 34,
   "metadata": {},
   "outputs": [],
   "source": [
    "class ReduceVIF(BaseEstimator, TransformerMixin):\n",
    "    def __init__(self, thresh=5.0):\n",
    "        \"\"\"Iteratively calculate VIF and drop features with highest VIF until\n",
    "        all VIF values are below the threshold value (`thresh`).\n",
    "        \n",
    "        Adapted from https://www.kaggle.com/ffisegydd/sklearn-multicollinearity-class\n",
    "        \"\"\"\n",
    "        # From looking at documentation, values between 5 and 10 are \"okay\".\n",
    "        # Above 10 is too high and so should be removed.\n",
    "        self.thresh = thresh\n",
    "        \n",
    "        # The statsmodel function will fail with NaN values, as such we have to impute them.\n",
    "        # By default we impute using the median value.\n",
    "        # This imputation could be taken out and added as part of an sklearn Pipeline.\n",
    "\n",
    "    def fit(self, X, y=None):\n",
    "        print('ReduceVIF fit')\n",
    "        return self\n",
    "\n",
    "    def transform(self, X, y=None):\n",
    "        print('ReduceVIF transform')\n",
    "        columns = X.columns.tolist()\n",
    "        return ReduceVIF.calculate_vif(X, self.thresh)\n",
    "\n",
    "    @staticmethod\n",
    "    def calculate_vif(X, thresh):\n",
    "        # Taken from https://stats.stackexchange.com/a/253620/53565 and modified\n",
    "        dropped=True\n",
    "        while dropped:\n",
    "            variables = X.columns\n",
    "            dropped = False\n",
    "            vif = [variance_inflation_factor(X[variables].values, X.columns.get_loc(var)) for var in X.columns]\n",
    "            \n",
    "            max_vif = max(vif)\n",
    "            if max_vif > thresh:\n",
    "                maxloc = vif.index(max_vif)\n",
    "                print(f'Dropping {X.columns[maxloc]} with vif={max_vif}')\n",
    "                X = X.drop([X.columns.tolist()[maxloc]], axis=1)\n",
    "                dropped=True\n",
    "        return X"
   ]
  },
  {
   "cell_type": "markdown",
   "metadata": {},
   "source": [
    "### 1.2.1 Feature Selection <a class=\"anchor\" id=\"FeatureSelection\"></a>\n",
    "\n",
    "Feature selection was performed by removing features with high variance inflation factor (VIF) and ranking features by feature importance  with an ensemble of models (regularized logistic regression).\n"
   ]
  },
  {
   "cell_type": "code",
   "execution_count": 35,
   "metadata": {},
   "outputs": [
    {
     "name": "stdout",
     "output_type": "stream",
     "text": [
      "ReduceVIF fit\n",
      "ReduceVIF transform\n",
      "Dropping FLAG_EMP_PHONE with vif=inf\n",
      "Dropping OBS_60_CNT_SOCIAL_CIRCLE with vif=305.3561309024784\n",
      "Dropping DAYS_EMPLOYED with vif=26.563116707417766\n",
      "Dropping CREDIT_INCOME_RATIO with vif=12.802783700440655\n",
      "Dropping FLAG_DOCUMENT_3 with vif=12.359954352518328\n",
      "Dropping REGION_RATING_CLIENT with vif=11.328873613921926\n",
      "Dropping REG_REGION_NOT_WORK_REGION with vif=8.86833737152621\n",
      "Dropping REG_CITY_NOT_WORK_CITY with vif=6.576086450010426\n"
     ]
    }
   ],
   "source": [
    "transformer = ReduceVIF()\n",
    "X = transformer.fit_transform(X_train_svm_as_df)"
   ]
  },
  {
   "cell_type": "markdown",
   "metadata": {},
   "source": [
    "We combined multiple stratification and sampling techniques to the data before training the model:\n",
    "\n",
    "1. Imputations are calculated based on the training set and applied to the test set.\n",
    "2. A stratefied training/test set by `TARGET` : to guarantee similar distributions\n",
    "3. Random-undersampling by the engineered categorical `CAT_INCOME` : clarify the boundaries between income strata\n",
    "4. Tomek Link under-sampling by `TARGET` : clarify the boundaries between `TARGET` classes"
   ]
  },
  {
   "cell_type": "markdown",
   "metadata": {},
   "source": [
    "### 1.1.2 Stratified Sampling by Incomes\n",
    "Our first step is to separate the `AMT_INCOME_TOTAL` feature and create a new feature by dividing incomes into quantiles."
   ]
  },
  {
   "cell_type": "code",
   "execution_count": 17,
   "metadata": {},
   "outputs": [
    {
     "data": {
      "text/plain": [
       "[$147,150 - $202,500, $202,500 - $117,000,000, $25,659 - $112,500, $112,500 - $147,150, $112,500 - $147,150, ..., $147,150 - $202,500, $25,659 - $112,500, $147,150 - $202,500, $147,150 - $202,500, $147,150 - $202,500]\n",
       "Length: 307511\n",
       "Categories (4, object): [$25,659 - $112,500 < $112,500 - $147,150 < $147,150 - $202,500 < $202,500 - $117,000,000]"
      ]
     },
     "execution_count": 17,
     "metadata": {},
     "output_type": "execute_result"
    }
   ],
   "source": [
    "#create quantiles with simple category names based on the quantile ranges\n",
    "\n",
    "income_labels = ['$25,659 - $112,500', '$112,500 - $147,150',\n",
    "                 '$147,150 - $202,500','$202,500 - $117,000,000']\n",
    "\n",
    "CAT_INCOME = pd.qcut(data['AMT_INCOME_TOTAL'], q = 4,\n",
    "                    labels = income_labels)\n",
    "\n",
    "CAT_INCOME.values"
   ]
  },
  {
   "cell_type": "code",
   "execution_count": 18,
   "metadata": {},
   "outputs": [
    {
     "data": {
      "text/html": [
       "<div>\n",
       "<style scoped>\n",
       "    .dataframe tbody tr th:only-of-type {\n",
       "        vertical-align: middle;\n",
       "    }\n",
       "\n",
       "    .dataframe tbody tr th {\n",
       "        vertical-align: top;\n",
       "    }\n",
       "\n",
       "    .dataframe thead th {\n",
       "        text-align: right;\n",
       "    }\n",
       "</style>\n",
       "<table border=\"1\" class=\"dataframe\">\n",
       "  <thead>\n",
       "    <tr style=\"text-align: right;\">\n",
       "      <th>CAT_INCOME</th>\n",
       "      <th>$25,659 - $112,500</th>\n",
       "      <th>$112,500 - $147,150</th>\n",
       "      <th>$147,150 - $202,500</th>\n",
       "      <th>$202,500 - $117,000,000</th>\n",
       "    </tr>\n",
       "  </thead>\n",
       "  <tbody>\n",
       "    <tr>\n",
       "      <th>count</th>\n",
       "      <td>307511.000000</td>\n",
       "      <td>307511.000000</td>\n",
       "      <td>307511.000000</td>\n",
       "      <td>307511.000000</td>\n",
       "    </tr>\n",
       "    <tr>\n",
       "      <th>mean</th>\n",
       "      <td>0.327071</td>\n",
       "      <td>0.172943</td>\n",
       "      <td>0.267350</td>\n",
       "      <td>0.232636</td>\n",
       "    </tr>\n",
       "    <tr>\n",
       "      <th>std</th>\n",
       "      <td>0.469144</td>\n",
       "      <td>0.378199</td>\n",
       "      <td>0.442577</td>\n",
       "      <td>0.422513</td>\n",
       "    </tr>\n",
       "    <tr>\n",
       "      <th>min</th>\n",
       "      <td>0.000000</td>\n",
       "      <td>0.000000</td>\n",
       "      <td>0.000000</td>\n",
       "      <td>0.000000</td>\n",
       "    </tr>\n",
       "    <tr>\n",
       "      <th>25%</th>\n",
       "      <td>0.000000</td>\n",
       "      <td>0.000000</td>\n",
       "      <td>0.000000</td>\n",
       "      <td>0.000000</td>\n",
       "    </tr>\n",
       "    <tr>\n",
       "      <th>50%</th>\n",
       "      <td>0.000000</td>\n",
       "      <td>0.000000</td>\n",
       "      <td>0.000000</td>\n",
       "      <td>0.000000</td>\n",
       "    </tr>\n",
       "    <tr>\n",
       "      <th>75%</th>\n",
       "      <td>1.000000</td>\n",
       "      <td>0.000000</td>\n",
       "      <td>1.000000</td>\n",
       "      <td>0.000000</td>\n",
       "    </tr>\n",
       "    <tr>\n",
       "      <th>max</th>\n",
       "      <td>1.000000</td>\n",
       "      <td>1.000000</td>\n",
       "      <td>1.000000</td>\n",
       "      <td>1.000000</td>\n",
       "    </tr>\n",
       "  </tbody>\n",
       "</table>\n",
       "</div>"
      ],
      "text/plain": [
       "CAT_INCOME  $25,659 - $112,500  $112,500 - $147,150  $147,150 - $202,500  \\\n",
       "count            307511.000000        307511.000000        307511.000000   \n",
       "mean                  0.327071             0.172943             0.267350   \n",
       "std                   0.469144             0.378199             0.442577   \n",
       "min                   0.000000             0.000000             0.000000   \n",
       "25%                   0.000000             0.000000             0.000000   \n",
       "50%                   0.000000             0.000000             0.000000   \n",
       "75%                   1.000000             0.000000             1.000000   \n",
       "max                   1.000000             1.000000             1.000000   \n",
       "\n",
       "CAT_INCOME  $202,500 - $117,000,000  \n",
       "count                 307511.000000  \n",
       "mean                       0.232636  \n",
       "std                        0.422513  \n",
       "min                        0.000000  \n",
       "25%                        0.000000  \n",
       "50%                        0.000000  \n",
       "75%                        0.000000  \n",
       "max                        1.000000  "
      ]
     },
     "execution_count": 18,
     "metadata": {},
     "output_type": "execute_result"
    }
   ],
   "source": [
    "# simplifying category names\n",
    "data['CAT_INCOME'] = CAT_INCOME.astype('category')\n",
    "#use the get_dummies function to quickly find the percentage of the dataset that each quantile makes up\n",
    "pd.get_dummies(data.CAT_INCOME).describe()"
   ]
  },
  {
   "cell_type": "markdown",
   "metadata": {},
   "source": [
    "**Splitting the Data**\n",
    "\n",
    "Now that we have the `CAT_INCOME` feature, we can gather the features we want to include in our model and form strata. \n",
    "\n",
    "Before we perform any sampling techniques, we must split our data into training and test sets. Our training set will consist of approximately 80% of the data, while the test set will be set aside for validation.\n",
    "Imputation is only calculated based on the training data."
   ]
  },
  {
   "cell_type": "code",
   "execution_count": 19,
   "metadata": {},
   "outputs": [],
   "source": [
    "# read in the data without imputions that are distribution dependent\n",
    "data = read_clean_data(preimpute = False)"
   ]
  },
  {
   "cell_type": "code",
   "execution_count": 20,
   "metadata": {},
   "outputs": [],
   "source": [
    "# forming new dataset with target included. We will still drop features that we already decided were not useful.\n",
    "strat_inc = data.copy().drop(labels = ['SK_ID_CURR','AMT_GOODS_PRICE', 'CNT_CHILDREN',\n",
    "                          'CNT_FAM_MEMBERS', 'EXT_SOURCE_1_AV','EXT_SOURCE_2_AV', 'EXT_SOURCE_3_AV'], axis = 1)\n",
    "#print(list(strat_inc.columns))"
   ]
  },
  {
   "cell_type": "markdown",
   "metadata": {},
   "source": [
    "Before we create our income strata, we will stratefy the training and test data by the `TARGET` variable to assure that class labels in both the training and test sets a distributed the same way."
   ]
  },
  {
   "cell_type": "code",
   "execution_count": 21,
   "metadata": {},
   "outputs": [
    {
     "name": "stdout",
     "output_type": "stream",
     "text": [
      "y_train count: 246008\n",
      "y_test count: 61503\n",
      "Total: 307511\n"
     ]
    }
   ],
   "source": [
    "# stratify the training and test sets by the target first\n",
    "# must keep TARGET in the training sets at this point to under sample by income\n",
    "y = strat_inc.TARGET\n",
    "X = strat_inc\n",
    "# setting random_state\n",
    "random_state = 1\n",
    "\n",
    "X_train, X_test, y_train, y_test = train_test_split(X, y, test_size = .2, random_state = random_state, stratify = y)\n",
    "print('y_train count: ' + str(y_train.count()) + '\\ny_test count: ' + str(y_test.count()) +\n",
    "      '\\nTotal: ' + str(y_train.count() + y_test.count()))"
   ]
  },
  {
   "cell_type": "markdown",
   "metadata": {},
   "source": [
    "**Imputation**\n",
    "\n",
    "The function `impute_data` calculates imputations values for the following values and applies these values to test set.\n",
    "For categorical variables imputation of the mode was used.\n",
    "For continuous variables imputation of the median was used.\n",
    "\n",
    "| Variable | Imputation Method |\n",
    "|----------|-------------------|\n",
    "| CODE_GENDER | Mode |\n",
    "| NAME_TYPE_SUITE | Mode |\n",
    "| OBS_30_CNT_SOCIAL_CIRCLE | Median |\n",
    "| DEF_30_CNT_SOCIAL_CIRCLE | Median |\n",
    "| OBS_60_CNT_SOCIAL_CIRCLE | Median |\n",
    "| DEF_60_CNT_SOCIAL_CIRCLE | Median |\n",
    "| AMT_ANNUITY |  Median |\n",
    "| ANNUITY_INCOME_RATIO |  Median |\n",
    "| DAYS_LAST_PHONE_CHANGE |  Median |\n"
   ]
  },
  {
   "cell_type": "code",
   "execution_count": 22,
   "metadata": {},
   "outputs": [],
   "source": [
    "X_train, X_test = impute_data(X_train, X_test)\n",
    "\n",
    "# apply income splits\n",
    "X_train.CAT_INCOME = pd.qcut(X_train['AMT_INCOME_TOTAL'], q = 4,\n",
    "                             labels = income_labels)\n",
    "X_test.CAT_INCOME = pd.qcut(X_test['AMT_INCOME_TOTAL'], q = 4,\n",
    "                             labels = income_labels)"
   ]
  },
  {
   "cell_type": "code",
   "execution_count": 23,
   "metadata": {},
   "outputs": [],
   "source": [
    "# combine the imputated test and train for analysis of the SVM\n",
    "data_imputed = pd.concat([X_train, X_test])"
   ]
  },
  {
   "cell_type": "markdown",
   "metadata": {},
   "source": [
    "**Creating Income Strata**\n",
    "\n",
    "We will now take the training set and under-sample all the income categories except the majority category so that it is represented better."
   ]
  },
  {
   "cell_type": "code",
   "execution_count": 24,
   "metadata": {},
   "outputs": [
    {
     "data": {
      "text/plain": [
       "(207915, 75)"
      ]
     },
     "execution_count": 24,
     "metadata": {},
     "output_type": "execute_result"
    }
   ],
   "source": [
    "# We are deciding to under sample all strata except the majority class\n",
    "rus = RandomUnderSampler(random_state = random_state,\n",
    "                         sampling_strategy = 'not majority')\n",
    "\n",
    "# we are undersampling based on strata defined by the CAT_INCOME variable\n",
    "y_inc = X_train.CAT_INCOME\n",
    "X_rus, y_rus = rus.fit_resample(X_train,y_inc)\n",
    "X_rus.shape"
   ]
  },
  {
   "cell_type": "markdown",
   "metadata": {},
   "source": [
    "Now that we have applied an under-sampling strategy to make the majority income class more easily seperable, we can now under-sample by the `TARGET` feature to further clarify the boundary."
   ]
  },
  {
   "cell_type": "code",
   "execution_count": 25,
   "metadata": {},
   "outputs": [
    {
     "name": "stdout",
     "output_type": "stream",
     "text": [
      "Shape of Training set: (207915, 176)\n",
      "Shape of Test set: (61503, 176)\n"
     ]
    }
   ],
   "source": [
    "# preparing training data \n",
    "\n",
    "#removing TARGET from training data\n",
    "y_train = X_rus.pop('TARGET')\n",
    "#getting dummy variables\n",
    "X_train = pd.get_dummies(X_rus, drop_first = True)\n",
    "\n",
    "\n",
    "# preparing test data for evaluation\n",
    "y_test = X_test.pop('TARGET')\n",
    "# create SVM test set with out dummies\n",
    "X_test_svm = X_test.copy()\n",
    "# create test set with dummies\n",
    "X_test = pd.get_dummies(X_test, drop_first = True)\n",
    "\n",
    "# define a function to make empty features for missing features\n",
    "cols = list(X_train.columns)\n",
    "def add_missing_dummies(d, cols):\n",
    "    missing_cols = set(cols) - set(d.columns)\n",
    "    for c in missing_cols:\n",
    "        d[c] = 0\n",
    "add_missing_dummies(X_test, cols)\n",
    "\n",
    "print('Shape of Training set: ' + str(X_train.shape) + '\\nShape of Test set: ' + str(X_test.shape))"
   ]
  },
  {
   "cell_type": "markdown",
   "metadata": {},
   "source": [
    "We will take the X_rus training data, which is randomly under-sampled by income and under-sample it once more according to the TomekLinks to make the boundary between the classes more evident."
   ]
  },
  {
   "cell_type": "code",
   "execution_count": 26,
   "metadata": {},
   "outputs": [],
   "source": [
    "tl = TomekLinks()\n",
    "X_tl, y_tl = tl.fit_sample(X_train, y_train)"
   ]
  },
  {
   "cell_type": "markdown",
   "metadata": {},
   "source": [
    "**Resampling the Training Data**\n",
    "\n",
    "Initially, the models were trained against training data that contained mostly non-defaulting instances. However, the model's performance on this initial training data was inferior, generally failing to classify any defaulting instances. The remedy to this issue was to resample the training data to balance the number of non-defaulting and defaulting instances. All the defaulting instances were retained, but the non-defaulting instances were randomly downsampled to match the number of non-defaulting instances. Resampled training data improved the performance of the models substantially when validated on the test data. \n",
    "\n",
    "The test data was **not** resampled.\n",
    "\n",
    "Additionally, the categroical variables were label encoded, rather than one-hot encoded."
   ]
  },
  {
   "cell_type": "code",
   "execution_count": 27,
   "metadata": {},
   "outputs": [],
   "source": [
    "#removing TARGET from training data\n",
    "y_train_SVM = y_train.copy()\n",
    "#getting dummy variables\n",
    "X_train_SVM = X_rus.copy()"
   ]
  },
  {
   "cell_type": "code",
   "execution_count": 28,
   "metadata": {},
   "outputs": [],
   "source": [
    "# need to down sample to deal with training computation time\n",
    "# training on whole set takes about 12hr\n",
    "# use about 20% of the training data\n",
    "downsampled = X_train_SVM.copy()\n",
    "downsampled['TARGET'] = y_train_SVM"
   ]
  },
  {
   "cell_type": "code",
   "execution_count": 29,
   "metadata": {},
   "outputs": [],
   "source": [
    "cols_encode = ['ORGANIZATION_TYPE','WEEKDAY_APPR_PROCESS_START','OCCUPATION_TYPE',\n",
    "              'NAME_FAMILY_STATUS','NAME_FAMILY_STATUS','NAME_EDUCATION_TYPE','NAME_INCOME_TYPE',\n",
    "              'NAME_HOUSING_TYPE','NAME_CONTRACT_TYPE', 'FLAG_OWN_REALTY', 'FLAG_OWN_CAR']\n",
    "\n",
    "le = LabelEncoder()\n",
    "for col in cols_encode:\n",
    "    downsampled[col] = le.fit_transform(downsampled[col])\n",
    "    X_test_svm[col] = le.transform(X_test_svm[col])\n",
    "\n",
    "downsampled = downsampled.drop(labels = ['EXT_SOURCE_3','EXT_SOURCE_1','AMT_REQ_CREDIT_BUREAU_HOUR',\n",
    "                                         'AMT_REQ_CREDIT_BUREAU_DAY','AMT_REQ_CREDIT_BUREAU_WEEK',\n",
    "                                         'AMT_REQ_CREDIT_BUREAU_MON','AMT_REQ_CREDIT_BUREAU_QRT',\n",
    "                                         'AMT_REQ_CREDIT_BUREAU_YEAR', 'NAME_TYPE_SUITE'], axis = 1)\n",
    "X_test_svm = X_test_svm.drop(labels = ['EXT_SOURCE_3','EXT_SOURCE_1','AMT_REQ_CREDIT_BUREAU_HOUR',\n",
    "                                         'AMT_REQ_CREDIT_BUREAU_DAY','AMT_REQ_CREDIT_BUREAU_WEEK',\n",
    "                                         'AMT_REQ_CREDIT_BUREAU_MON','AMT_REQ_CREDIT_BUREAU_QRT',\n",
    "                                         'AMT_REQ_CREDIT_BUREAU_YEAR', 'NAME_TYPE_SUITE'], axis = 1)\n"
   ]
  },
  {
   "cell_type": "code",
   "execution_count": 30,
   "metadata": {},
   "outputs": [],
   "source": [
    "defaults = downsampled.query('TARGET == 1')\n",
    "nominal = downsampled.query('TARGET == 0').sample(n = np.round(0.5 * (defaults.TARGET.size / 0.5)).astype(int),\n",
    "                                                  random_state = random_state)\n",
    "# join dataframes and shuffle\n",
    "downsampled = pd.concat([defaults, nominal]).sample(frac = 1, \n",
    "                                                    random_state = random_state)\n",
    "\n",
    "X_train_svm = downsampled.drop(labels = ['TARGET'], axis = 1)\n",
    "y_train_svm = downsampled.TARGET\n",
    "\n",
    "# transform the data\n",
    "scaler = StandardScaler()\n",
    "X_train_svm = scaler.fit_transform(X_train_svm)\n",
    "X_test_svm = scaler.transform(X_test_svm)"
   ]
  },
  {
   "cell_type": "code",
   "execution_count": 31,
   "metadata": {},
   "outputs": [],
   "source": [
    "X_train_svm_as_df = pd.DataFrame(X_train_svm, columns=downsampled.drop(labels = ['TARGET'], axis = 1).columns)"
   ]
  },
  {
   "cell_type": "markdown",
   "metadata": {},
   "source": [
    "## 1.2 Describe the final dataset that is used for classification/regression (Q1B)<a class=\"anchor\" id=\"FinalDataset\"></a>\n"
   ]
  },
  {
   "cell_type": "markdown",
   "metadata": {},
   "source": [
    "### Logistic Regression <a class=\"anchor\" id=\"LogsticRegression\"></a>\n",
    "\n",
    "Each type of regularized logistic regression (L1, L2, ElasticNet) was grid search for the bast hyperparameters.\n",
    "Then the regularized logistic regression models were fit with the hyperparameters selected by [grid search]().\n",
    "After the fits, features where ranked by the mean absolute importance from the model fits ([see table](#FI)).\n",
    "\n",
    "**Note**: ElasticNet was not refit because the grid search or elastic net selected 0 for the regularization mixing parameter,\n",
    "  which is just L1 regularization."
   ]
  },
  {
   "cell_type": "code",
   "execution_count": 36,
   "metadata": {},
   "outputs": [],
   "source": [
    "logistic_l1 = LogisticRegression(C = 0.046,\n",
    "                                 penalty = 'l1', \n",
    "                                 solver = 'saga', \n",
    "                                 random_state = random_state)\n",
    "logistic_l1.fit(X, y_train_svm);"
   ]
  },
  {
   "cell_type": "code",
   "execution_count": 37,
   "metadata": {},
   "outputs": [],
   "source": [
    "coefs = logistic_l1.coef_\n",
    "pd.set_option('display.max_rows', 500)\n",
    "coefs_df = pd.DataFrame(data=coefs.flatten())\n",
    "feats_df = X.columns\n",
    "feats_df = feats_df.tolist()\n",
    "feats_df = pd.DataFrame(feats_df)\n",
    "df_new_coeffs = pd.concat([feats_df, coefs_df], axis=1).dropna()\n",
    "df_new_coeffs.columns = ['Feature', 'Logistic Weight']\n",
    "final_df_logistic_l1 = df_new_coeffs.sort_values('Logistic Weight')\n",
    "#final_head = final_df_logistic.head(10)\n",
    "#final_tail = final_df_logistic.tail(10)\n",
    "#final_weights = pd.concat([final_head, final_tail], axis=0)\n",
    "#final_weights['Abs Weight'] = np.abs(final_weights['Logistic Weight'])\n",
    "#final_weights.sort_values('Abs Weight', ascending=False)\n",
    "final_df_logistic_l1['Abs Weight'] = np.abs(final_df_logistic_l1['Logistic Weight'])\n",
    "final_df_logistic_l1.sort_values('Abs Weight', ascending=False, inplace = True)\n",
    "#print(final_df_logistic_l1.to_string(index=False))"
   ]
  },
  {
   "cell_type": "code",
   "execution_count": 38,
   "metadata": {},
   "outputs": [],
   "source": [
    "logistic_l2 = LogisticRegression(C = 0.001, \n",
    "                                 penalty = 'l2',\n",
    "                                 solver = 'lbfgs', \n",
    "                                 random_state = random_state)\n",
    "logistic_l2.fit(X, y_train_svm);"
   ]
  },
  {
   "cell_type": "code",
   "execution_count": 39,
   "metadata": {},
   "outputs": [],
   "source": [
    "coefs = logistic_l2.coef_\n",
    "pd.set_option('display.max_rows', 500)\n",
    "coefs_df = pd.DataFrame(data=coefs.flatten())\n",
    "feats_df = X.columns\n",
    "feats_df = feats_df.tolist()\n",
    "feats_df = pd.DataFrame(feats_df)\n",
    "df_new_coeffs = pd.concat([feats_df, coefs_df], axis=1).dropna()\n",
    "df_new_coeffs.columns = ['Feature', 'Logistic Weight']\n",
    "final_df_logistic_l2 = df_new_coeffs.sort_values('Logistic Weight')\n",
    "#final_head = final_df_logistic.head(10)\n",
    "#final_tail = final_df_logistic.tail(10)\n",
    "#final_weights = pd.concat([final_head, final_tail], axis=0)\n",
    "#final_weights['Abs Weight'] = np.abs(final_weights['Logistic Weight'])\n",
    "#final_weights.sort_values('Abs Weight', ascending=False)\n",
    "final_df_logistic_l2['Abs Weight'] = np.abs(final_df_logistic_l2['Logistic Weight'])\n",
    "final_df_logistic_l2.sort_values('Abs Weight', ascending=False, inplace = True)\n",
    "#print(final_df_logistic_l2.to_string(index=False))"
   ]
  },
  {
   "cell_type": "code",
   "execution_count": 40,
   "metadata": {},
   "outputs": [],
   "source": [
    "# prevent risk of object corruption\n",
    "l2 = final_df_logistic_l2.sort_values('Feature').copy().add_suffix('_l2')\n",
    "l1 = final_df_logistic_l1.sort_values('Feature').copy().add_suffix('_l1')"
   ]
  },
  {
   "cell_type": "markdown",
   "metadata": {},
   "source": [
    "### Feature Importance <a class=\"anchor\" id=\"FI\"></a>\n",
    "\n",
    "The importances were combined for each model and ranked by the mean absolute importance (logstic weight).\n",
    "The weights for each model were also included. \n",
    "The difference and percent difference between the weights for each model is also shown.\n",
    "\n",
    "The difference in feature weight between the two models is not substantial in the first 30 features.\n",
    "There are only a feature features with substantial differences in weights, such as sign changes.\n",
    "All of these features have low importances."
   ]
  },
  {
   "cell_type": "code",
   "execution_count": 41,
   "metadata": {},
   "outputs": [
    {
     "data": {
      "text/html": [
       "<div>\n",
       "<style scoped>\n",
       "    .dataframe tbody tr th:only-of-type {\n",
       "        vertical-align: middle;\n",
       "    }\n",
       "\n",
       "    .dataframe tbody tr th {\n",
       "        vertical-align: top;\n",
       "    }\n",
       "\n",
       "    .dataframe thead th {\n",
       "        text-align: right;\n",
       "    }\n",
       "</style>\n",
       "<table border=\"1\" class=\"dataframe\">\n",
       "  <thead>\n",
       "    <tr style=\"text-align: right;\">\n",
       "      <th></th>\n",
       "      <th>Mean_Abs_Weight</th>\n",
       "      <th>Feature</th>\n",
       "      <th>l1_Weight</th>\n",
       "      <th>l2_Weight</th>\n",
       "      <th>Importance_Difference</th>\n",
       "      <th>Importance_Difference_%</th>\n",
       "    </tr>\n",
       "  </thead>\n",
       "  <tbody>\n",
       "    <tr>\n",
       "      <th>0</th>\n",
       "      <td>0.438435</td>\n",
       "      <td>EXT_SOURCE_2</td>\n",
       "      <td>-0.466907</td>\n",
       "      <td>-0.409962</td>\n",
       "      <td>-0.056945</td>\n",
       "      <td>-12.988139</td>\n",
       "    </tr>\n",
       "    <tr>\n",
       "      <th>1</th>\n",
       "      <td>0.166287</td>\n",
       "      <td>PERCENT_EMPLOYED_TO_AGE</td>\n",
       "      <td>-0.178329</td>\n",
       "      <td>-0.154244</td>\n",
       "      <td>-0.024085</td>\n",
       "      <td>-14.483756</td>\n",
       "    </tr>\n",
       "    <tr>\n",
       "      <th>2</th>\n",
       "      <td>0.162195</td>\n",
       "      <td>CODE_GENDER</td>\n",
       "      <td>-0.172420</td>\n",
       "      <td>-0.151970</td>\n",
       "      <td>-0.020450</td>\n",
       "      <td>-12.608409</td>\n",
       "    </tr>\n",
       "    <tr>\n",
       "      <th>3</th>\n",
       "      <td>0.141661</td>\n",
       "      <td>DAYS_BIRTH</td>\n",
       "      <td>-0.147777</td>\n",
       "      <td>-0.135544</td>\n",
       "      <td>-0.012233</td>\n",
       "      <td>-8.635488</td>\n",
       "    </tr>\n",
       "    <tr>\n",
       "      <th>4</th>\n",
       "      <td>0.135792</td>\n",
       "      <td>NAME_EDUCATION_TYPE</td>\n",
       "      <td>0.141790</td>\n",
       "      <td>0.129794</td>\n",
       "      <td>0.011996</td>\n",
       "      <td>8.834419</td>\n",
       "    </tr>\n",
       "    <tr>\n",
       "      <th>5</th>\n",
       "      <td>0.130236</td>\n",
       "      <td>NAME_CONTRACT_TYPE</td>\n",
       "      <td>-0.137310</td>\n",
       "      <td>-0.123161</td>\n",
       "      <td>-0.014149</td>\n",
       "      <td>-10.864146</td>\n",
       "    </tr>\n",
       "    <tr>\n",
       "      <th>6</th>\n",
       "      <td>0.114005</td>\n",
       "      <td>FLAG_OWN_CAR</td>\n",
       "      <td>-0.126493</td>\n",
       "      <td>-0.101516</td>\n",
       "      <td>-0.024977</td>\n",
       "      <td>-21.908926</td>\n",
       "    </tr>\n",
       "    <tr>\n",
       "      <th>7</th>\n",
       "      <td>0.098678</td>\n",
       "      <td>DAYS_ID_PUBLISH</td>\n",
       "      <td>-0.101697</td>\n",
       "      <td>-0.095660</td>\n",
       "      <td>-0.006037</td>\n",
       "      <td>-6.117967</td>\n",
       "    </tr>\n",
       "    <tr>\n",
       "      <th>8</th>\n",
       "      <td>0.094373</td>\n",
       "      <td>EMPLOYED</td>\n",
       "      <td>0.103532</td>\n",
       "      <td>0.085214</td>\n",
       "      <td>0.018318</td>\n",
       "      <td>19.410444</td>\n",
       "    </tr>\n",
       "    <tr>\n",
       "      <th>9</th>\n",
       "      <td>0.087284</td>\n",
       "      <td>REGION_RATING_CLIENT_W_CITY</td>\n",
       "      <td>0.088142</td>\n",
       "      <td>0.086426</td>\n",
       "      <td>0.001715</td>\n",
       "      <td>1.965330</td>\n",
       "    </tr>\n",
       "    <tr>\n",
       "      <th>10</th>\n",
       "      <td>0.081432</td>\n",
       "      <td>DEF_30_CNT_SOCIAL_CIRCLE</td>\n",
       "      <td>0.094857</td>\n",
       "      <td>0.068008</td>\n",
       "      <td>0.026849</td>\n",
       "      <td>32.970667</td>\n",
       "    </tr>\n",
       "    <tr>\n",
       "      <th>11</th>\n",
       "      <td>0.071716</td>\n",
       "      <td>FLAG_WORK_PHONE</td>\n",
       "      <td>0.074399</td>\n",
       "      <td>0.069033</td>\n",
       "      <td>0.005366</td>\n",
       "      <td>7.482311</td>\n",
       "    </tr>\n",
       "    <tr>\n",
       "      <th>12</th>\n",
       "      <td>0.069569</td>\n",
       "      <td>DAYS_LAST_PHONE_CHANGE</td>\n",
       "      <td>-0.066452</td>\n",
       "      <td>-0.072685</td>\n",
       "      <td>0.006233</td>\n",
       "      <td>8.959796</td>\n",
       "    </tr>\n",
       "    <tr>\n",
       "      <th>13</th>\n",
       "      <td>0.057532</td>\n",
       "      <td>REG_CITY_NOT_LIVE_CITY</td>\n",
       "      <td>0.057391</td>\n",
       "      <td>0.057673</td>\n",
       "      <td>-0.000283</td>\n",
       "      <td>-0.491052</td>\n",
       "    </tr>\n",
       "    <tr>\n",
       "      <th>14</th>\n",
       "      <td>0.049001</td>\n",
       "      <td>NAME_INCOME_TYPE</td>\n",
       "      <td>0.047684</td>\n",
       "      <td>0.050318</td>\n",
       "      <td>-0.002635</td>\n",
       "      <td>-5.377030</td>\n",
       "    </tr>\n",
       "    <tr>\n",
       "      <th>15</th>\n",
       "      <td>0.045846</td>\n",
       "      <td>FLAG_DOCUMENT_8</td>\n",
       "      <td>-0.048432</td>\n",
       "      <td>-0.043259</td>\n",
       "      <td>-0.005173</td>\n",
       "      <td>-11.283923</td>\n",
       "    </tr>\n",
       "    <tr>\n",
       "      <th>16</th>\n",
       "      <td>0.044904</td>\n",
       "      <td>AMT_CREDIT</td>\n",
       "      <td>-0.046163</td>\n",
       "      <td>-0.043645</td>\n",
       "      <td>-0.002518</td>\n",
       "      <td>-5.608158</td>\n",
       "    </tr>\n",
       "    <tr>\n",
       "      <th>17</th>\n",
       "      <td>0.043918</td>\n",
       "      <td>AMT_ANNUITY</td>\n",
       "      <td>0.050637</td>\n",
       "      <td>0.037199</td>\n",
       "      <td>0.013438</td>\n",
       "      <td>30.599117</td>\n",
       "    </tr>\n",
       "    <tr>\n",
       "      <th>18</th>\n",
       "      <td>0.040006</td>\n",
       "      <td>DAYS_REGISTRATION</td>\n",
       "      <td>-0.038064</td>\n",
       "      <td>-0.041947</td>\n",
       "      <td>0.003883</td>\n",
       "      <td>9.706949</td>\n",
       "    </tr>\n",
       "    <tr>\n",
       "      <th>19</th>\n",
       "      <td>0.038608</td>\n",
       "      <td>OWN_CAR_AGE</td>\n",
       "      <td>0.045209</td>\n",
       "      <td>0.032008</td>\n",
       "      <td>0.013201</td>\n",
       "      <td>34.191138</td>\n",
       "    </tr>\n",
       "    <tr>\n",
       "      <th>20</th>\n",
       "      <td>0.036968</td>\n",
       "      <td>FLAG_DOCUMENT_13</td>\n",
       "      <td>-0.037318</td>\n",
       "      <td>-0.036618</td>\n",
       "      <td>-0.000701</td>\n",
       "      <td>-1.895412</td>\n",
       "    </tr>\n",
       "    <tr>\n",
       "      <th>21</th>\n",
       "      <td>0.035719</td>\n",
       "      <td>FLAG_DOCUMENT_18</td>\n",
       "      <td>-0.036766</td>\n",
       "      <td>-0.034671</td>\n",
       "      <td>-0.002094</td>\n",
       "      <td>-5.863120</td>\n",
       "    </tr>\n",
       "    <tr>\n",
       "      <th>22</th>\n",
       "      <td>0.035173</td>\n",
       "      <td>FLAG_DOCUMENT_16</td>\n",
       "      <td>-0.035874</td>\n",
       "      <td>-0.034472</td>\n",
       "      <td>-0.001402</td>\n",
       "      <td>-3.984814</td>\n",
       "    </tr>\n",
       "    <tr>\n",
       "      <th>23</th>\n",
       "      <td>0.034831</td>\n",
       "      <td>FLAG_PHONE</td>\n",
       "      <td>-0.035097</td>\n",
       "      <td>-0.034564</td>\n",
       "      <td>-0.000533</td>\n",
       "      <td>-1.528890</td>\n",
       "    </tr>\n",
       "    <tr>\n",
       "      <th>24</th>\n",
       "      <td>0.034023</td>\n",
       "      <td>FLAG_DOCUMENT_14</td>\n",
       "      <td>-0.034777</td>\n",
       "      <td>-0.033268</td>\n",
       "      <td>-0.001509</td>\n",
       "      <td>-4.436489</td>\n",
       "    </tr>\n",
       "    <tr>\n",
       "      <th>25</th>\n",
       "      <td>0.031191</td>\n",
       "      <td>FLAG_DOCUMENT_2</td>\n",
       "      <td>0.033107</td>\n",
       "      <td>0.029276</td>\n",
       "      <td>0.003831</td>\n",
       "      <td>12.281817</td>\n",
       "    </tr>\n",
       "    <tr>\n",
       "      <th>26</th>\n",
       "      <td>0.027038</td>\n",
       "      <td>FLAG_DOCUMENT_6</td>\n",
       "      <td>-0.024095</td>\n",
       "      <td>-0.029980</td>\n",
       "      <td>0.005885</td>\n",
       "      <td>21.765378</td>\n",
       "    </tr>\n",
       "    <tr>\n",
       "      <th>27</th>\n",
       "      <td>0.023514</td>\n",
       "      <td>AMT_INCOME_TOTAL</td>\n",
       "      <td>0.024578</td>\n",
       "      <td>0.022449</td>\n",
       "      <td>0.002129</td>\n",
       "      <td>9.054351</td>\n",
       "    </tr>\n",
       "    <tr>\n",
       "      <th>28</th>\n",
       "      <td>0.022806</td>\n",
       "      <td>FLAG_DOCUMENT_11</td>\n",
       "      <td>-0.023488</td>\n",
       "      <td>-0.022124</td>\n",
       "      <td>-0.001364</td>\n",
       "      <td>-5.979910</td>\n",
       "    </tr>\n",
       "    <tr>\n",
       "      <th>29</th>\n",
       "      <td>0.021293</td>\n",
       "      <td>FLAG_DOCUMENT_17</td>\n",
       "      <td>-0.021340</td>\n",
       "      <td>-0.021246</td>\n",
       "      <td>-0.000093</td>\n",
       "      <td>-0.438686</td>\n",
       "    </tr>\n",
       "    <tr>\n",
       "      <th>30</th>\n",
       "      <td>0.021122</td>\n",
       "      <td>LIVE_CITY_NOT_WORK_CITY</td>\n",
       "      <td>0.017591</td>\n",
       "      <td>0.024653</td>\n",
       "      <td>-0.007063</td>\n",
       "      <td>-33.437042</td>\n",
       "    </tr>\n",
       "    <tr>\n",
       "      <th>31</th>\n",
       "      <td>0.020704</td>\n",
       "      <td>NAME_HOUSING_TYPE</td>\n",
       "      <td>0.017580</td>\n",
       "      <td>0.023829</td>\n",
       "      <td>-0.006249</td>\n",
       "      <td>-30.184275</td>\n",
       "    </tr>\n",
       "    <tr>\n",
       "      <th>32</th>\n",
       "      <td>0.019576</td>\n",
       "      <td>ANNUITY_INCOME_RATIO</td>\n",
       "      <td>0.015276</td>\n",
       "      <td>0.023875</td>\n",
       "      <td>-0.008598</td>\n",
       "      <td>-43.922952</td>\n",
       "    </tr>\n",
       "    <tr>\n",
       "      <th>33</th>\n",
       "      <td>0.017168</td>\n",
       "      <td>FLAG_DOCUMENT_15</td>\n",
       "      <td>-0.016633</td>\n",
       "      <td>-0.017702</td>\n",
       "      <td>0.001069</td>\n",
       "      <td>6.228222</td>\n",
       "    </tr>\n",
       "    <tr>\n",
       "      <th>34</th>\n",
       "      <td>0.016721</td>\n",
       "      <td>REG_REGION_NOT_LIVE_REGION</td>\n",
       "      <td>-0.016944</td>\n",
       "      <td>-0.016497</td>\n",
       "      <td>-0.000447</td>\n",
       "      <td>-2.672924</td>\n",
       "    </tr>\n",
       "    <tr>\n",
       "      <th>35</th>\n",
       "      <td>0.014136</td>\n",
       "      <td>FLAG_DOCUMENT_21</td>\n",
       "      <td>0.013863</td>\n",
       "      <td>0.014409</td>\n",
       "      <td>-0.000545</td>\n",
       "      <td>-3.857766</td>\n",
       "    </tr>\n",
       "    <tr>\n",
       "      <th>36</th>\n",
       "      <td>0.013163</td>\n",
       "      <td>REGION_POPULATION_RELATIVE</td>\n",
       "      <td>0.016943</td>\n",
       "      <td>0.009382</td>\n",
       "      <td>0.007562</td>\n",
       "      <td>57.447131</td>\n",
       "    </tr>\n",
       "    <tr>\n",
       "      <th>37</th>\n",
       "      <td>0.012707</td>\n",
       "      <td>WEEKDAY_APPR_PROCESS_START</td>\n",
       "      <td>0.012243</td>\n",
       "      <td>0.013172</td>\n",
       "      <td>-0.000928</td>\n",
       "      <td>-7.304392</td>\n",
       "    </tr>\n",
       "    <tr>\n",
       "      <th>38</th>\n",
       "      <td>0.012434</td>\n",
       "      <td>FLAG_DOCUMENT_20</td>\n",
       "      <td>0.012228</td>\n",
       "      <td>0.012641</td>\n",
       "      <td>-0.000413</td>\n",
       "      <td>-3.320324</td>\n",
       "    </tr>\n",
       "    <tr>\n",
       "      <th>39</th>\n",
       "      <td>0.012104</td>\n",
       "      <td>DEF_60_CNT_SOCIAL_CIRCLE</td>\n",
       "      <td>0.000599</td>\n",
       "      <td>0.023609</td>\n",
       "      <td>-0.023010</td>\n",
       "      <td>-190.103427</td>\n",
       "    </tr>\n",
       "    <tr>\n",
       "      <th>40</th>\n",
       "      <td>0.010277</td>\n",
       "      <td>NAME_FAMILY_STATUS</td>\n",
       "      <td>0.010005</td>\n",
       "      <td>0.010549</td>\n",
       "      <td>-0.000544</td>\n",
       "      <td>-5.292894</td>\n",
       "    </tr>\n",
       "    <tr>\n",
       "      <th>41</th>\n",
       "      <td>0.008188</td>\n",
       "      <td>FLAG_CONT_MOBILE</td>\n",
       "      <td>-0.008030</td>\n",
       "      <td>-0.008346</td>\n",
       "      <td>0.000316</td>\n",
       "      <td>3.861704</td>\n",
       "    </tr>\n",
       "    <tr>\n",
       "      <th>42</th>\n",
       "      <td>0.007910</td>\n",
       "      <td>OBS_30_CNT_SOCIAL_CIRCLE</td>\n",
       "      <td>0.005857</td>\n",
       "      <td>0.009963</td>\n",
       "      <td>-0.004107</td>\n",
       "      <td>-51.917813</td>\n",
       "    </tr>\n",
       "    <tr>\n",
       "      <th>43</th>\n",
       "      <td>0.004692</td>\n",
       "      <td>FLAG_EMAIL</td>\n",
       "      <td>-0.003840</td>\n",
       "      <td>-0.005545</td>\n",
       "      <td>0.001705</td>\n",
       "      <td>36.342967</td>\n",
       "    </tr>\n",
       "    <tr>\n",
       "      <th>44</th>\n",
       "      <td>0.004119</td>\n",
       "      <td>FLAG_DOCUMENT_7</td>\n",
       "      <td>0.003363</td>\n",
       "      <td>0.004875</td>\n",
       "      <td>-0.001512</td>\n",
       "      <td>-36.710067</td>\n",
       "    </tr>\n",
       "    <tr>\n",
       "      <th>45</th>\n",
       "      <td>0.004006</td>\n",
       "      <td>FLAG_DOCUMENT_9</td>\n",
       "      <td>0.003120</td>\n",
       "      <td>0.004891</td>\n",
       "      <td>-0.001772</td>\n",
       "      <td>-44.226759</td>\n",
       "    </tr>\n",
       "    <tr>\n",
       "      <th>46</th>\n",
       "      <td>0.003964</td>\n",
       "      <td>FLAG_DOCUMENT_5</td>\n",
       "      <td>-0.003015</td>\n",
       "      <td>-0.004913</td>\n",
       "      <td>0.001898</td>\n",
       "      <td>47.875060</td>\n",
       "    </tr>\n",
       "    <tr>\n",
       "      <th>47</th>\n",
       "      <td>0.003925</td>\n",
       "      <td>FLAG_DOCUMENT_19</td>\n",
       "      <td>-0.002929</td>\n",
       "      <td>-0.004921</td>\n",
       "      <td>0.001992</td>\n",
       "      <td>50.746164</td>\n",
       "    </tr>\n",
       "    <tr>\n",
       "      <th>48</th>\n",
       "      <td>0.002471</td>\n",
       "      <td>FLAG_OWN_REALTY</td>\n",
       "      <td>0.001874</td>\n",
       "      <td>0.003068</td>\n",
       "      <td>-0.001194</td>\n",
       "      <td>-48.321227</td>\n",
       "    </tr>\n",
       "    <tr>\n",
       "      <th>49</th>\n",
       "      <td>0.002150</td>\n",
       "      <td>HOUR_APPR_PROCESS_START</td>\n",
       "      <td>0.000000</td>\n",
       "      <td>-0.004300</td>\n",
       "      <td>0.004300</td>\n",
       "      <td>200.000000</td>\n",
       "    </tr>\n",
       "    <tr>\n",
       "      <th>50</th>\n",
       "      <td>0.001131</td>\n",
       "      <td>OCCUPATION_TYPE</td>\n",
       "      <td>0.000000</td>\n",
       "      <td>-0.002263</td>\n",
       "      <td>0.002263</td>\n",
       "      <td>200.000000</td>\n",
       "    </tr>\n",
       "    <tr>\n",
       "      <th>51</th>\n",
       "      <td>0.001099</td>\n",
       "      <td>ORGANIZATION_TYPE</td>\n",
       "      <td>0.000000</td>\n",
       "      <td>-0.002199</td>\n",
       "      <td>0.002199</td>\n",
       "      <td>200.000000</td>\n",
       "    </tr>\n",
       "    <tr>\n",
       "      <th>52</th>\n",
       "      <td>0.000818</td>\n",
       "      <td>LIVE_REGION_NOT_WORK_REGION</td>\n",
       "      <td>0.000000</td>\n",
       "      <td>0.001637</td>\n",
       "      <td>-0.001637</td>\n",
       "      <td>-200.000000</td>\n",
       "    </tr>\n",
       "    <tr>\n",
       "      <th>53</th>\n",
       "      <td>0.000000</td>\n",
       "      <td>FLAG_DOCUMENT_4</td>\n",
       "      <td>0.000000</td>\n",
       "      <td>0.000000</td>\n",
       "      <td>0.000000</td>\n",
       "      <td>NaN</td>\n",
       "    </tr>\n",
       "    <tr>\n",
       "      <th>54</th>\n",
       "      <td>0.000000</td>\n",
       "      <td>FLAG_DOCUMENT_12</td>\n",
       "      <td>0.000000</td>\n",
       "      <td>0.000000</td>\n",
       "      <td>0.000000</td>\n",
       "      <td>NaN</td>\n",
       "    </tr>\n",
       "    <tr>\n",
       "      <th>55</th>\n",
       "      <td>0.000000</td>\n",
       "      <td>FLAG_DOCUMENT_10</td>\n",
       "      <td>0.000000</td>\n",
       "      <td>0.000000</td>\n",
       "      <td>0.000000</td>\n",
       "      <td>NaN</td>\n",
       "    </tr>\n",
       "    <tr>\n",
       "      <th>56</th>\n",
       "      <td>0.000000</td>\n",
       "      <td>FLAG_MOBIL</td>\n",
       "      <td>0.000000</td>\n",
       "      <td>0.000000</td>\n",
       "      <td>0.000000</td>\n",
       "      <td>NaN</td>\n",
       "    </tr>\n",
       "  </tbody>\n",
       "</table>\n",
       "</div>"
      ],
      "text/plain": [
       "    Mean_Abs_Weight                      Feature  l1_Weight  l2_Weight  \\\n",
       "0          0.438435                 EXT_SOURCE_2  -0.466907  -0.409962   \n",
       "1          0.166287      PERCENT_EMPLOYED_TO_AGE  -0.178329  -0.154244   \n",
       "2          0.162195                  CODE_GENDER  -0.172420  -0.151970   \n",
       "3          0.141661                   DAYS_BIRTH  -0.147777  -0.135544   \n",
       "4          0.135792          NAME_EDUCATION_TYPE   0.141790   0.129794   \n",
       "5          0.130236           NAME_CONTRACT_TYPE  -0.137310  -0.123161   \n",
       "6          0.114005                 FLAG_OWN_CAR  -0.126493  -0.101516   \n",
       "7          0.098678              DAYS_ID_PUBLISH  -0.101697  -0.095660   \n",
       "8          0.094373                     EMPLOYED   0.103532   0.085214   \n",
       "9          0.087284  REGION_RATING_CLIENT_W_CITY   0.088142   0.086426   \n",
       "10         0.081432     DEF_30_CNT_SOCIAL_CIRCLE   0.094857   0.068008   \n",
       "11         0.071716              FLAG_WORK_PHONE   0.074399   0.069033   \n",
       "12         0.069569       DAYS_LAST_PHONE_CHANGE  -0.066452  -0.072685   \n",
       "13         0.057532       REG_CITY_NOT_LIVE_CITY   0.057391   0.057673   \n",
       "14         0.049001             NAME_INCOME_TYPE   0.047684   0.050318   \n",
       "15         0.045846              FLAG_DOCUMENT_8  -0.048432  -0.043259   \n",
       "16         0.044904                   AMT_CREDIT  -0.046163  -0.043645   \n",
       "17         0.043918                  AMT_ANNUITY   0.050637   0.037199   \n",
       "18         0.040006            DAYS_REGISTRATION  -0.038064  -0.041947   \n",
       "19         0.038608                  OWN_CAR_AGE   0.045209   0.032008   \n",
       "20         0.036968             FLAG_DOCUMENT_13  -0.037318  -0.036618   \n",
       "21         0.035719             FLAG_DOCUMENT_18  -0.036766  -0.034671   \n",
       "22         0.035173             FLAG_DOCUMENT_16  -0.035874  -0.034472   \n",
       "23         0.034831                   FLAG_PHONE  -0.035097  -0.034564   \n",
       "24         0.034023             FLAG_DOCUMENT_14  -0.034777  -0.033268   \n",
       "25         0.031191              FLAG_DOCUMENT_2   0.033107   0.029276   \n",
       "26         0.027038              FLAG_DOCUMENT_6  -0.024095  -0.029980   \n",
       "27         0.023514             AMT_INCOME_TOTAL   0.024578   0.022449   \n",
       "28         0.022806             FLAG_DOCUMENT_11  -0.023488  -0.022124   \n",
       "29         0.021293             FLAG_DOCUMENT_17  -0.021340  -0.021246   \n",
       "30         0.021122      LIVE_CITY_NOT_WORK_CITY   0.017591   0.024653   \n",
       "31         0.020704            NAME_HOUSING_TYPE   0.017580   0.023829   \n",
       "32         0.019576         ANNUITY_INCOME_RATIO   0.015276   0.023875   \n",
       "33         0.017168             FLAG_DOCUMENT_15  -0.016633  -0.017702   \n",
       "34         0.016721   REG_REGION_NOT_LIVE_REGION  -0.016944  -0.016497   \n",
       "35         0.014136             FLAG_DOCUMENT_21   0.013863   0.014409   \n",
       "36         0.013163   REGION_POPULATION_RELATIVE   0.016943   0.009382   \n",
       "37         0.012707   WEEKDAY_APPR_PROCESS_START   0.012243   0.013172   \n",
       "38         0.012434             FLAG_DOCUMENT_20   0.012228   0.012641   \n",
       "39         0.012104     DEF_60_CNT_SOCIAL_CIRCLE   0.000599   0.023609   \n",
       "40         0.010277           NAME_FAMILY_STATUS   0.010005   0.010549   \n",
       "41         0.008188             FLAG_CONT_MOBILE  -0.008030  -0.008346   \n",
       "42         0.007910     OBS_30_CNT_SOCIAL_CIRCLE   0.005857   0.009963   \n",
       "43         0.004692                   FLAG_EMAIL  -0.003840  -0.005545   \n",
       "44         0.004119              FLAG_DOCUMENT_7   0.003363   0.004875   \n",
       "45         0.004006              FLAG_DOCUMENT_9   0.003120   0.004891   \n",
       "46         0.003964              FLAG_DOCUMENT_5  -0.003015  -0.004913   \n",
       "47         0.003925             FLAG_DOCUMENT_19  -0.002929  -0.004921   \n",
       "48         0.002471              FLAG_OWN_REALTY   0.001874   0.003068   \n",
       "49         0.002150      HOUR_APPR_PROCESS_START   0.000000  -0.004300   \n",
       "50         0.001131              OCCUPATION_TYPE   0.000000  -0.002263   \n",
       "51         0.001099            ORGANIZATION_TYPE   0.000000  -0.002199   \n",
       "52         0.000818  LIVE_REGION_NOT_WORK_REGION   0.000000   0.001637   \n",
       "53         0.000000              FLAG_DOCUMENT_4   0.000000   0.000000   \n",
       "54         0.000000             FLAG_DOCUMENT_12   0.000000   0.000000   \n",
       "55         0.000000             FLAG_DOCUMENT_10   0.000000   0.000000   \n",
       "56         0.000000                   FLAG_MOBIL   0.000000   0.000000   \n",
       "\n",
       "    Importance_Difference  Importance_Difference_%  \n",
       "0               -0.056945               -12.988139  \n",
       "1               -0.024085               -14.483756  \n",
       "2               -0.020450               -12.608409  \n",
       "3               -0.012233                -8.635488  \n",
       "4                0.011996                 8.834419  \n",
       "5               -0.014149               -10.864146  \n",
       "6               -0.024977               -21.908926  \n",
       "7               -0.006037                -6.117967  \n",
       "8                0.018318                19.410444  \n",
       "9                0.001715                 1.965330  \n",
       "10               0.026849                32.970667  \n",
       "11               0.005366                 7.482311  \n",
       "12               0.006233                 8.959796  \n",
       "13              -0.000283                -0.491052  \n",
       "14              -0.002635                -5.377030  \n",
       "15              -0.005173               -11.283923  \n",
       "16              -0.002518                -5.608158  \n",
       "17               0.013438                30.599117  \n",
       "18               0.003883                 9.706949  \n",
       "19               0.013201                34.191138  \n",
       "20              -0.000701                -1.895412  \n",
       "21              -0.002094                -5.863120  \n",
       "22              -0.001402                -3.984814  \n",
       "23              -0.000533                -1.528890  \n",
       "24              -0.001509                -4.436489  \n",
       "25               0.003831                12.281817  \n",
       "26               0.005885                21.765378  \n",
       "27               0.002129                 9.054351  \n",
       "28              -0.001364                -5.979910  \n",
       "29              -0.000093                -0.438686  \n",
       "30              -0.007063               -33.437042  \n",
       "31              -0.006249               -30.184275  \n",
       "32              -0.008598               -43.922952  \n",
       "33               0.001069                 6.228222  \n",
       "34              -0.000447                -2.672924  \n",
       "35              -0.000545                -3.857766  \n",
       "36               0.007562                57.447131  \n",
       "37              -0.000928                -7.304392  \n",
       "38              -0.000413                -3.320324  \n",
       "39              -0.023010              -190.103427  \n",
       "40              -0.000544                -5.292894  \n",
       "41               0.000316                 3.861704  \n",
       "42              -0.004107               -51.917813  \n",
       "43               0.001705                36.342967  \n",
       "44              -0.001512               -36.710067  \n",
       "45              -0.001772               -44.226759  \n",
       "46               0.001898                47.875060  \n",
       "47               0.001992                50.746164  \n",
       "48              -0.001194               -48.321227  \n",
       "49               0.004300               200.000000  \n",
       "50               0.002263               200.000000  \n",
       "51               0.002199               200.000000  \n",
       "52              -0.001637              -200.000000  \n",
       "53               0.000000                      NaN  \n",
       "54               0.000000                      NaN  \n",
       "55               0.000000                      NaN  \n",
       "56               0.000000                      NaN  "
      ]
     },
     "execution_count": 41,
     "metadata": {},
     "output_type": "execute_result"
    }
   ],
   "source": [
    "combined = pd.concat([l1, l2], keys=['Feature_l1', 'Feature_l2'], axis = 1)\n",
    "combined['Average Weight'] = (combined['Feature_l1']['Abs Weight_l1'] \n",
    "                              + combined['Feature_l2']['Abs Weight_l2']) / 2\n",
    "average_weights = pd.DataFrame()\n",
    "average_weights['Mean_Abs_Weight'] = combined['Average Weight']\n",
    "average_weights['Feature'] = combined['Feature_l1']['Feature_l1']\n",
    "average_weights['l1_Weight'] = combined['Feature_l1']['Logistic Weight_l1']\n",
    "average_weights['l2_Weight'] = combined['Feature_l2']['Logistic Weight_l2']\n",
    "average_weights['Importance_Difference'] = average_weights['l1_Weight'] - average_weights['l2_Weight']\n",
    "average_weights['Importance_Difference_%'] = (average_weights['Importance_Difference'] \n",
    "                                              / average_weights['Mean_Abs_Weight'] \n",
    "                                              * 100)\n",
    "average_weights = average_weights.sort_values('Mean_Abs_Weight', ascending = False).reset_index(drop = True)\n",
    "average_weights"
   ]
  },
  {
   "cell_type": "markdown",
   "metadata": {},
   "source": [
    "### Refit with Important Features <a class=\"anchor\" id=\"Refit\"></a>\n",
    "\n",
    "The L2 regularized logistic model was refit with the 15 most important features (shown below).\n",
    "The produces 64.99% recall and 15.12% precision, which is an improvement over the baseline logistic model (Recall: 63.06%, Precision: 14.36%)."
   ]
  },
  {
   "cell_type": "code",
   "execution_count": 42,
   "metadata": {},
   "outputs": [
    {
     "data": {
      "text/plain": [
       "0                    EXT_SOURCE_2\n",
       "1         PERCENT_EMPLOYED_TO_AGE\n",
       "2                     CODE_GENDER\n",
       "3                      DAYS_BIRTH\n",
       "4             NAME_EDUCATION_TYPE\n",
       "5              NAME_CONTRACT_TYPE\n",
       "6                    FLAG_OWN_CAR\n",
       "7                 DAYS_ID_PUBLISH\n",
       "8                        EMPLOYED\n",
       "9     REGION_RATING_CLIENT_W_CITY\n",
       "10       DEF_30_CNT_SOCIAL_CIRCLE\n",
       "11                FLAG_WORK_PHONE\n",
       "12         DAYS_LAST_PHONE_CHANGE\n",
       "13         REG_CITY_NOT_LIVE_CITY\n",
       "14               NAME_INCOME_TYPE\n",
       "Name: Feature, dtype: object"
      ]
     },
     "execution_count": 42,
     "metadata": {},
     "output_type": "execute_result"
    }
   ],
   "source": [
    "average_weights.iloc[0:15].Feature"
   ]
  },
  {
   "cell_type": "code",
   "execution_count": 43,
   "metadata": {},
   "outputs": [
    {
     "name": "stdout",
     "output_type": "stream",
     "text": [
      "Classification Report\n",
      "\n",
      "Confusion Matrix\n",
      "Predicted      0      1    All\n",
      "True                          \n",
      "0          37781  18757  56538\n",
      "1           1857   3108   4965\n",
      "All        39638  21865  61503\n",
      "\n",
      "Accuracy: 66.48% \n",
      "Precision: 14.21% \n",
      "Recall: 62.60%\n"
     ]
    }
   ],
   "source": [
    "l = LogisticRegression(C = 0.001, \n",
    "                         penalty = 'l2',\n",
    "                         solver = 'lbfgs', \n",
    "                         random_state = random_state)\n",
    "l.fit(X[average_weights.iloc[0:15].Feature],y_train_svm)\n",
    "X_test_asdf = pd.DataFrame(X_test_svm, columns=downsampled.drop(labels = ['TARGET'], axis = 1).columns)\n",
    "preds = l.predict(X_test_asdf[average_weights.iloc[0:15].Feature])\n",
    "classification_report(y_test, preds)"
   ]
  },
  {
   "cell_type": "markdown",
   "metadata": {},
   "source": [
    "**ROC Curve**"
   ]
  },
  {
   "cell_type": "code",
   "execution_count": 44,
   "metadata": {},
   "outputs": [
    {
     "data": {
      "image/png": "[encoded data removed]",
      "text/plain": [
       "<Figure size 432x288 with 1 Axes>"
      ]
     },
     "metadata": {
      "needs_background": "light"
     },
     "output_type": "display_data"
    }
   ],
   "source": [
    "# Compute ROC curve and AUC\n",
    "\n",
    "fpr = dict() # false positive rate\n",
    "tpr = dict() # true positive rate\n",
    "roc_auc = dict() # area under the curve\n",
    "\n",
    "\n",
    "fpr, tpr, thresholds = roc_curve(y_test, l.predict_proba(X_test_asdf[average_weights.iloc[0:15].Feature])[:,1])\n",
    "roc_auc = auc(fpr,tpr)\n",
    "\n",
    "#plotting\n",
    "plt.figure()\n",
    "plt.plot(fpr, tpr, label= 'Logistic Regression (area = %0.2f)' % roc_auc)\n",
    "plt.plot([0,1],[0,1], 'r--')\n",
    "plt.xlim([0.0, 1.0])\n",
    "plt.ylim([0.0,1.05])\n",
    "plt.xlabel('False Positive Rate')\n",
    "plt.ylabel('True Positive Rate')\n",
    "plt.title('Receiver Operating Characteristic')\n",
    "plt.legend(loc = 'lower right')\n",
    "plt.show()"
   ]
  },
  {
   "cell_type": "markdown",
   "metadata": {},
   "source": [
    "## Logistic Regression Parameter Grid Search <a class=\"anchor\" id=\"GridSearch\"></a>\n",
    "\n",
    "Each type of regularized logistic regression was grid search for the best hyperparameters before fitting the model for estimating feature importances.\n",
    "\n",
    "* L2 Regulaization\n",
    "* L1 Regulaization\n",
    "* Elastic Net Regulaization\n",
    "\n",
    "### L2 Regulaization\n",
    "\n",
    "#### Grid Search Parameters\n",
    "\n",
    "* `C`\n",
    "  * Inverse of the regulaization strength \n",
    "  * (-10, 10) with 100 steps in a log space\n",
    "* `solver`\n",
    "  * Optimization algorithm\n",
    "  * ‘newton-cg’, ‘lbfgs’, ‘sag’ and ‘saga’ for L2 regularization\n",
    "* `l1_ratio`\n",
    "  * The elastic net mixing ratio\n",
    "  * (0, 1) with 100 steps"
   ]
  },
  {
   "cell_type": "code",
   "execution_count": 45,
   "metadata": {},
   "outputs": [
    {
     "name": "stdout",
     "output_type": "stream",
     "text": [
      "# Tuning hyper-parameters for precision\n",
      "\n",
      "Best parameters set found on development set:\n",
      "\n",
      "{'C': 0.3593813663804626, 'solver': 'saga'}\n",
      "\n",
      "Grid scores on development set:\n",
      "\n",
      "0.644 (+/-0.005) for {'C': 0.0001, 'solver': 'newton-cg'}\n",
      "0.644 (+/-0.005) for {'C': 0.0001, 'solver': 'lbfgs'}\n",
      "0.644 (+/-0.005) for {'C': 0.0001, 'solver': 'sag'}\n",
      "0.644 (+/-0.005) for {'C': 0.0001, 'solver': 'saga'}\n",
      "0.647 (+/-0.007) for {'C': 0.000774263682681127, 'solver': 'newton-cg'}\n",
      "0.647 (+/-0.007) for {'C': 0.000774263682681127, 'solver': 'lbfgs'}\n",
      "0.647 (+/-0.007) for {'C': 0.000774263682681127, 'solver': 'sag'}\n",
      "0.647 (+/-0.007) for {'C': 0.000774263682681127, 'solver': 'saga'}\n",
      "0.648 (+/-0.007) for {'C': 0.005994842503189409, 'solver': 'newton-cg'}\n",
      "0.648 (+/-0.007) for {'C': 0.005994842503189409, 'solver': 'lbfgs'}\n",
      "0.648 (+/-0.007) for {'C': 0.005994842503189409, 'solver': 'sag'}\n",
      "0.648 (+/-0.007) for {'C': 0.005994842503189409, 'solver': 'saga'}\n",
      "0.648 (+/-0.007) for {'C': 0.046415888336127774, 'solver': 'newton-cg'}\n",
      "0.648 (+/-0.007) for {'C': 0.046415888336127774, 'solver': 'lbfgs'}\n",
      "0.648 (+/-0.007) for {'C': 0.046415888336127774, 'solver': 'sag'}\n",
      "0.648 (+/-0.008) for {'C': 0.046415888336127774, 'solver': 'saga'}\n",
      "0.648 (+/-0.007) for {'C': 0.3593813663804626, 'solver': 'newton-cg'}\n",
      "0.648 (+/-0.007) for {'C': 0.3593813663804626, 'solver': 'lbfgs'}\n",
      "0.648 (+/-0.008) for {'C': 0.3593813663804626, 'solver': 'sag'}\n",
      "0.648 (+/-0.007) for {'C': 0.3593813663804626, 'solver': 'saga'}\n",
      "0.648 (+/-0.007) for {'C': 2.782559402207126, 'solver': 'newton-cg'}\n",
      "0.648 (+/-0.007) for {'C': 2.782559402207126, 'solver': 'lbfgs'}\n",
      "0.648 (+/-0.008) for {'C': 2.782559402207126, 'solver': 'sag'}\n",
      "0.648 (+/-0.008) for {'C': 2.782559402207126, 'solver': 'saga'}\n",
      "0.648 (+/-0.007) for {'C': 21.54434690031882, 'solver': 'newton-cg'}\n",
      "0.648 (+/-0.007) for {'C': 21.54434690031882, 'solver': 'lbfgs'}\n",
      "0.648 (+/-0.008) for {'C': 21.54434690031882, 'solver': 'sag'}\n",
      "0.648 (+/-0.008) for {'C': 21.54434690031882, 'solver': 'saga'}\n",
      "0.648 (+/-0.007) for {'C': 166.81005372000558, 'solver': 'newton-cg'}\n",
      "0.648 (+/-0.008) for {'C': 166.81005372000558, 'solver': 'lbfgs'}\n",
      "0.648 (+/-0.008) for {'C': 166.81005372000558, 'solver': 'sag'}\n",
      "0.648 (+/-0.008) for {'C': 166.81005372000558, 'solver': 'saga'}\n",
      "0.648 (+/-0.007) for {'C': 1291.5496650148827, 'solver': 'newton-cg'}\n",
      "0.648 (+/-0.007) for {'C': 1291.5496650148827, 'solver': 'lbfgs'}\n",
      "0.648 (+/-0.008) for {'C': 1291.5496650148827, 'solver': 'sag'}\n",
      "0.648 (+/-0.008) for {'C': 1291.5496650148827, 'solver': 'saga'}\n",
      "0.648 (+/-0.007) for {'C': 10000.0, 'solver': 'newton-cg'}\n",
      "0.648 (+/-0.007) for {'C': 10000.0, 'solver': 'lbfgs'}\n",
      "0.648 (+/-0.008) for {'C': 10000.0, 'solver': 'sag'}\n",
      "0.648 (+/-0.008) for {'C': 10000.0, 'solver': 'saga'}\n",
      "\n",
      "Detailed classification report:\n",
      "\n",
      "The model is trained on the full development set.\n",
      "The scores are computed on the full evaluation set.\n",
      "\n",
      "Classification Report\n",
      "\n",
      "Confusion Matrix\n",
      "Predicted      0      1    All\n",
      "True                          \n",
      "0          37865  18673  56538\n",
      "1           1837   3128   4965\n",
      "All        39702  21801  61503\n",
      "\n",
      "Accuracy: 66.65% \n",
      "Precision: 14.35% \n",
      "Recall: 63.00%\n",
      "None\n",
      "\n",
      "# Tuning hyper-parameters for recall\n",
      "\n",
      "Best parameters set found on development set:\n",
      "\n",
      "{'C': 0.3593813663804626, 'solver': 'saga'}\n",
      "\n",
      "Grid scores on development set:\n",
      "\n",
      "0.644 (+/-0.005) for {'C': 0.0001, 'solver': 'newton-cg'}\n",
      "0.644 (+/-0.005) for {'C': 0.0001, 'solver': 'lbfgs'}\n",
      "0.644 (+/-0.005) for {'C': 0.0001, 'solver': 'sag'}\n",
      "0.644 (+/-0.005) for {'C': 0.0001, 'solver': 'saga'}\n",
      "0.647 (+/-0.007) for {'C': 0.000774263682681127, 'solver': 'newton-cg'}\n",
      "0.647 (+/-0.007) for {'C': 0.000774263682681127, 'solver': 'lbfgs'}\n",
      "0.647 (+/-0.007) for {'C': 0.000774263682681127, 'solver': 'sag'}\n",
      "0.647 (+/-0.007) for {'C': 0.000774263682681127, 'solver': 'saga'}\n",
      "0.648 (+/-0.007) for {'C': 0.005994842503189409, 'solver': 'newton-cg'}\n",
      "0.648 (+/-0.007) for {'C': 0.005994842503189409, 'solver': 'lbfgs'}\n",
      "0.648 (+/-0.007) for {'C': 0.005994842503189409, 'solver': 'sag'}\n",
      "0.648 (+/-0.007) for {'C': 0.005994842503189409, 'solver': 'saga'}\n",
      "0.648 (+/-0.007) for {'C': 0.046415888336127774, 'solver': 'newton-cg'}\n",
      "0.648 (+/-0.007) for {'C': 0.046415888336127774, 'solver': 'lbfgs'}\n",
      "0.648 (+/-0.007) for {'C': 0.046415888336127774, 'solver': 'sag'}\n",
      "0.648 (+/-0.007) for {'C': 0.046415888336127774, 'solver': 'saga'}\n",
      "0.648 (+/-0.007) for {'C': 0.3593813663804626, 'solver': 'newton-cg'}\n",
      "0.648 (+/-0.007) for {'C': 0.3593813663804626, 'solver': 'lbfgs'}\n",
      "0.648 (+/-0.008) for {'C': 0.3593813663804626, 'solver': 'sag'}\n",
      "0.648 (+/-0.007) for {'C': 0.3593813663804626, 'solver': 'saga'}\n",
      "0.648 (+/-0.007) for {'C': 2.782559402207126, 'solver': 'newton-cg'}\n",
      "0.648 (+/-0.007) for {'C': 2.782559402207126, 'solver': 'lbfgs'}\n",
      "0.648 (+/-0.007) for {'C': 2.782559402207126, 'solver': 'sag'}\n",
      "0.648 (+/-0.007) for {'C': 2.782559402207126, 'solver': 'saga'}\n",
      "0.648 (+/-0.007) for {'C': 21.54434690031882, 'solver': 'newton-cg'}\n",
      "0.648 (+/-0.007) for {'C': 21.54434690031882, 'solver': 'lbfgs'}\n",
      "0.648 (+/-0.007) for {'C': 21.54434690031882, 'solver': 'sag'}\n",
      "0.648 (+/-0.007) for {'C': 21.54434690031882, 'solver': 'saga'}\n",
      "0.648 (+/-0.007) for {'C': 166.81005372000558, 'solver': 'newton-cg'}\n",
      "0.648 (+/-0.007) for {'C': 166.81005372000558, 'solver': 'lbfgs'}\n",
      "0.648 (+/-0.007) for {'C': 166.81005372000558, 'solver': 'sag'}\n",
      "0.648 (+/-0.007) for {'C': 166.81005372000558, 'solver': 'saga'}\n",
      "0.648 (+/-0.007) for {'C': 1291.5496650148827, 'solver': 'newton-cg'}\n",
      "0.648 (+/-0.007) for {'C': 1291.5496650148827, 'solver': 'lbfgs'}\n",
      "0.648 (+/-0.007) for {'C': 1291.5496650148827, 'solver': 'sag'}\n",
      "0.648 (+/-0.007) for {'C': 1291.5496650148827, 'solver': 'saga'}\n",
      "0.648 (+/-0.007) for {'C': 10000.0, 'solver': 'newton-cg'}\n",
      "0.648 (+/-0.007) for {'C': 10000.0, 'solver': 'lbfgs'}\n",
      "0.648 (+/-0.007) for {'C': 10000.0, 'solver': 'sag'}\n",
      "0.648 (+/-0.007) for {'C': 10000.0, 'solver': 'saga'}\n",
      "\n",
      "Detailed classification report:\n",
      "\n",
      "The model is trained on the full development set.\n",
      "The scores are computed on the full evaluation set.\n",
      "\n",
      "Classification Report\n",
      "\n",
      "Confusion Matrix\n",
      "Predicted      0      1    All\n",
      "True                          \n",
      "0          37865  18673  56538\n",
      "1           1837   3128   4965\n",
      "All        39702  21801  61503\n",
      "\n",
      "Accuracy: 66.65% \n",
      "Precision: 14.35% \n",
      "Recall: 63.00%\n",
      "None\n",
      "\n"
     ]
    }
   ],
   "source": [
    "scores = ['precision', 'recall']\n",
    "\n",
    "# Create tuned parameters.\n",
    "tuned_parameters = [\n",
    "    {\n",
    "        'solver':[\n",
    "                     'newton-cg',\n",
    "                     'lbfgs',\n",
    "                     'sag',\n",
    "                     'saga'\n",
    "                 ],\n",
    "        'C':np.logspace(-4, 4, 10)\n",
    "    }]\n",
    "\n",
    "model = LogisticRegression(penalty = 'l2', random_state = random_state)\n",
    "\n",
    "for score in scores:\n",
    "    print(\"# Tuning hyper-parameters for %s\" % score)\n",
    "    print()\n",
    "\n",
    "    clf = GridSearchCV(\n",
    "        model,\n",
    "        tuned_parameters,\n",
    "        scoring='%s_macro' % score\n",
    "    )\n",
    "    clf.fit(X_train_svm, y_train_svm)\n",
    "\n",
    "    print(\"Best parameters set found on development set:\")\n",
    "    print()\n",
    "    print(clf.best_params_)\n",
    "    print()\n",
    "    print(\"Grid scores on development set:\")\n",
    "    print()\n",
    "    means = clf.cv_results_['mean_test_score']\n",
    "    stds = clf.cv_results_['std_test_score']\n",
    "    for mean, std, params in zip(means, stds, clf.cv_results_['params']):\n",
    "        print(\"%0.3f (+/-%0.03f) for %r\"\n",
    "              % (mean, std * 2, params))\n",
    "    print()\n",
    "\n",
    "    print(\"Detailed classification report:\")\n",
    "    print()\n",
    "    print(\"The model is trained on the full development set.\")\n",
    "    print(\"The scores are computed on the full evaluation set.\")\n",
    "    print()\n",
    "    y_true, y_pred = y_test, clf.predict(X_test_svm)\n",
    "    print(classification_report(y_true, y_pred))\n",
    "    print()\n",
    "    \n",
    "# Fit on data\n",
    "#best_clf = clf.fit(X_train_svm, y_train_svm)"
   ]
  },
  {
   "cell_type": "markdown",
   "metadata": {},
   "source": [
    "## l1 Regularization\n",
    "\n",
    "#### Grid Search Parameters\n",
    "\n",
    "* `C`\n",
    "  * Inverse of the regulaization strength \n",
    "  * (-10, 10) with 100 steps in a log space\n",
    "* `solver`\n",
    "  * Optimization algorithm\n",
    "  * ‘liblinear’ and ‘saga’ for L1 regularization\n",
    "* `l1_ratio`\n",
    "  * The elastic net mixing ratio\n",
    "  * (0, 1) with 100 steps"
   ]
  },
  {
   "cell_type": "code",
   "execution_count": null,
   "metadata": {},
   "outputs": [],
   "source": [
    "```python\n",
    "scores = ['precision', 'recall']\n",
    "\n",
    "# Create tuned parameters.\n",
    "tuned_parameters = [\n",
    "    {\n",
    "        'solver':[\n",
    "                     'liblinear',\n",
    "                     'saga'\n",
    "                 ],\n",
    "        'C':np.logspace(-4, 4, 10)\n",
    "    }]\n",
    "\n",
    "model = LogisticRegression(penalty = 'l1', random_state = random_state)\n",
    "\n",
    "for score in scores:\n",
    "    print(\"# Tuning hyper-parameters for %s\" % score)\n",
    "    print()\n",
    "\n",
    "    clf = GridSearchCV(\n",
    "        model,\n",
    "        tuned_parameters,\n",
    "        scoring='%s_macro' % score\n",
    "    )\n",
    "    clf.fit(X_train_svm, y_train_svm)\n",
    "\n",
    "    print(\"Best parameters set found on development set:\")\n",
    "    print()\n",
    "    print(clf.best_params_)\n",
    "    print()\n",
    "    print(\"Grid scores on development set:\")\n",
    "    print()\n",
    "    means = clf.cv_results_['mean_test_score']\n",
    "    stds = clf.cv_results_['std_test_score']\n",
    "    for mean, std, params in zip(means, stds, clf.cv_results_['params']):\n",
    "        print(\"%0.3f (+/-%0.03f) for %r\"\n",
    "              % (mean, std * 2, params))\n",
    "    print()\n",
    "\n",
    "    print(\"Detailed classification report:\")\n",
    "    print()\n",
    "    print(\"The model is trained on the full development set.\")\n",
    "    print(\"The scores are computed on the full evaluation set.\")\n",
    "    print()\n",
    "    y_true, y_pred = y_test, clf.predict(X_test_svm)\n",
    "    print(classification_report(y_true, y_pred))\n",
    "    print()\n",
    "    \n",
    "```"
   ]
  },
  {
   "cell_type": "markdown",
   "metadata": {},
   "source": [
    "### Elastic Net\n",
    "#### Grid Search Parameters\n",
    "\n",
    "* `C`\n",
    "  * Inverse of the regulaization strength \n",
    "  * (-4, 4) with 10 steps in a log space\n",
    "* `solver`\n",
    "  * Optimization algorithm\n",
    "  * ‘saga’ for elastic-net\n",
    "* `l1_ratio`\n",
    "  * The elastic net mixing ratio\n",
    "  * (0, 1) with 10 steps"
   ]
  },
  {
   "cell_type": "code",
   "execution_count": null,
   "metadata": {},
   "outputs": [],
   "source": [
    "```python\n",
    "scores = ['precision', 'recall']\n",
    "\n",
    "# Create tuned parameters.\n",
    "tuned_parameters = [\n",
    "    {\n",
    "        'solver':['saga'],\n",
    "        'C':np.logspace(-4, 4, 10),\n",
    "        'l1_ratio':np.linspace(0, 1, 10)\n",
    "    }]\n",
    "\n",
    "model = LogisticRegression(penalty = 'elasticnet', random_state = random_state)\n",
    "\n",
    "for score in scores:\n",
    "    print(\"# Tuning hyper-parameters for %s\" % score)\n",
    "    print()\n",
    "\n",
    "    clf = GridSearchCV(\n",
    "        model,\n",
    "        tuned_parameters,\n",
    "        scoring='%s_macro' % score\n",
    "    )\n",
    "    clf.fit(X_train_svm, y_train_svm)\n",
    "\n",
    "    print(\"Best parameters set found on development set:\")\n",
    "    print()\n",
    "    print(clf.best_params_)\n",
    "    print()\n",
    "    print(\"Grid scores on development set:\")\n",
    "    print()\n",
    "    means = clf.cv_results_['mean_test_score']\n",
    "    stds = clf.cv_results_['std_test_score']\n",
    "    for mean, std, params in zip(means, stds, clf.cv_results_['params']):\n",
    "        print(\"%0.3f (+/-%0.03f) for %r\"\n",
    "              % (mean, std * 2, params))\n",
    "    print()\n",
    "\n",
    "    print(\"Detailed classification report:\")\n",
    "    print()\n",
    "    print(\"The model is trained on the full development set.\")\n",
    "    print(\"The scores are computed on the full evaluation set.\")\n",
    "    print()\n",
    "    y_true, y_pred = y_test, clf.predict(X_test_svm)\n",
    "    print(classification_report(y_true, y_pred))\n",
    "    print()\n",
    "    \n",
    "```"
   ]
  },
  {
   "cell_type": "code",
   "execution_count": null,
   "metadata": {},
   "outputs": [],
   "source": []
  },
  {
   "cell_type": "code",
   "execution_count": null,
   "metadata": {},
   "outputs": [],
   "source": []
  },
  {
   "cell_type": "code",
   "execution_count": null,
   "metadata": {},
   "outputs": [],
   "source": []
  },
  {
   "cell_type": "markdown",
   "metadata": {},
   "source": [
    "## 2.  Stage Four - Modeling and Evaluation (Q2) <a class=\"DataUnderstanding\" id=\"EDA\"></a>"
   ]
  },
  {
   "cell_type": "markdown",
   "metadata": {},
   "source": [
    "## 2.1 Choose and explain your evaluation metrics (Q2A) <a class=\"anchor\" id=\"Evaluaation\"></a>\n"
   ]
  },
  {
   "cell_type": "markdown",
   "metadata": {},
   "source": [
    "Due to the significant overlap between the classes in our dataset, we have elected to evaluate our models using the recall metric. Recall is the ratio of accurately predicted defaults to total defaults, which allows us to extract value from the model. \n",
    "\n",
    "We will provide an example of why we deemed this necessary.\n",
    "\n",
    "Below is a Gradient Boosting Machines model that uses the entire dataset to make class predictions:"
   ]
  },
  {
   "cell_type": "code",
   "execution_count": null,
   "metadata": {},
   "outputs": [],
   "source": [
    " # enabling sklearn's experimental gradient boosting machine algorithm\n",
    "from sklearn.experimental import enable_hist_gradient_boosting  # noqa\n",
    " # now you can import normally from ensemble\n",
    "from sklearn.ensemble import HistGradientBoostingClassifier\n",
    "\n",
    "clf = HistGradientBoostingClassifier().fit(X_train_std, y_train)\n",
    "clf.score(X_train_std, y_train)"
   ]
  },
  {
   "cell_type": "markdown",
   "metadata": {},
   "source": [
    "An accuracy of 92% is deceptive. The significant imbalance of the dataset creates this deception. The goal of the analysis is to build a model capable of predicting loan defaults. If we remember that over 90% of the loans in the dataset were in good standing, we can then understand how our model can easily achieve an accuracy of at least 90% by sheer coincidence. \n",
    "\n",
    "We will now observe the recall of the trained model:"
   ]
  },
  {
   "cell_type": "code",
   "execution_count": null,
   "metadata": {},
   "outputs": [],
   "source": [
    "from sklearn.model_selection import cross_val_score\n",
    "cross_val_score(clf, X_train_std, y_train, cv = 5, scoring = 'recall')"
   ]
  },
  {
   "cell_type": "markdown",
   "metadata": {},
   "source": [
    "The recall ability of this model ranges from 1.1% to 1.3%. This reveals that the model is useless for predicting loan defaults. \n",
    "\n",
    "We will experiment with various resampling strategies until significant improvements are made."
   ]
  },
  {
   "cell_type": "markdown",
   "metadata": {},
   "source": [
    "## 2.2 Choose the method you will use for dividing your data (Q2B) <a class=\"anchor\" id=\"Describedata\"></a>"
   ]
  },
  {
   "cell_type": "markdown",
   "metadata": {},
   "source": [
    "We are using an 80/20 training : test set split.\n",
    "\n",
    "As previously mentioned in section 1.2 (Data Description) we concluded that it was necessary to implement a sampling strategy on the training set in order to make a useful model for predicting loan defaults. \n",
    "\n",
    "As a justification of the use of a generic sampling strategy with this dataset, we will provide an example of the effectiveness of simple Randum Under Sampling."
   ]
  },
  {
   "cell_type": "code",
   "execution_count": null,
   "metadata": {},
   "outputs": [],
   "source": [
    "from imblearn.under_sampling import RandomUnderSampler\n",
    "X = X_train_std\n",
    "y = data.TARGET\n",
    "rus = RandomUnderSampler(random_state = 1)\n",
    "X_rus, y_rus = rus.fit_resample(X,y)\n",
    "y_rus.shape"
   ]
  },
  {
   "cell_type": "code",
   "execution_count": null,
   "metadata": {},
   "outputs": [],
   "source": [
    "clf = HistGradientBoostingClassifier().fit(X_rus, y_rus)\n",
    "clf.score(X_rus, y_rus)"
   ]
  },
  {
   "cell_type": "code",
   "execution_count": null,
   "metadata": {},
   "outputs": [],
   "source": [
    "cross_val_score(clf, X_rus, y_rus, cv = 5, scoring = 'recall')"
   ]
  },
  {
   "cell_type": "markdown",
   "metadata": {},
   "source": [
    "Applying random under-sampling of the majority class permits the gradient boosting algorithm to better define the class differences. Our ability to detect loans that enter default status increased over 60%."
   ]
  },
  {
   "cell_type": "markdown",
   "metadata": {},
   "source": [
    "## 2.3  Create three different classification/regression models (Q2C) <a class=\"anchor\" id=\"Models\"></a>\n",
    "\n"
   ]
  },
  {
   "cell_type": "markdown",
   "metadata": {},
   "source": [
    "Fill"
   ]
  },
  {
   "cell_type": "markdown",
   "metadata": {},
   "source": [
    "## 2.4 Analyze the results using your chosen method of evaluation (Q2D) <a class=\"anchor\" id=\"Analyze\"></a>"
   ]
  },
  {
   "cell_type": "markdown",
   "metadata": {},
   "source": [
    "\n",
    "Fill"
   ]
  },
  {
   "cell_type": "markdown",
   "metadata": {},
   "source": [
    "## 2.5 Discuss the advantages of each model for each classification task (Q2E) <a class=\"anchor\" id=\"Advantages\"></a>"
   ]
  },
  {
   "cell_type": "markdown",
   "metadata": {},
   "source": [
    "\n",
    "Fill"
   ]
  },
  {
   "cell_type": "markdown",
   "metadata": {},
   "source": [
    "## 2.6 Which attributes from your analysis are most important (Q2F) <a class=\"anchor\" id=\"Attributes\"></a>"
   ]
  },
  {
   "cell_type": "markdown",
   "metadata": {},
   "source": [
    "\n",
    "Fill"
   ]
  },
  {
   "cell_type": "code",
   "execution_count": null,
   "metadata": {},
   "outputs": [],
   "source": []
  },
  {
   "cell_type": "markdown",
   "metadata": {},
   "source": [
    "# 3. Stage Five - Deployment (Q3) <a class=\"anchor\" id=\"Deployment\"></a>"
   ]
  },
  {
   "cell_type": "markdown",
   "metadata": {},
   "source": [
    "## 3.1 How useful is your model for interested parties (i.e., the companies or organizations that might want to use it for prediction)? How would you measure the model's value if it was used by these parties? How would your deploy your model for interested parties? What other data should be collected? How often would the model need to be updated, etc.? (Q3A) <a class=\"anchor\" id=\"Value\"></a>\n",
    "\n"
   ]
  },
  {
   "cell_type": "markdown",
   "metadata": {},
   "source": [
    "# A1. Disclaimer<a class=\"anchor\" id=\"Disclaimer\"></a>"
   ]
  },
  {
   "cell_type": "markdown",
   "metadata": {},
   "source": [
    "## Disclaimer for Home Credit Default Research Paper\n",
    "If you require any more information or have any questions about this papers disclaimer, please feel free to contact us by email at mschwan@smu.edu\n",
    "## Disclaimers for Home Credit Default Research Paper\n",
    "All the information for this research paper is published in good faith and for general information purpose only. Spring 2020 SMU Machine Learning One project team Schwan, Adams, Stewart, and Howard does not make any warranties about the completeness, reliability, and accuracy of this information. Any action you take upon the information you find within this paper is strictly at your own risk. This project team will not be liable for any losses and/or damages in connection with the use of our research analysis paper.\n",
    "From our references, you can visit other websites and papers by following hyperlinks to such external sites. While we strive to provide only quality research references to useful and ethical content, we have no control over the content and nature of these sites. These links to other websites and papers do not imply a recommendation for all the content found within. Please be also aware that when you leave our website, other sites may have different privacy policies and terms which are beyond our control. Please be sure to check the Privacy Policies of these sites as well as their “Terms of Service” before engaging in any business or uploading any information.\n",
    "## Consent\n",
    "By reading our research paper content, you hereby consent to our disclaimer and agree to its terms.\n",
    "## Update\n",
    "Should we update, amend or make any changes to this document, those changes will be prominently posted here.\n",
    "\n"
   ]
  },
  {
   "cell_type": "code",
   "execution_count": null,
   "metadata": {},
   "outputs": [],
   "source": []
  }
 ],
 "metadata": {
  "kernelspec": {
   "display_name": "Python 3",
   "language": "python",
   "name": "python3"
  },
  "language_info": {
   "codemirror_mode": {
    "name": "ipython",
    "version": 3
   },
   "file_extension": ".py",
   "mimetype": "text/x-python",
   "name": "python",
   "nbconvert_exporter": "python",
   "pygments_lexer": "ipython3",
   "version": "3.7.4"
  }
 },
 "nbformat": 4,
 "nbformat_minor": 4
}
