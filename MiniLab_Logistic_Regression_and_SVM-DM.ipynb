{
 "cells": [
  {
   "cell_type": "markdown",
   "metadata": {},
   "source": [
    "## MiniLab Project Requirments -\n",
    "1. [Data Preparation](#DataPreparation)\n",
    "    1. [Data preperation for logistics regression model](#LogisticDataSet)\n",
    "    2. [Data preperation for Support Vector Machine](#SVGDataSet)\n",
    "\n",
    "2. [Modeling and Evaluation](#ModelEvaluation)\n",
    "    1. [Create a logistic regression model](#LRM)\n",
    "    2. [Evaluation of logistic regression model](#LRMEval)\n",
    "    3. [Support Vector Machine model](#SVG)\n",
    "    4. [SVG evaluation](#SVGEval)\n",
    "    5. [Discuss the advantages of each model for each classification task](#Advantages)\n",
    "    6. [Use the weights from logistic regression to interpret the importance of features for each classification task](#Weights)\n",
    "    7. [Look at the chosen support vectors for the classification task. Do these provide any insight into the data?](#SVGInsights) \n",
    "3. [Modeling Conclusions](#Conclusions)\n"
   ]
  },
  {
   "cell_type": "markdown",
   "metadata": {},
   "source": [
    "# Mel Schwan, Stuart Miller, Justin Howard, Paul Adams\n",
    "# Mini Lab: Logistic Regression and Support Vector Machine"
   ]
  },
  {
   "cell_type": "markdown",
   "metadata": {},
   "source": [
    "In MiniLab2 we will perform predictive analysis (classification) upon a data set we cleaned in the Lab1. We will model the dataset using methods we have discussed in class. Logistic regression and support vector machines will be used in making conclusions from the analysis. The following phases of CRISP will be documented it the notebook.\n"
   ]
  },
  {
   "cell_type": "markdown",
   "metadata": {},
   "source": [
    "<img src=\"./crisps-dm-minilab.png\" style=\"width:550px;height:450px\"/>\n"
   ]
  },
  {
   "cell_type": "markdown",
   "metadata": {},
   "source": [
    "# 1. Stage Three - Data Preperation (Q1)   <a class=\"anchor\" id=\"DataPreparation\"></a>\n",
    "We will use the Home Credit Default Risk dataset made available on Kaggle to develop a useful model that predicts loan defaults for a majority of the loan applicants whose population is defined by the given training and test datasets. Predicting loan defaults is essential to the profitability of banks and, given the competitive nature of the loan market, a bank that collects the right data can offer and service more loans. This analysis of Home Credit's Default Risk dataset will focus on generating accurate loan default risk probabilities, identifying sub-populations among the given applicants, and finally, the most critical factors that indicate that an applicant will likely default on their loan.\n",
    "\n",
    "FROM TEMPLATE\n",
    "This is the stage of the project where you decide on the data that you're going to use for analysis. The criteria you might use to make this decision include the relevance of the data to your data mining goals, the quality of the data, and also technical constraints such as limits on data volume or data types. Note that data selection covers selection of attributes (columns) as well as selection of records (rows) in a table."
   ]
  },
  {
   "cell_type": "markdown",
   "metadata": {},
   "source": [
    "## 1.1 Data preperation for logistics regression model (Q1A)<a class=\"anchor\" id=\"LogisticDataSet\"></a>"
   ]
  },
  {
   "cell_type": "markdown",
   "metadata": {},
   "source": [
    "The data types vary in scale and type, from time-series credit histories to demographic indicators. Our analysis will focus on two datasets, data collected in the application train and test datasets, and several engineered features gathered from the millions of credit bureau records for each loan applicant.\n",
    "Through additional data analysis we have discovered that we can increase the predicability accuracy with the inclusion of the EXTERNAL_SOURCE_1."
   ]
  },
  {
   "cell_type": "code",
   "execution_count": null,
   "metadata": {},
   "outputs": [],
   "source": []
  },
  {
   "cell_type": "markdown",
   "metadata": {},
   "source": [
    " ## 1.2 Data preperation for Support Vector Machine (Q1b) <a class=\"anchor\" id=\"SVGDataSet\"></a>"
   ]
  },
  {
   "cell_type": "markdown",
   "metadata": {},
   "source": [
    "\n",
    "Fill"
   ]
  },
  {
   "cell_type": "markdown",
   "metadata": {},
   "source": [
    "## 2.  Stage Four - Modeling and Evaluation (Q2) <a class=\"ModelEvaluation\" id=\"EDA\"></a>"
   ]
  },
  {
   "cell_type": "markdown",
   "metadata": {},
   "source": [
    "## 2.1 Create a logistic regression model (Q2A) <a class=\"anchor\" id=\"LRM\"></a>\n"
   ]
  },
  {
   "cell_type": "markdown",
   "metadata": {},
   "source": [
    "Fill"
   ]
  },
  {
   "cell_type": "markdown",
   "metadata": {},
   "source": [
    "## 2.2 Evaluation of logistic regression model (Q2B) <a class=\"anchor\" id=\"LRMEval\"></a>"
   ]
  },
  {
   "cell_type": "markdown",
   "metadata": {},
   "source": [
    "Fill"
   ]
  },
  {
   "cell_type": "markdown",
   "metadata": {},
   "source": [
    "## 2.3  Support Vector Machine model (Q2C) <a class=\"anchor\" id=\"SVG\"></a>\n",
    "\n"
   ]
  },
  {
   "cell_type": "markdown",
   "metadata": {},
   "source": [
    "Fill"
   ]
  },
  {
   "cell_type": "markdown",
   "metadata": {},
   "source": [
    "## 2.4 SVG evaluation (Q2D) <a class=\"anchor\" id=\"SVGEval\"></a>"
   ]
  },
  {
   "cell_type": "markdown",
   "metadata": {},
   "source": [
    "\n",
    "Fill"
   ]
  },
  {
   "cell_type": "markdown",
   "metadata": {},
   "source": [
    "## 2.5 Discuss the advantages of each model for each classification task (Q2E) <a class=\"anchor\" id=\"Advantages\"></a>"
   ]
  },
  {
   "cell_type": "markdown",
   "metadata": {},
   "source": [
    "\n",
    "Fill"
   ]
  },
  {
   "cell_type": "markdown",
   "metadata": {},
   "source": [
    "## 2.6 Use the weights from logistic regression to interpret the importance of features for each classification task (Q2F) <a class=\"anchor\" id=\"Weights\"></a>"
   ]
  },
  {
   "cell_type": "markdown",
   "metadata": {},
   "source": [
    "\n",
    "Fill"
   ]
  },
  {
   "cell_type": "markdown",
   "metadata": {},
   "source": [
    "## 2.7 Look at the chosen support vectors for the classification task. Do these provide any insight into the data? (Q2G) <a class=\"anchor\" id=\"SVGInsights\"></a>\n",
    "\n"
   ]
  },
  {
   "cell_type": "code",
   "execution_count": null,
   "metadata": {},
   "outputs": [],
   "source": [
    "Fill"
   ]
  },
  {
   "cell_type": "markdown",
   "metadata": {},
   "source": [
    "## 3.0 Modeling Conclusions (Q3) <a class=\"anchor\" id=\"Conclusions\"></a>"
   ]
  },
  {
   "cell_type": "markdown",
   "metadata": {},
   "source": [
    "Fill"
   ]
  }
 ],
 "metadata": {
  "kernelspec": {
   "display_name": "Python 3",
   "language": "python",
   "name": "python3"
  },
  "language_info": {
   "codemirror_mode": {
    "name": "ipython",
    "version": 3
   },
   "file_extension": ".py",
   "mimetype": "text/x-python",
   "name": "python",
   "nbconvert_exporter": "python",
   "pygments_lexer": "ipython3",
   "version": "3.6.8"
  }
 },
 "nbformat": 4,
 "nbformat_minor": 4
}
